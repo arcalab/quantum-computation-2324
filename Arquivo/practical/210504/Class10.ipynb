{
 "cells": [
  {
   "cell_type": "markdown",
   "id": "extraordinary-aside",
   "metadata": {},
   "source": [
    "# Qiskit 6 - 2020/2021"
   ]
  },
  {
   "cell_type": "markdown",
   "id": "bibliographic-butter",
   "metadata": {},
   "source": [
    "&nbsp;\n",
    "\n",
    "## Contents\n",
    "\n",
    "&nbsp;\n",
    "1. [Simon's Algorithm](#simon)\n",
    "\n",
    "2. [Quantum Fourier Transform](#qft)\n",
    "\n",
    "&nbsp;"
   ]
  },
  {
   "cell_type": "markdown",
   "id": "smart-suggestion",
   "metadata": {},
   "source": [
    "#### Module imports"
   ]
  },
  {
   "cell_type": "code",
   "execution_count": 3,
   "id": "opposite-sociology",
   "metadata": {},
   "outputs": [],
   "source": [
    "import numpy as np\n",
    "import matplotlib.pyplot as plt\n",
    "%matplotlib inline\n",
    "\n",
    "# importing Qiskit\n",
    "from qiskit import Aer, IBMQ\n",
    "from qiskit import QuantumCircuit, ClassicalRegister, QuantumRegister\n",
    "from qiskit import execute, transpile\n",
    "\n",
    "from qiskit.tools.visualization import plot_histogram\n",
    "\n",
    "#IBMQ.load_account()\n",
    "\n",
    "import math\n",
    "from math import pi"
   ]
  },
  {
   "cell_type": "markdown",
   "id": "metric-trance",
   "metadata": {},
   "source": [
    "# 1. [Simon's Algorithm](https://qiskit.org/textbook/ch-algorithms/simon.html) <a id='simon'></a>\n",
    "\n",
    " \n",
    "&nbsp;\n",
    "\n",
    "## The problem \n",
    "\n",
    "Let $f$ be a blackbox function, $f:\\{0,1\\}^n \\rightarrow \\{0,1\\}^n$.\n",
    "\n",
    "$$ f(x) = f(y) \\mbox{ iff } x=y \\mbox{ or } x= y \\oplus s$$\n",
    "\n",
    "Find $s$.\n",
    "\n",
    "<img src=\"https://qiskit.org/textbook/ch-algorithms/images/simon_steps.jpeg\" width=\"300 px\" align=\"center\"></img>\n",
    "\n",
    "\n",
    "**Exercise:** Implement\n",
    "\n",
    "n = 2 and s = 11\n"
   ]
  },
  {
   "cell_type": "markdown",
   "id": "discrete-carnival",
   "metadata": {},
   "source": [
    "Two n-qubit input registers are initialized to the zero state: \n",
    "$$ |\\psi_1 \\rangle = |0\\rangle ^{\\otimes n}|0\\rangle ^{\\otimes n} = |00\\rangle_1 |00\\rangle_2 $$"
   ]
  },
  {
   "cell_type": "code",
   "execution_count": null,
   "id": "parental-guinea",
   "metadata": {},
   "outputs": [],
   "source": []
  },
  {
   "cell_type": "markdown",
   "id": "pleased-instruction",
   "metadata": {},
   "source": [
    " Apply a Hadamard transform to the first register: \n",
    " $$ |\\psi_2 \\rangle = \\frac{1}{\\sqrt{2^n}} \\sum _{x \\in \\{0,1\\}^n } |x\\rangle|0\\rangle ^{\\otimes n}$$\n",
    " \n",
    " $$\\frac{1}{\\sqrt{2}} ( |00\\rangle_1 + | 01\\rangle_1 + |10\\rangle_1 + |11\\rangle_1 )|00\\rangle_2$$"
   ]
  },
  {
   "cell_type": "code",
   "execution_count": null,
   "id": "cleared-priority",
   "metadata": {},
   "outputs": [],
   "source": []
  },
  {
   "cell_type": "markdown",
   "id": "metropolitan-generator",
   "metadata": {},
   "source": [
    "Appy oracle:\n",
    " $$ |\\psi_3 \\rangle = \\frac{1}{\\sqrt{2^n}} \\sum _{x \\in \\{0,1\\}^n } |x\\rangle|f(x)\\rangle $$\n",
    " \n",
    " \n",
    " $$\\frac{1}{2} ( |00\\rangle_1| 00\\rangle_2 + | 10\\rangle_1 |11\\rangle_2 + |10\\rangle_1|11\\rangle_2 +| 11\\rangle |00\\rangle_2)$$"
   ]
  },
  {
   "cell_type": "raw",
   "id": "technological-committee",
   "metadata": {},
   "source": []
  },
  {
   "cell_type": "code",
   "execution_count": null,
   "id": "basic-stockholm",
   "metadata": {},
   "outputs": [],
   "source": []
  },
  {
   "cell_type": "markdown",
   "id": "native-stamp",
   "metadata": {},
   "source": [
    "Measure the second register. \n",
    "\n",
    "$$ |\\psi_4 \\rangle = \\frac{1}{\\sqrt{2}}(|x\\rangle + |y\\rangle )$$\n",
    "\n",
    "For instance, if the measument is $11$ then:\n",
    " $$\\frac{1}{\\sqrt{2}} ( |01 \\rangle_1 + |10 \\rangle_1)$$"
   ]
  },
  {
   "cell_type": "code",
   "execution_count": null,
   "id": "chronic-uncle",
   "metadata": {},
   "outputs": [],
   "source": []
  },
  {
   "cell_type": "markdown",
   "id": "mexican-printing",
   "metadata": {},
   "source": [
    "Apply Hadamard on the first register:\n",
    "\n",
    "$$|\\psi_5 \\rangle =\\frac{1}{\\sqrt{2^{n+1}}}\\sum_{z \\in\\{ 0,1\\}^n}((-1)^{x\\cdot z}+(-1)^{y \\cdot z}) | z \\rangle $$\n",
    "\n",
    "$$ \\frac{1}{\\sqrt{2}} (|00\\rangle - |11\\rangle )$$"
   ]
  },
  {
   "cell_type": "code",
   "execution_count": null,
   "id": "whole-american",
   "metadata": {},
   "outputs": [],
   "source": []
  },
  {
   "cell_type": "markdown",
   "id": "brazilian-blake",
   "metadata": {},
   "source": [
    "Measuring the first register\n",
    "\n",
    "$$(-1)^{x \\cdot z} = (-1)^{y \\cdot z}$$"
   ]
  },
  {
   "cell_type": "code",
   "execution_count": null,
   "id": "satisfactory-vintage",
   "metadata": {},
   "outputs": [],
   "source": []
  },
  {
   "cell_type": "markdown",
   "id": "capable-hospital",
   "metadata": {},
   "source": [
    "\n",
    "## . Quantum Fourier Transform<a id='qft'></a>\n",
    "\n",
    "&nbsp;\n",
    "\n",
    "The quantum Fourier transform is analogue to the discrete Fourier transform (DFT). Similarly to the classical case, it is a very useful mathematical tool, and a building block in many quantum algorithms, such as quantum phase estimation, computing the discrete logarithm, and Shor's algorithm for factoring.\n",
    "\n",
    "&nbsp;\n",
    "\n",
    "### (Classical) Fourier Transform\n",
    "\n",
    "In modern science and engineering, the Fourier transform is essential for signal processing and communications.\n",
    "\n",
    "The FT allows us to extract the underlying periodic behaviour of a function, by decomposing it into its constituent frequencies.\n",
    "\n",
    "&nbsp;\n",
    "\n",
    "<div class=\"alert alert-block alert-info\">\n",
    "\n",
    "**Example: Fourier transform for signal processing**\n",
    "\n",
    "&nbsp;\n",
    "\n",
    "<img src=\"https://terpconnect.umd.edu/~toh/spectrum/iFilterAnimation.gif\" alt=\"Note: In order for images to show up in this jupyter notebook you need to select File => Trusted Notebook\" width=\"800 px\" align=\"center\">\n",
    "\n",
    "<sup>**a)** Take a sinusoidal signal with high frequency noise; **b)** Apply the Fourier transform, getting a frequency spectrum; **c)** Apply the inverse Fourier transform to give a clean set of data.</sup>\n",
    "\n",
    "</div>\n",
    "\n",
    "&nbsp;\n",
    "\n",
    "### Discrete Fourier Transform\n",
    "\n",
    "The DFT is a version of the Fourier transform that works on discrete data sets.\n",
    "\n",
    "The discrete Fourier transform, $\\tilde{f}$ of a discrete function, $f = f_1 , \\cdots, f_N$ is given by\n",
    "\n",
    "$$ \\tilde{f}_k \\equiv \\frac{1}{\\sqrt{N}} \\sum^{N-1}_{j=0} e^{2\\pi ijk/N} f_j$$\n",
    "\n",
    "The inverse Fourier transform is expressed as\n",
    "\n",
    "$$ f_j \\equiv \\frac{1}{\\sqrt{N}} \\sum^{N-1}_{j=0} e^{-2\\pi ijk/N} \\tilde{f}_k$$\n",
    "\n",
    "With $f_j$ and $\\tilde{f}_k$ being complex numbers, and indices $j, k \\in \\{0, 1, \\cdots, N-1\\}$\n",
    "\n",
    "&nbsp;\n",
    "    "
   ]
  },
  {
   "cell_type": "markdown",
   "id": "exotic-trinidad",
   "metadata": {},
   "source": [
    "### Quantum Fourier tranform\n",
    "\n",
    "Qubit states are represented by vectors of complex numbers, so it makes sense that the DFT can be applied to them.\n",
    "\n",
    "Given a state vector:\n",
    "\n",
    "$$ | \\psi \\rangle = \\sum^{N-1}_{j=0} a_j |j\\rangle = \\begin{pmatrix}\n",
    "a_0\\\\ \n",
    "\\vdots\\\\ \n",
    "a_{N-1}\n",
    "\\end{pmatrix}$$\n",
    "\n",
    "The DFT (which we will now call the quantum Fourier transform, or QFT) can be computed over the _amplitudes_ of the quantum state\n",
    "\n",
    "$$ \\sum_j \\alpha_j |j\\rangle \\rightarrow \\sum_k \\tilde{\\alpha}_k |k \\rangle$$ where:\n",
    "\n",
    "$$\\tilde{\\alpha}_k \\equiv \\frac{1}{\\sqrt{N}} \\sum^{N-1}_{j=0} e^{2\\pi ijk/N} \\alpha_k$$\n",
    "\n",
    "&nbsp;\n",
    "\n",
    "We observe that the amplitudes $\\tilde{\\alpha}_k$ are linear in the original $\\alpha_j$. So there is a linear operator $\\hat{F}$ which implements the transform.\n",
    "\n",
    "We can write the matrix $\\hat{F}$ in outer product notation:\n",
    "\n",
    "&nbsp;\n",
    "\n",
    "$$\\hat{F} = \\sum_{j,k=0}^{N-1} \\frac{e^{2\\pi ijk/N}}{\\sqrt{N}} |k \\rangle \\langle j |$$\n",
    "\n",
    "&nbsp;\n",
    "\n",
    "The Fourier transform lets us define a new basis $|\\hat{x}\\rangle = \\hat{F}|x\\rangle$, where $\\{ |x\\rangle\\}$ is the usual computational basis - every vector $|\\hat{x}\\rangle$ is an equally weighted superposition of all the computational basis states.\n",
    "\n",
    "&nbsp;\n",
    "\n",
    "<div class=\"alert alert-block alert-info\">\n",
    "    \n",
    "**Position and Momentum**: \n",
    "\n",
    "&nbsp;\n",
    "\n",
    "* From earlier classes, recall the change of basis for a single-qubit state. What operation may be performed to change it between the computational and superposition basis?\n",
    "\n",
    "&nbsp;\n",
    "\n",
    "* The Hadamard transform also turns computational basis states into equally weighted superpositions of all states. But it leaves all amplitudes real, while the amplitudes of $| \\tilde{x}\\rangle$ are complex. And it is its own inverse, while $\\hat{F} \\neq \\hat{F}^\\dagger$\n",
    "\n",
    "&nbsp;\n",
    "\n",
    "* In physics, the relationship of this basis to the computational basis is analogous to that between the _momentum_ and _position_ bases of a particle.\n",
    "\n",
    "    \n",
    "</div>"
   ]
  },
  {
   "cell_type": "markdown",
   "id": "normal-italic",
   "metadata": {},
   "source": [
    "### QFT in the quantum circuit model of computation\n",
    "\n",
    "&nbsp;\n",
    "\n",
    "For the case of $n$ qubits, the vector describing a quantum state has dimension $N=2^n$. Since the QFT is an unitary operator, it can be implemented in a quantum circuit. Although there is no guarantee that such a circuit would be efficient (i.e. would not scale exponentially with the number of qubits), an efficient circuit _does_ exist.\n",
    "\n",
    "&nbsp;\n",
    "\n",
    "The key is to notice that the states $| \\hat{j} \\rangle$ can be written in a product form:\n",
    "\n",
    "* Let the binary expression for $j$ be $j_1 j_2 \\cdots j_n$, where:\n",
    "\n",
    "$$ j = j_1 2^{n-1} \\, +\\, j_2 2^{n-2} \\,+\\, \\cdots \\,+\\, j_n$$\n",
    "\n",
    "* Admit the following notation for binary fractions:\n",
    "\n",
    "$$ 0.j_1 j_2 \\cdots j_n = j_1 /2 + j_2 /4 + \\cdots + j_n /2^n$$\n",
    "\n",
    "* Then the state $|\\hat{j} \\rangle$ can be written as:\n",
    "\n",
    "$$ |\\hat{j} \\rangle  = \\frac{1}{2^n/2} (|0\\rangle + e^{2\\pi i 0.j_n }| 1\\rangle) \\, \\otimes \\, (|0\\rangle + e^{2\\pi i 0.j_{n-1}j_n }| 1\\rangle) \\, \\otimes \\, \\cdots \\, \\otimes \\, (|0\\rangle + e^{2\\pi i 0.j_1j_2\\cdots j_n }| 1\\rangle)$$\n",
    "\n",
    "&nbsp;\n",
    "\n",
    "A unitary that performs the transformation\n",
    "\n",
    "$$ |0\\rangle \\rightarrow \\frac {1}{\\sqrt{2}}(|0\\rangle + e^{i\\theta}|1\\rangle) \\; ;\\; |1\\rangle \\rightarrow \\frac {1}{\\sqrt{2}}(|0\\rangle - e^{i\\theta}|1\\rangle)$$\n",
    "\n",
    "may be decomposed into an Hadamard gate followed by a $Z$-rotation by $\\theta$.\n",
    "\n",
    "**However**, in the expression above, the rotation depends on the values of other bits. We can expect to build the QFT out of Hadamards and controlled-phase rotation gates.\n",
    "\n",
    "&nbsp;\n",
    "\n",
    "<img src=\"https://upload.wikimedia.org/wikipedia/commons/thumb/6/61/Q_fourier_nqubits.png/1920px-Q_fourier_nqubits.png\" alt=\"Note: In order for images to show up in this jupyter notebook you need to select File => Trusted Notebook\" width=\"700 px\" align=\"center\">\n",
    "\n",
    "&nbsp;\n",
    "\n"
   ]
  },
  {
   "cell_type": "raw",
   "id": "nasty-tongue",
   "metadata": {},
   "source": [
    "qr.__len__() # = 4\n",
    "\n",
    "# THEORIC INPUT STATE (FIGURE ABOVE)\n",
    "|q1 q2 q3 q4>\n",
    "\n",
    "# QISKIT INPUT STATE\n",
    "|q3 q2 q1 q0>"
   ]
  },
  {
   "cell_type": "markdown",
   "id": "structural-absorption",
   "metadata": {},
   "source": [
    "<div class=\"alert alert-block alert-danger\">\n",
    "\n",
    "**Attention**\n",
    "\n",
    "* In the figure above, notice the order of the input qubits (in comparison with Qiskit's circuit drawer);\n",
    "\n",
    "* Notice how after the QFT, the qubits of the transformed state are in reverse order. What can be done to correct this?\n",
    "\n",
    "</div>\n",
    "\n",
    "&nbsp;\n",
    "\n",
    "<div class=\"alert alert-block alert-info\">\n",
    "    \n",
    "**Controlled phase rotation in Qiskit**\n",
    "\n",
    "In Qiskit, the phase rotation gate, $u1(\\lambda)$, is defined as:\n",
    "\n",
    "$$u1(\\lambda) = \\begin{pmatrix} 1 & 0\\\\ 0 & e^{i\\lambda} \\end{pmatrix}$$\n",
    "\n",
    "Admit $\\lambda = 2\\pi/2^k$ so that we can define a rotation operator:\n",
    "\n",
    "$$R_k = \\begin{pmatrix} 1 & 0\\\\ 0 & e^{2\\pi i /2^k} \\end{pmatrix}$$\n",
    "\n",
    "The controlled-$R_k$ gate performs this rotation only if a control qubit is $|1\\rangle$ rather than $|0\\rangle$:\n",
    "\n",
    "$$CR_k = \\begin{pmatrix} 1 & 0 & 0 & 0\\\\ 0 & 1 & 0 & 0\\\\ 0 & 0 & 1 & 0\\\\ 0 & 0 & 0 & e^{2\\pi i /2^k} \\end{pmatrix}$$\n",
    "\n",
    "\n",
    "&nbsp;\n",
    "\n",
    "A controlled-$u1$ gate may be implemented in Qiskit with the instruction `cp(theta, ctrl, trg)`.\n",
    "</div>"
   ]
  },
  {
   "cell_type": "code",
   "execution_count": 4,
   "id": "yellow-master",
   "metadata": {},
   "outputs": [],
   "source": [
    "# Plot results\n",
    "def show_results(D):\n",
    "    # D is a dictionary with classical bits as keys and count as value\n",
    "    # example: D = {'000': 497, '001': 527}\n",
    "    plt.bar(range(len(D)), list(D.values()), align='center')\n",
    "    plt.xticks(range(len(D)), list(D.keys()))\n",
    "    plt.show()\n",
    "\n",
    "# Execute circuit, display a histogram of the results\n",
    "def execute_locally(qc, draw_circuit=False):\n",
    "    # Compile and run the Quantum circuit on a simulator backend\n",
    "    backend_sim = Aer.get_backend('qasm_simulator')\n",
    "    job_sim = execute(qc, backend_sim)\n",
    "    result_sim = job_sim.result()\n",
    "    result_counts = result_sim.get_counts(qc)\n",
    "    \n",
    "    # Print the results\n",
    "    print(\"simulation: \\n\\n\", result_counts)\n",
    "    show_results(result_counts)"
   ]
  },
  {
   "cell_type": "markdown",
   "id": "arctic-catering",
   "metadata": {},
   "source": [
    "<div class=\"alert alert-block alert-warning\">\n",
    "\n",
    "**Exercise - implementing the QFT**\n",
    "\n",
    "&nbsp;\n",
    "\n",
    "1. Implement a function `qftransform (circuit, qr, swap=True)` to perform the QFT over a register `qr`. The function should be able to ignore the swapping operations at the end when called with `swap=False`.\n",
    "\n",
    "&nbsp;\n",
    "\n",
    "2. How many controlled-$R_k$ gates are performed as a function of qubit number $n$? Does the circuit scale efficiently?\n",
    "\n",
    "</div>"
   ]
  },
  {
   "cell_type": "code",
   "execution_count": null,
   "id": "sound-business",
   "metadata": {},
   "outputs": [],
   "source": [
    "def qftransform(circuit, qr, swap=True):\n",
    "\n",
    "            \n",
    "qr=QuantumRegister(4)\n",
    "qc=QuantumCircuit(qr)\n",
    "\n",
    "qftransform(qc, qr)\n",
    "\n",
    "qc.draw(output='mpl', scale=1)"
   ]
  },
  {
   "cell_type": "markdown",
   "id": "cooperative-apple",
   "metadata": {},
   "source": [
    "**Ref**\n",
    "\n",
    "* [ Shor's Algorithm I: Understanding Quantum Fourier Transform, Quantum Phase Estimation - Part 1](https://www.youtube.com/watch?v=mAHC1dWKNYE)\n",
    "* [ Shor's Algorithm I: Understanding Quantum Fourier Transform, Quantum Phase Estimation - Part 2](https://www.youtube.com/watch?v=pq2jkfJlLmY)"
   ]
  },
  {
   "cell_type": "code",
   "execution_count": null,
   "id": "turkish-shape",
   "metadata": {},
   "outputs": [],
   "source": []
  }
 ],
 "metadata": {
  "kernelspec": {
   "display_name": "Python 3",
   "language": "python",
   "name": "python3"
  },
  "language_info": {
   "codemirror_mode": {
    "name": "ipython",
    "version": 3
   },
   "file_extension": ".py",
   "mimetype": "text/x-python",
   "name": "python",
   "nbconvert_exporter": "python",
   "pygments_lexer": "ipython3",
   "version": "3.9.2"
  }
 },
 "nbformat": 4,
 "nbformat_minor": 5
}
