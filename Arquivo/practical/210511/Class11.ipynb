{
 "cells": [
  {
   "cell_type": "markdown",
   "id": "tested-slave",
   "metadata": {},
   "source": [
    "# Quantum Computation - Week 7"
   ]
  },
  {
   "cell_type": "markdown",
   "id": "sized-meter",
   "metadata": {},
   "source": [
    "&nbsp;\n",
    "\n",
    "## Contents\n",
    "\n",
    "&nbsp;\n",
    "\n",
    "1. [Quantum Period Finding](#qpf)\n",
    "2. [Quantum Phase Estimation](#phase)\n",
    "\n",
    "&nbsp;"
   ]
  },
  {
   "cell_type": "markdown",
   "id": "appointed-dylan",
   "metadata": {},
   "source": [
    "**Module Imports**"
   ]
  },
  {
   "cell_type": "code",
   "execution_count": 5,
   "id": "chinese-intermediate",
   "metadata": {},
   "outputs": [],
   "source": [
    "import numpy as np\n",
    "import matplotlib.pyplot as plt\n",
    "%matplotlib inline\n",
    "\n",
    "# importing Qiskit\n",
    "from qiskit import Aer, IBMQ\n",
    "from qiskit import QuantumCircuit, ClassicalRegister, QuantumRegister\n",
    "from qiskit import execute, transpile\n",
    "\n",
    "from qiskit.tools.visualization import plot_histogram\n",
    "\n",
    "#IBMQ.load_account()\n",
    "\n",
    "import math\n",
    "from math import pi"
   ]
  },
  {
   "cell_type": "code",
   "execution_count": 6,
   "id": "cordless-campaign",
   "metadata": {},
   "outputs": [],
   "source": [
    "# Plot results\n",
    "def show_results(D):\n",
    "    # D is a dictionary with classical bits as keys and count as value\n",
    "    # example: D = {'000': 497, '001': 527}\n",
    "    plt.bar(range(len(D)), list(D.values()), align='center')\n",
    "    plt.xticks(range(len(D)), list(D.keys()))\n",
    "    plt.show()\n",
    "\n",
    "# Execute circuit, display a histogram of the results\n",
    "def execute_locally(qc, draw_circuit=False):\n",
    "    # Compile and run the Quantum circuit on a simulator backend\n",
    "    backend_sim = Aer.get_backend('qasm_simulator')\n",
    "    job_sim = execute(qc, backend_sim)\n",
    "    result_sim = job_sim.result()\n",
    "    result_counts = result_sim.get_counts(qc)\n",
    "    \n",
    "    # Print the results\n",
    "    print(\"simulation: \\n\\n\", result_counts)\n",
    "    show_results(result_counts)\n",
    "    return result_counts"
   ]
  },
  {
   "cell_type": "markdown",
   "id": "biblical-international",
   "metadata": {},
   "source": [
    "\n",
    "&nbsp;\n",
    "\n",
    "## 1. Quantum period finding <a id='qpf'></a>\n",
    "\n",
    "&nbsp;\n",
    "\n",
    "Admit a function $f(x)$ from $n$-bit numbers to $m$-bit numbers. Consider $f(x)$ periodic of period $r$, meaning that $\\forall x \\in \\{0,\\cdots,N-r-1\\}$, we have that $f(x) = f(x+r)$ and the values $f(x), f(x+1), \\cdots, f(x+r-1)$ are all distinct. Suppose also that $ r \\leq \\sqrt{N}/2$\n",
    "\n",
    "\n",
    "In a quantum algorithm, this function translates to an $n$-qubit input register and an $m$-qubit output register. We can prepare in the state:\n",
    "\n",
    "$$ | \\psi_0 \\rangle = \\frac{1}{\\sqrt{N}} \\sum_{x=0}^{2^n-1} | x\\rangle |0\\rangle$$\n",
    "\n",
    "Using $n$ Hadamard gates.\n",
    "\n",
    "We then apply a circuit that performs the unitary $\\hat{U}_f$:\n",
    "\n",
    "$$\\hat{U}_f | \\psi_0 \\rangle =\\frac{1}{\\sqrt{N}} \\sum_{x=0}^{2^n-1} | x\\rangle | f(x) \\rangle$$\n",
    "\n",
    "If we measure the output register _only_ , we get a particular value $a$. The input register will be left in an evenly-weighted superposition of all $x$ such that $f(x) = a$:\n",
    "\n",
    "$$\\frac{1}{\\sqrt{N/r}} \\sum_{n=0}^{N/r-1} |x_0 + nr \\rangle | a \\rangle$$\n",
    "\n",
    "From now on, we will ignore the output register since the measurement has fixed its state.\n",
    "\n",
    "If we apply the QFT to the input register, we will gate a state in the form:\n",
    "\n",
    "$$\\sum_{m=0}^{r-1} \\alpha_m |m N/r\\rangle$$\n",
    "\n",
    "If we now measure the input register, we would get one value $mN/r$, for some random $m$ between $0$ and $r-1$.\n",
    "\n",
    "* This is not enough to tell us the value of $N/r$, but if we run the algorithm $d$ times, we will get a sequence of integers $m_1 N/r, \\cdots, m_d N/r$ which are all multiples of $N/r$.\n"
   ]
  },
  {
   "cell_type": "markdown",
   "id": "dirty-directive",
   "metadata": {},
   "source": [
    "<div class=\"alert alert-block alert-warning\">\n",
    "\n",
    "**Exercise 1**\n",
    "\n",
    "&nbsp;\n",
    "\n",
    "Using the period finding technique detailed above, find the period of the function $f:\\{0,1\\}^3 \\rightarrow \\{0,1\\}^3$ below.\n",
    "\n",
    "&nbsp;\n",
    "\n",
    "Notes:\n",
    "\n",
    "* For a sufficiently large number of runs $d$ (which grows moderately in $N$) we can be confident that, with high probability, $N/r$ is the only common factor of all the numbers.\n",
    "\n",
    "\n",
    "</div>"
   ]
  },
  {
   "cell_type": "code",
   "execution_count": 6,
   "id": "forbidden-cleveland",
   "metadata": {},
   "outputs": [
    {
     "data": {
      "image/png": "[encoded data removed]",
      "text/plain": [
       "<Figure size 361.292x505.68 with 1 Axes>"
      ]
     },
     "execution_count": 6,
     "metadata": {},
     "output_type": "execute_result"
    }
   ],
   "source": [
    "qin = QuantumRegister(3, 'q_in')\n",
    "qout = QuantumRegister(3, 'q_out')\n",
    "cin = ClassicalRegister(3, 'c_in')\n",
    "cout = ClassicalRegister(3, 'c_out')\n",
    "qc = QuantumCircuit(qin, qout, cin, cout)\n",
    "\n",
    "qc.barrier()\n",
    "\n",
    "#Uf\n",
    "qc.cx(qin[0],qout[0])\n",
    "qc.cx(qin[1],qout[1])\n",
    "\n",
    "qc.barrier()\n",
    "\n",
    "qc.draw(output='mpl')"
   ]
  },
  {
   "cell_type": "code",
   "execution_count": null,
   "id": "found-darwin",
   "metadata": {},
   "outputs": [],
   "source": [
    "from math import gcd\n",
    "from functools import reduce\n",
    "\n",
    "#Simulate\n",
    "simulator = Aer.get_backend('qasm_simulator')\n",
    "job = execute(qc, simulator, shots=10)\n",
    "result = job.result()\n",
    "counts = result.get_counts(qc)\n",
    "\n",
    "# convert to numbers\n",
    "k=[]\n",
    "for i in counts.keys():\n",
    "    k.append(int(i[4:7],2))\n",
    "\n",
    "# get the maximum common divisor\n",
    "x = reduce(gcd, k)\n",
    "\n",
    "# period:\n",
    "n=qin.__len__()\n",
    "r=int(2**n/x)\n",
    "print(\"the period is: \"+str(r)+\".\")"
   ]
  },
  {
   "cell_type": "markdown",
   "id": "polyphonic-nelson",
   "metadata": {},
   "source": [
    "## 2. Phase estimation<a id='phase'></a>\n",
    "\n",
    "&nbsp;\n",
    "\n",
    "The phase estimation algorithm is a solution to a rather specific problem. However, similarly to the QFT and Grover's search algorithm, it turns out to be useful as a building block to several other algorithms to solve more general and important problems.\n",
    "\n",
    "Suppose we have a unitary operator $\\hat{U}$ operating on $n$-qubits, with a known eigenstate$^1$ $| \\psi \\rangle$ and an associated unknown eigenvalue $e^{i \\theta{\\psi}}$. We want to find the eigenvalue / phase, which means finding phase $\\theta{\\psi}$ with $m$-bits of precision.\n",
    "\n",
    "\n",
    " $$U |u \\rangle = e^{i \\theta_{\\psi}}|u \\rangle$$\n",
    "\n",
    "\n",
    "We might try to prepare $n$ qubits in the state $|\\theta{\\psi} \\rangle$ and carry out the unitary transformation $\\hat{U}$ on them:\n",
    "\n",
    "\n",
    "<img src=\"https://i.stack.imgur.com/9AFj7.png\" alt=\"Note: In order for images to show up in this jupyter notebook you need to select File => Trusted Notebook\" width=\"100 px\" align=\"center\"> \n",
    "\n",
    "\n",
    "$^1$: An eigenstate is a quantum mechanical state whose wave function is an eigenvector that corresponds to a physical quantity."
   ]
  },
  {
   "cell_type": "markdown",
   "id": "advanced-leader",
   "metadata": {},
   "source": [
    "<div class=\"alert alert-block alert-info\">\n",
    "    \n",
    "**Question**: is there a measurement on the bits which will give us information about the phase $\\phi$?\n",
    "\n",
    "The answer is **no**: $\\hat{U}$ just produces an overall phase on the state, with no observable consequences.\n",
    "\n",
    "</div>\n",
    "\n",
    "&nbsp;\n",
    "\n",
    "Before we look into a more sophisticated approach to the problem, it's important to understand **phase kickback**."
   ]
  },
  {
   "cell_type": "markdown",
   "id": "initial-egypt",
   "metadata": {},
   "source": [
    "### Phase kickback\n",
    "\n",
    "&nbsp;\n",
    "\n",
    "A key part of understanding the phase kickback is that $|\\psi\\rangle$ is an eigenvector of the operator $U$ with an eigenvalue of $e^{2\\pi i \\phi}$. In other words, $U|\\psi\\rangle = e^{2\\pi i \\phi}|\\psi\\rangle$, where $\\phi$ is the phase that we are interested in 'kicking back'. A small example:\n",
    "\n",
    "<img src=\"https://miro.medium.com/max/3600/1*DudEik8tsL5rl1aq-DUh-A.jpeg\" alt=\"Note: In order for images to show up in this jupyter notebook you need to select File => Trusted Notebook\" width=\"500 px\" align=\"center\"> \n",
    "\n",
    "&nbsp;\n",
    "\n",
    "The system's state starts simply $|0\\rangle|\\psi\\rangle$. \n",
    "\n",
    "&nbsp;\n",
    "\n",
    "**After the first Hadamard**, the Hadamard operator has converted $|0\\rangle$ into $H|0\\rangle = |+\\rangle = \\frac{|0\\rangle+|1\\rangle}{\\sqrt{2}} $. Thus, at point B, the whole system is in the state\n",
    "\n",
    "$$\\frac{|0\\rangle+|1\\rangle}{\\sqrt{2}}|\\psi\\rangle = \\frac{|0\\rangle|\\psi\\rangle+|1\\rangle|\\psi\\rangle}{\\sqrt{2}}$$\n",
    "\n",
    "&nbsp;\n",
    "\n",
    "**After th CU** , the system is in the state \n",
    "\n",
    "&nbsp;\n",
    "\n",
    "$$\\frac{|0\\rangle|\\psi\\rangle+|1\\rangle U|\\psi\\rangle}{\\sqrt{2}} = \\frac{|0\\rangle+e^{i \\theta_{\\psi}}|1\\rangle}{\\sqrt{2}}|\\psi\\rangle$$\n",
    "\n",
    "&nbsp;\n",
    "\n",
    "Note how the state $|\\psi\\rangle$ remains unchanged. This happens because applying $\\hat{U}$ to $|\\psi \\rangle$ results in a \"multiple\" $e^{ i \\theta{\\psi}}$ of $|\\psi \\rangle$, which can be factored out. **This is only possible since we admit that $|\\psi\\rangle$ is an eigenstate of $\\hat{U}$**.\n",
    "\n",
    "&nbsp;\n",
    "\n",
    "Now, let's consider higher powers of $U$, e.g. $U^2$. \n",
    "\n",
    "In this case, $|\\psi\\rangle$ is still an eigenvector of $U^2$.\n",
    "\n",
    "More generally, $U^x |\\psi\\rangle = e^{x i \\theta{\\psi}}|\\psi\\rangle$ . \n",
    "\n",
    "In other words, **an eigenvector of $U$ is also an eigenvector of $U^x$; just with an eigenvalue that is raised to the power $x$**.\n",
    "\n",
    "Thus, for a general $U^{2^k}$, after the CU, the system would be in the state\n",
    "\n",
    "$$\\frac{|0\\rangle|\\psi\\rangle+|1\\rangle U^{2^k}|\\psi\\rangle}{\\sqrt{2}} = \\frac{|0\\rangle+e^{i 2^k \\theta{\\psi}}|1\\rangle}{\\sqrt{2}}|\\psi\\rangle$$"
   ]
  },
  {
   "cell_type": "markdown",
   "id": "proprietary-actor",
   "metadata": {},
   "source": [
    "### Phase estimation algorithm\n",
    "\n",
    "&nbsp;\n",
    "\n",
    "The first part of the phase estimation algorithm consists in a paralell application of the phase kickback technique detailed above, to successive powers of $U$:\n",
    "\n",
    "&nbsp;\n",
    "\n",
    "<img src=\"https://qiskit.org/textbook/ch-algorithms/images/qpe_tex_qz.png\" alt=\"Note: In order for images to show up in this jupyter notebook you need to select File => Trusted Notebook\" width=\"600 px\" align=\"center\"> \n",
    "\n",
    "&nbsp;\n",
    "\n",
    "The complete phase estimation procedure is as follows:\n",
    "\n",
    "1. Prepare the $t$-bit control register in state $|0 \\rangle$, and the target register in state $|u\\rangle$ (eigenstate of $U$);\n",
    "\n",
    "2. Perform Hadamards on the control bits.\n",
    "\n",
    "3. Apply a controlled-$\\hat{U}^{2^j}$, from the $j$th control bit onto the n target bits for each of the control q-bits in succession.\n",
    "\n",
    "4. Perform an **inverse** Fourier transform on the $t$ control bits and measure them in the computational basis. The measured bit values $\\phi_1, \\cdots, \\phi_n$ give an estimate of the phase $\\phi \\approx 0.\\phi_1 \\cdots \\phi_n$, or $\\phi \\approx \\frac{\\phi_1}{2}+ \\cdots + \\frac{\\phi_n}{2^n}$."
   ]
  },
  {
   "cell_type": "markdown",
   "id": "pregnant-construction",
   "metadata": {},
   "source": [
    "<div class=\"alert alert-block alert-warning\">\n",
    "\n",
    "**Exercise 1 - Estimate the Phase of T of $$**\n",
    "\n",
    "&nbsp;\n",
    "\n",
    "1. Implement the phase estimation algorithm to estimate, **to 3 bits of precision**, the the phase of $T |1\\rangle = e^{\\frac{i \\pi}{4}}|1\\rangle$\n",
    "\n",
    "Since we are looking for $\\theta$ in $T |1\\rangle = e^{2 i \\pi \\theta} |1\\rangle$ we expect to find $\\theta = \\frac{1}{8}$\n",
    "\n",
    "3. What is the result for eigenstate $|0 \\rangle$?\n",
    "\n",
    "&nbsp;\n",
    "\n",
    "</div>"
   ]
  },
  {
   "cell_type": "code",
   "execution_count": 7,
   "id": "decimal-score",
   "metadata": {},
   "outputs": [],
   "source": [
    "def qft_dagger(qc, n):\n",
    "    \"\"\"n-qubit QFTdagger the first n qubits in circ\"\"\"\n",
    "    # Don't forget the Swaps!\n",
    "    for qubit in range(n//2):\n",
    "        qc.swap(qubit, n-qubit-1)\n",
    "    for j in range(n):\n",
    "        for m in range(j):\n",
    "            qc.cp(-math.pi/float(2**(j-m)), m, j)\n",
    "        qc.h(j)"
   ]
  },
  {
   "cell_type": "code",
   "execution_count": null,
   "id": "revolutionary-magnet",
   "metadata": {},
   "outputs": [],
   "source": [
    "n=3\n",
    "qctrl = QuantumRegister(n)\n",
    "qtrg= QuantumRegister(1)\n",
    "cr = ClassicalRegister(n)\n",
    "\n",
    "\n",
    "\n",
    "\n",
    "\n",
    "\n",
    "qc.draw(output='mpl')"
   ]
  },
  {
   "cell_type": "code",
   "execution_count": 17,
   "id": "bronze-prize",
   "metadata": {
    "scrolled": true
   },
   "outputs": [
    {
     "name": "stdout",
     "output_type": "stream",
     "text": [
      "simulation: \n",
      "\n",
      " {'001': 1024}\n"
     ]
    },
    {
     "data": {
      "image/png": "[encoded data removed]",
      "text/plain": [
       "<Figure size 432x288 with 1 Axes>"
      ]
     },
     "metadata": {
      "needs_background": "light"
     },
     "output_type": "display_data"
    }
   ],
   "source": [
    "a = execute_locally(qc)"
   ]
  },
  {
   "cell_type": "code",
   "execution_count": 18,
   "id": "respiratory-sensitivity",
   "metadata": {},
   "outputs": [],
   "source": [
    "def binaryToDecimal(binary):\n",
    "    binary1 = binary\n",
    "    decimal, i, n = 0, 0, 0\n",
    "    while(binary != 0):\n",
    "        dec = binary % 10\n",
    "        decimal = decimal + dec * pow(2, i)\n",
    "        binary = binary//10\n",
    "        i += 1\n",
    "    return(decimal)    "
   ]
  },
  {
   "cell_type": "code",
   "execution_count": 20,
   "id": "prescription-possession",
   "metadata": {},
   "outputs": [
    {
     "name": "stdout",
     "output_type": "stream",
     "text": [
      "0.125\n"
     ]
    }
   ],
   "source": [
    "key = list(a.keys())[0]\n",
    "r = binaryToDecimal(int(key))\n",
    "theta= r/(2**n)\n",
    "\n",
    "print(theta)"
   ]
  },
  {
   "cell_type": "markdown",
   "id": "union-multiple",
   "metadata": {},
   "source": [
    "<div class=\"alert alert-block alert-warning\">\n",
    "\n",
    "**Exercise 2 - Implementing the phase estimation algorithm**\n",
    "\n",
    "&nbsp;\n",
    "\n",
    "Implement a function `phase_est(qc, qr_ctrl, qr_trg, theta, phi, lambda, n)` to create a phase estimation circuit in `qc` with `n` bits of precision, for a general single-qubit operation\n",
    "\n",
    "&nbsp;\n",
    "\n",
    "$$\n",
    "u_3(\\theta, \\phi, \\lambda) = \n",
    "\t    \\begin{pmatrix}\n",
    "        \\cos{(\\theta/2)} & -e^{i\\lambda}\\sin{(\\theta/2)}\\\\ \n",
    "        e^{i\\phi}\\sin{(\\theta/2)} & e^{i(\\lambda + \\phi)}\\cos{(\\theta/2)}\n",
    "        \\end{pmatrix}\n",
    "$$\n",
    "\n",
    "&nbsp;\n",
    "\n",
    "**Note**: The algorithm can be tested by defining an eigenstate `psi` of $u_3$ as a vector of complex coefficients. The state can be created using `qc.initialize(psi, qubit)`.\n",
    "\n",
    "&nbsp;\n",
    "\n",
    "</div>"
   ]
  },
  {
   "cell_type": "code",
   "execution_count": 26,
   "id": "impossible-expert",
   "metadata": {},
   "outputs": [],
   "source": [
    "#qc.cu(theta, phi, lambda, 0, ctrl, trg)\n",
    "def phase_est(qc, qr_ctrl, qr_trg, theta, phi, lamda):\n"
   ]
  },
  {
   "cell_type": "code",
   "execution_count": null,
   "id": "narrative-functionality",
   "metadata": {},
   "outputs": [],
   "source": [
    "n=3\n",
    "q_ctrl=QuantumRegister(n)\n",
    "q_trg=QuantumRegister(1)\n",
    "cr=ClassicalRegister(n)\n",
    "qc=QuantumCircuit(q_ctrl, q_trg, cr)\n",
    "\n",
    "phase_est(qc, q_ctrl, q_trg, pi/2, pi/2, pi/2)\n",
    "\n",
    "qc.measure(q_ctrl, cr)\n",
    "qc.draw(output='mpl')"
   ]
  },
  {
   "cell_type": "code",
   "execution_count": null,
   "id": "authentic-literacy",
   "metadata": {},
   "outputs": [],
   "source": []
  }
 ],
 "metadata": {
  "kernelspec": {
   "display_name": "Python 3",
   "language": "python",
   "name": "python3"
  },
  "language_info": {
   "codemirror_mode": {
    "name": "ipython",
    "version": 3
   },
   "file_extension": ".py",
   "mimetype": "text/x-python",
   "name": "python",
   "nbconvert_exporter": "python",
   "pygments_lexer": "ipython3",
   "version": "3.9.2"
  }
 },
 "nbformat": 4,
 "nbformat_minor": 5
}
