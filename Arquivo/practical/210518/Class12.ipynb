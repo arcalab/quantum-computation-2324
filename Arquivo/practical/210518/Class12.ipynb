{
 "cells": [
  {
   "cell_type": "markdown",
   "id": "beneficial-movie",
   "metadata": {},
   "source": [
    "# Qiskit 8 \n",
    "\n",
    "&nbsp;\n",
    "\n",
    "## Contents\n",
    "\n",
    "&nbsp;\n",
    "\n",
    "1. [Shor's Algorithm](#sa)\n",
    "2. [Quantum Counting](#qcount)\n",
    "    1. [Implementation](#impl)"
   ]
  },
  {
   "cell_type": "markdown",
   "id": "flexible-klein",
   "metadata": {},
   "source": [
    "**Module Imports**"
   ]
  },
  {
   "cell_type": "code",
   "execution_count": 59,
   "id": "confident-latest",
   "metadata": {},
   "outputs": [],
   "source": [
    "import matplotlib.pyplot as plt\n",
    "import numpy as np\n",
    "import math\n",
    "\n",
    "# importing Qiskit\n",
    "import qiskit\n",
    "from qiskit import IBMQ, Aer\n",
    "from qiskit import QuantumCircuit, ClassicalRegister, QuantumRegister, execute\n",
    "\n",
    "# import basic plot tools\n",
    "from qiskit.visualization import plot_histogram"
   ]
  },
  {
   "cell_type": "code",
   "execution_count": 64,
   "id": "enclosed-lawrence",
   "metadata": {},
   "outputs": [],
   "source": [
    "# Plot results\n",
    "def show_results(D):\n",
    "    # D is a dictionary with classical bits as keys and count as value\n",
    "    # example: D = {'000': 497, '001': 527}\n",
    "    plt.bar(range(len(D)), list(D.values()), align='center')\n",
    "    plt.xticks(range(len(D)), list(D.keys()))\n",
    "    plt.show()\n",
    "\n",
    "# Execute circuit, display a histogram of the results\n",
    "def execute_locally(qc, draw_circuit=False):\n",
    "    # Compile and run the Quantum circuit on a simulator backend\n",
    "    backend_sim = Aer.get_backend('qasm_simulator')\n",
    "    job_sim = execute(qc, backend_sim)\n",
    "    result_sim = job_sim.result()\n",
    "    result_counts = result_sim.get_counts(qc)\n",
    "    \n",
    "    # Print the results\n",
    "    print(\"simulation: \\n\\n\", result_counts)\n",
    "    show_results(result_counts)\n",
    "    return result_counts"
   ]
  },
  {
   "cell_type": "markdown",
   "id": "defensive-trainer",
   "metadata": {},
   "source": [
    "# 1. [Shor's Algorithm](https://raw.githubusercontent.com/qiskit-community/intro-to-quantum-computing-and-quantum-hardware/master/lectures/introqcqh-lecture-notes-4.pdf) <a id ='sa'></a>"
   ]
  },
  {
   "cell_type": "markdown",
   "id": "organizational-calcium",
   "metadata": {},
   "source": [
    "Shor’s algorithm is famous for factoring integers in polynomial time. "
   ]
  },
  {
   "cell_type": "markdown",
   "id": "nearby-survivor",
   "metadata": {},
   "source": [
    "## The problem\n",
    "\n",
    "Facturing a number $N=pq$, where $p$,$q$ are prime and large numbers.\n",
    "* classically - $O (\\exp[c \\cdot n ^{\\frac{1}{3}} (\\log n )^{\\frac{2}{3}}])$, using the best known methods. \n",
    "* Shor's algorithm - is a little faster than $O (n^3)$.\n"
   ]
  },
  {
   "cell_type": "markdown",
   "id": "desirable-winner",
   "metadata": {},
   "source": [
    "### Modular arithmetics\n",
    "\n",
    "$5 / 3 \\rightarrow quotient =1 ; remainder 2 $ \n",
    "\n",
    "$5  \\equiv  2 (\\mod 3)$\n",
    "\n",
    "Generally, $x \\equiv y (\\mod 3)  \\Rightarrow  x = 3k + y $ for some $k \\in Z$\n",
    "\n",
    "Notice the **periodicity** of modular arithmatic!\n",
    "\n",
    "$x \\equiv y (\\mod N)$ means $y \\in \\{0,..., N\\}$"
   ]
  },
  {
   "cell_type": "markdown",
   "id": "gross-valentine",
   "metadata": {},
   "source": [
    "## Protocol \n",
    "\n",
    "$$N = pq$$\n",
    "\n",
    "1. pick a number \"a\" that is a coprime with $N$. ($\\equiv gcd(a,N)=1$)\n",
    "2. find the \"order\" $r$ of the function $a^r (\\mod N)$. ($\\equiv$ smallest $r$ such that $a^r \\equiv 1 (\\mod N$))\n",
    "3. if $r$ is even:\n",
    " $x\\equiv a^\\frac{r}{2} (\\mod N)$\n",
    " \n",
    " if $x+q \\ne 0 (\\mod N)$ then \n",
    " \n",
    " $\\{p,q\\} =\\{ \\gcd (x+1,N) ,\\gcd (x-1),N\\}$\n",
    " \n",
    " else: find another \"a\""
   ]
  },
  {
   "cell_type": "markdown",
   "id": "pharmaceutical-location",
   "metadata": {},
   "source": [
    "## [Implemenation](https://qiskit.org/textbook/ch-algorithms/shor.html) \n",
    "\n",
    "We will focus on the quantum part of Shor’s algorithm, which actually solves the problem of period finding. Since a factoring problem can be turned into a period finding problem in polynomial time, an efficient period finding algorithm can be used to factor integers efficiently too. For now its enough to show that if we can compute the period of $a^x \\mod N$ efficiently, then we can also efficiently factor.\n",
    "\n",
    "\n",
    "Shor’s solution was to use quantum phase estimation on the unitary operator:\n",
    "$$U|y\\rangle \\equiv |ay \\mod N \\rangle$$"
   ]
  },
  {
   "cell_type": "markdown",
   "id": "elegant-david",
   "metadata": {},
   "source": [
    "Quantum circuit to factoring $15$.\n",
    "\n",
    "Let \"a\" be $13$. "
   ]
  },
  {
   "cell_type": "code",
   "execution_count": 5,
   "id": "noticed-sydney",
   "metadata": {},
   "outputs": [],
   "source": [
    "a=13"
   ]
  },
  {
   "cell_type": "code",
   "execution_count": 6,
   "id": "minor-kidney",
   "metadata": {},
   "outputs": [],
   "source": [
    "if a not in [2,7,8,11,13]:\n",
    "    raise ValueError(\"'a' must be 2,7,8,11 or 13\")"
   ]
  },
  {
   "cell_type": "code",
   "execution_count": 7,
   "id": "female-democrat",
   "metadata": {},
   "outputs": [],
   "source": [
    "n_count = 4"
   ]
  },
  {
   "cell_type": "markdown",
   "id": "varied-uzbekistan",
   "metadata": {},
   "source": [
    "**Step 0** \n",
    "\n",
    "$15 =[1111]$ start two sets of 4 qubits\n",
    "\n",
    "$$|x\\rangle |w\\rangle = |0\\rangle ^{\\otimes 4}|0\\rangle ^{\\otimes 4} $$"
   ]
  },
  {
   "cell_type": "code",
   "execution_count": 48,
   "id": "infectious-lithuania",
   "metadata": {},
   "outputs": [],
   "source": []
  },
  {
   "cell_type": "code",
   "execution_count": null,
   "id": "pediatric-heritage",
   "metadata": {},
   "outputs": [],
   "source": [
    "qc.draw(output='mpl')"
   ]
  },
  {
   "cell_type": "markdown",
   "id": "cathedral-folder",
   "metadata": {},
   "source": [
    "**Step 1**\n",
    "\n",
    "Perform Hadamards on the control bits.\n",
    "\n",
    "$$[H^{\\otimes 4} |0\\rangle ^{\\otimes 4}] |0\\rangle^{\\otimes 4}$$\n",
    "$$\\frac{1}{4} [|0\\rangle_4 + |1\\rangle_4 + |2\\rangle_4 + ... + |15\\rangle_4]|0\\rangle_4$$"
   ]
  },
  {
   "cell_type": "code",
   "execution_count": 50,
   "id": "silent-intake",
   "metadata": {},
   "outputs": [],
   "source": []
  },
  {
   "cell_type": "code",
   "execution_count": null,
   "id": "bored-polymer",
   "metadata": {},
   "outputs": [],
   "source": [
    "qc.draw(output='mpl')"
   ]
  },
  {
   "cell_type": "markdown",
   "id": "continuous-cinema",
   "metadata": {},
   "source": [
    "**Step 2**\n",
    "\n",
    "Apply the Control $U_{f_{a,N}}$.\n",
    "\n",
    "$$|x\\rangle |w\\rangle \\rightarrow |x\\rangle |w \\oplus f_{a,N}(x)\\rangle \\mbox{ where } f_{a,N}(x) \\equiv a^x(\\mod N)$$\n",
    "\n",
    "$$\\frac{1}{4}[|0\\rangle_4 |0\\oplus 13^0 (\\mod 15)\\rangle_4+|1\\rangle_4 |0\\oplus 13^1 (\\mod 15)\\rangle_4 + ...]$$\n",
    "\n",
    "Since $0 \\oplus Z =Z$\n",
    "\n",
    "$$=\\frac{1}{4}[|0\\rangle_4|1\\rangle_4 +|1\\rangle_4 |13\\rangle_4+|2\\rangle_4|4\\rangle_4 +|3\\rangle_4 |7\\rangle_4$$\n",
    "$$ + |4\\rangle_4 |1\\rangle_4 + |5\\rangle_4 |13\\rangle_4 + |6\\rangle_4 |4\\rangle_4  +|7\\rangle_4 |7\\rangle_4 $$\n",
    "$$ + |8\\rangle_4 |1\\rangle_4 + |9\\rangle_4 |13\\rangle_4 +|10\\rangle_4 |4\\rangle_4 + |11\\rangle_4 |7\\rangle_4 $$\n",
    "$$ + |12\\rangle_4 |1\\rangle_4 + |13\\rangle_4 |13\\rangle_4 +|14\\rangle_4 |4\\rangle_4 +|15\\rangle_4 |7\\rangle_4 ]$$"
   ]
  },
  {
   "cell_type": "markdown",
   "id": "otherwise-length",
   "metadata": {},
   "source": [
    "<div class=\"alert alert-block alert-info\">\n",
    "    \n",
    "**Quantum circuits as (controlled) multi-qubit gates**\n",
    "\n",
    "&nbsp;\n",
    "\n",
    "Notice the python function takes no input and returns a `QuantumCircuit` object with 4 qubits. In the past the functions you created might have modified an existing circuit, but a function like this allows us to turn the `QuantumCircuit` object into a single gate we can then control.\n",
    "\n",
    "We can use `.to_gate()` and `.control()` to create a controlled gate from a circuit.\n",
    "\n",
    "These custom gates can then be added to the circuit using the `.append(gate, qargs = [qubits])` method on the `QuantumCircuit` object.\n",
    "\n",
    "</div>"
   ]
  },
  {
   "cell_type": "markdown",
   "id": "executive-campaign",
   "metadata": {},
   "source": [
    "[Tip here](https://www.semanticscholar.org/paper/Comment-on-%22Realization-of-a-scalable-Shor-Cao-Liu/edb06556b7dc87fd91137909dbe35c7106b73261/figure/0)"
   ]
  },
  {
   "cell_type": "code",
   "execution_count": 52,
   "id": "frank-residence",
   "metadata": {},
   "outputs": [],
   "source": [
    "def Uf(a, power):\n",
    "    U = QuantumCircuit(4)        \n",
    "    for iteration in range(power):\n",
    "        #...\n",
    "    U = U.to_gate()\n",
    "    U.name = \"%i^%i mod 15\" % (a, power)\n",
    "    c_U = U.control()\n",
    "    return c_U"
   ]
  },
  {
   "cell_type": "code",
   "execution_count": null,
   "id": "specified-fleece",
   "metadata": {},
   "outputs": [],
   "source": [
    "# And auxiliary register in state |1>\n",
    "qc.x(3+n_count)\n",
    "\n",
    "# Do controlled-U operations\n",
    "for q in range(n_count):\n",
    "    qc.append(Uf(a, 2**q), [q] + [i+n_count for i in range(4)])\n",
    "\n",
    "qc.draw(output='mpl')"
   ]
  },
  {
   "cell_type": "markdown",
   "id": "fitting-hampshire",
   "metadata": {},
   "source": [
    "**Step 3** Measure the registers $w$.\n",
    "\n",
    "Let's say we measure $7$:\n",
    "\n",
    "$$\\frac{1}{2} [|3\\rangle_4 + |7\\rangle_4+ |11\\rangle_4 +|15\\rangle_4] \\otimes |7\\rangle_4$$"
   ]
  },
  {
   "cell_type": "code",
   "execution_count": 54,
   "id": "accompanied-monster",
   "metadata": {},
   "outputs": [],
   "source": []
  },
  {
   "cell_type": "code",
   "execution_count": null,
   "id": "built-secondary",
   "metadata": {},
   "outputs": [],
   "source": [
    "qc.draw(output='mpl')"
   ]
  },
  {
   "cell_type": "markdown",
   "id": "upset-health",
   "metadata": {},
   "source": [
    "**Step 4** Apply QFT$^{\\dagger}$ on the register\n",
    "\n",
    "$$QFT^{\\dagger} |\\tilde{x} \\rangle = |x \\rangle \\frac{1}{\\sqrt{N}}\\sum^{N-1}_{y=0} e^{\\frac{2 \\pi i }{N} x y} | y \\rangle$$"
   ]
  },
  {
   "cell_type": "code",
   "execution_count": 20,
   "id": "straight-cookie",
   "metadata": {},
   "outputs": [],
   "source": [
    "def qft_dagger(n):\n",
    "    \"\"\"n-qubit QFTdagger the first n qubits in circ\"\"\"\n",
    "    qc = QuantumCircuit(n)\n",
    "    # Don't forget the Swaps!\n",
    "    for qubit in range(n//2):\n",
    "        qc.swap(qubit, n-qubit-1)\n",
    "    for j in range(n):\n",
    "        for m in range(j):\n",
    "            qc.cp(-np.pi/float(2**(j-m)), m, j)\n",
    "        qc.h(j)\n",
    "    qc.name = \"QFT†\"\n",
    "    return qc"
   ]
  },
  {
   "cell_type": "code",
   "execution_count": null,
   "id": "willing-globe",
   "metadata": {},
   "outputs": [],
   "source": [
    "# Do inverse-QFT\n",
    "\n",
    "qc.draw(output='mpl')"
   ]
  },
  {
   "cell_type": "code",
   "execution_count": null,
   "id": "spread-hindu",
   "metadata": {},
   "outputs": [],
   "source": [
    "# Measure circuit\n",
    "\n",
    "qc.draw(output='mpl')"
   ]
  },
  {
   "cell_type": "code",
   "execution_count": 111,
   "id": "superb-florist",
   "metadata": {},
   "outputs": [
    {
     "name": "stdout",
     "output_type": "stream",
     "text": [
      "simulation: \n",
      "\n",
      " {'00100000': 78, '00100100': 67, '00101000': 66, '00101100': 61, '10000000': 62, '10000100': 56, '10001000': 65, '10001100': 66, '10110000': 67, '10110100': 56, '10111000': 67, '10111100': 75, '11100000': 56, '11100100': 65, '11101000': 53, '11101100': 64}\n"
     ]
    },
    {
     "data": {
      "image/png": "[encoded data removed]",
      "text/plain": [
       "<Figure size 432x288 with 1 Axes>"
      ]
     },
     "metadata": {
      "needs_background": "light"
     },
     "output_type": "display_data"
    }
   ],
   "source": [
    "a = execute_locally(qc)"
   ]
  },
  {
   "cell_type": "code",
   "execution_count": 123,
   "id": "stunning-safety",
   "metadata": {},
   "outputs": [
    {
     "data": {
      "image/png": "[encoded data removed]",
      "text/plain": [
       "<Figure size 432x288 with 1 Axes>"
      ]
     },
     "metadata": {
      "needs_background": "light"
     },
     "output_type": "display_data"
    }
   ],
   "source": [
    "d = dict()\n",
    "for k in a.keys():\n",
    "    s = k[4:]\n",
    "    if s in d:\n",
    "        c = d.get(k[4:])\n",
    "        d[s] = d[s]+c\n",
    "    else:\n",
    "        d[s]=a[k]\n",
    "\n",
    "show_results(d)   "
   ]
  },
  {
   "cell_type": "markdown",
   "id": "indian-companion",
   "metadata": {},
   "source": [
    "# 2. Quantum Counting <a id='qcount'></a>\n",
    "\n",
    "&nbsp;\n",
    "\n",
    "Whereas Grover’s algorithm attempts to find a solution to the Oracle, the quantum counting algorithm aims to tells us how many of these solutions there are. This algorithm is interesting as it combines both quantum search and quantum phase estimation.\n",
    "\n",
    "&nbsp;\n",
    "\n",
    "## The problem\n",
    "\n",
    "&nbsp;\n",
    "\n",
    "Consider a finite set $\\{0,1\\}^n$ of size $N=2^n$ and a set $B$ of \"solutions\" (that is a subset of $ \\{0,1\\}^n $). Define:\n",
    "\n",
    "$ \\begin{cases} f : \\left\\{0,1\\right\\}^n \\to \\{0,1\\} \\\\ f(x) = \\begin{cases} 1  & x \\in B \\\\ 0  &  x \\notin B \\end{cases} \\end{cases}$\n",
    "\n",
    "In other words, $f$ is the indicator function of $B$.\n",
    "\n",
    "Calculate the number of solutions $ M = \\left\\vert f^{-1}(1) \\right\\vert = \\vert B \\vert$"
   ]
  },
  {
   "cell_type": "markdown",
   "id": "chicken-kingdom",
   "metadata": {},
   "source": [
    "## Introduction\n",
    "\n",
    "&nbsp;\n",
    "\n",
    "In quantum counting, we simply use the quantum phase estimation algorithm to find an eigenvalue of a Grover search iteration. \n",
    "\n",
    "Remember that an iteration of Grover’s algorithm can be visualized as vector rotations on the $\\mathbb{C}^N$ plane spanned by two statevectors: $| s \\rangle$, a uniform superposition of all input states\n",
    "\n",
    "$$| s \\rangle = \\frac{1}{\\sqrt{N}} \\sum_{x = 0}^{N -1} | x\n",
    "\\rangle $$\n",
    "\n",
    "and a *marked* state $|w\\rangle$, also known as the \"winner\".\n",
    "\n",
    "<img src=\"https://qiskit.org/textbook/ch-algorithms/images/grover_list.png\" width=\"400 px\" align=\"center\">\n",
    "\n",
    "These statevectors are not perpendicular as $| w \\rangle$ occurs in the superposition $|s\\rangle$ with amplitude $N^{-1/2}$ as well. We can, however, introduce an additional state $|s'\\rangle$ that is in the span of these two vectors, which is perpendicular to $| w \\rangle$ and is obtained from $|s \\rangle$ by removing $| w \\rangle$ and rescaling. \n",
    "\n",
    "\n",
    "\n",
    "An iteration of Grover's algorithm $G$, rotates the state vector by $\\theta$ in the $|\\omega\\rangle$, $|s’\\rangle$ basis:\n",
    "\n",
    "<img src=\"https://qiskit.org/textbook/ch-algorithms/images/quantum_counting1.svg\" width=\"300 px\" align=\"center\">\n",
    "\n",
    "\n",
    "The percentage number of solutions in our search space affects the difference between $|s\\rangle$ and $|s’\\rangle$. For example, if there are not many solutions, $|s\\rangle$ will be very close to $|s’\\rangle$ and $\\theta$ will be very small. It turns out that the eigenvalues of the Grover iterator are $e^{\\pm i\\theta}$, and we can extract this using quantum phase estimation (QPE) to estimate the number of solutions ($M$)."
   ]
  },
  {
   "cell_type": "markdown",
   "id": "favorite-replication",
   "metadata": {},
   "source": [
    "## Grover's iteration as an operator\n",
    "\n",
    "&nbsp;\n",
    "\n",
    "In the $|\\omega\\rangle$,$|s’\\rangle$ basis we can write the Grover iterator as the matrix:\n",
    "\n",
    "$$\n",
    "G =\n",
    "\\begin{pmatrix}\n",
    "\\cos{\\theta} && -\\sin{\\theta}\\\\\n",
    "\\sin{\\theta} && \\cos{\\theta}\n",
    "\\end{pmatrix}\n",
    "$$\n",
    "\n",
    "The matrix $G$ has eigenvectors:\n",
    "\n",
    "$$\n",
    "\\begin{pmatrix}\n",
    "-i\\\\\n",
    "1\n",
    "\\end{pmatrix}\n",
    ",\n",
    "\\begin{pmatrix}\n",
    "i\\\\\n",
    "1\n",
    "\\end{pmatrix}\n",
    "$$\n",
    "\n",
    "With the aforementioned eigenvalues $e^{\\pm i\\theta}$. Fortunately, we do not need to prepare our register in either of these states, the state $|s\\rangle$ is in the space spanned by $|\\omega\\rangle$, $|s’\\rangle$, and thus is a superposition of the two vectors.\n",
    "$$\n",
    "|s\\rangle = \\alpha |\\omega\\rangle + \\beta|s'\\rangle\n",
    "$$\n",
    "\n",
    "As a result, the output of the QPE algorithm will be a superposition of the two phases, and when we measure the register we will obtain one of these two values! We can then use some simple maths to get our estimate of $M$.\n",
    "\n",
    "<img src=\"https://qiskit.org/textbook/ch-algorithms/images/quantum_counting2.svg\" width=\"600 px\" align=\"center\">\n",
    "\n",
    "Recall, from the previous class, that measured bit values $\\phi_1, \\cdots, \\phi_n$ give an estimate of the phase $\\phi \\approx 0.\\phi_1 \\cdots \\phi_n$, or $\\phi \\approx \\frac{\\phi_1}{2}+ \\cdots + \\frac{\\phi_n}{2^n}$.\n"
   ]
  },
  {
   "cell_type": "markdown",
   "id": "forty-fancy",
   "metadata": {},
   "source": [
    "## A. Implementation <a id='impl'></a>"
   ]
  },
  {
   "cell_type": "markdown",
   "id": "filled-warren",
   "metadata": {},
   "source": [
    "We choose to ‘count’ on the first 4 qubits (we call the number of counting qubits $t$, so $t = 4$), and to 'search' through the last 4 qubits ($n = 4$). Since we only care about the measurement of the counting qubits, we have initialised 4 classical bits to measure to.\n",
    "With that done, we can start creating the building blocks of our circuit."
   ]
  },
  {
   "cell_type": "markdown",
   "id": "designed-revision",
   "metadata": {},
   "source": [
    "### Controlled-Grover Iteration"
   ]
  },
  {
   "cell_type": "markdown",
   "id": "unlike-whole",
   "metadata": {},
   "source": [
    "We have already covered Grover iterations in the Grover’s algorithm section. Here is an example with an Oracle we know has 5 solutions ($M = 5$) of 16 states ($N = 2^n = 16$), combined with a diffusion operator:"
   ]
  },
  {
   "cell_type": "code",
   "execution_count": 128,
   "id": "honest-underwear",
   "metadata": {},
   "outputs": [],
   "source": [
    "def example_grover_iteration():\n",
    "    \"\"\"Small circuit with 5/16 solutions\"\"\"\n",
    "    # Do circuit\n",
    "    qc = QuantumCircuit(4)\n",
    "    # Oracle\n",
    "    qc.h([2,3])\n",
    "    qc.ccx(0,1,2)\n",
    "    qc.h(2)\n",
    "    qc.x(2)\n",
    "    qc.ccx(0,2,3)\n",
    "    qc.x(2)\n",
    "    qc.h(3)\n",
    "    qc.x([1,3])\n",
    "    qc.h(2)\n",
    "    qc.mct([0,1,3],2)\n",
    "    qc.x([1,3])\n",
    "    qc.h(2)\n",
    "    # Diffuser\n",
    "    qc.h(range(3))\n",
    "    qc.x(range(3))\n",
    "    qc.z(3)\n",
    "    qc.mct([0,1,2],3)\n",
    "    qc.x(range(3))\n",
    "    qc.h(range(3))\n",
    "    qc.z(3)\n",
    "    return qc"
   ]
  },
  {
   "cell_type": "markdown",
   "id": "stupid-question",
   "metadata": {},
   "source": [
    "We will call our Grover iterator `grit` and the controlled Grover iterator `cgrit`"
   ]
  },
  {
   "cell_type": "code",
   "execution_count": 129,
   "id": "departmental-production",
   "metadata": {},
   "outputs": [],
   "source": [
    "qc = QuantumCircuit(3)"
   ]
  },
  {
   "cell_type": "code",
   "execution_count": 130,
   "id": "addressed-hungarian",
   "metadata": {},
   "outputs": [],
   "source": [
    "# Create controlled-Grover\n",
    "grit = example_grover_iteration().to_gate()\n",
    "cgrit = grit.control(1)"
   ]
  },
  {
   "cell_type": "code",
   "execution_count": 131,
   "id": "genuine-integer",
   "metadata": {},
   "outputs": [
    {
     "data": {
      "image/png": "[encoded data removed]",
      "text/plain": [
       "<Figure size 206.997x264.88 with 1 Axes>"
      ]
     },
     "execution_count": 131,
     "metadata": {},
     "output_type": "execute_result"
    }
   ],
   "source": [
    "qr = QuantumRegister(4, 'q')\n",
    "qc = QuantumCircuit(qr)\n",
    "qc.append(grit, qargs=qr)\n",
    "qc.draw(output='mpl')"
   ]
  },
  {
   "cell_type": "code",
   "execution_count": 132,
   "id": "angry-evans",
   "metadata": {},
   "outputs": [
    {
     "data": {
      "image/png": "[encoded data removed]",
      "text/plain": [
       "<Figure size 206.997x325.08 with 1 Axes>"
      ]
     },
     "execution_count": 132,
     "metadata": {},
     "output_type": "execute_result"
    }
   ],
   "source": [
    "qr = QuantumRegister(5, 'q')\n",
    "qc = QuantumCircuit(qr)\n",
    "qc.append(cgrit, qargs= [qr[4]] + qr[:4])\n",
    "qc.draw(output='mpl')"
   ]
  },
  {
   "cell_type": "markdown",
   "id": "focal-venue",
   "metadata": {},
   "source": [
    "### Inverse QFT <a id='inv_qft'></a>\n",
    "We now need to create an inverse QFT. This code implements the QFT on n qubits:"
   ]
  },
  {
   "cell_type": "code",
   "execution_count": 164,
   "id": "distinguished-there",
   "metadata": {},
   "outputs": [],
   "source": [
    "def qft(n):\n",
    "    \"\"\"Creates an n-qubit QFT circuit\"\"\"\n",
    "    circuit = QuantumCircuit(n)\n",
    "    def swap_registers(circuit, n):\n",
    "        for qubit in range(n//2):\n",
    "            circuit.swap(qubit, n-qubit-1)\n",
    "        return circuit\n",
    "    def qft_rotations(circuit, n):\n",
    "        \"\"\"Performs qft on the first n qubits in circuit (without swaps)\"\"\"\n",
    "        if n == 0:\n",
    "            return circuit\n",
    "        n -= 1\n",
    "        circuit.h(n)\n",
    "        for qubit in range(n):\n",
    "            circuit.cp(np.pi/2**(n-qubit), qubit, n)\n",
    "        qft_rotations(circuit, n)\n",
    "    \n",
    "    qft_rotations(circuit, n)\n",
    "    swap_registers(circuit, n)\n",
    "    return circuit"
   ]
  },
  {
   "cell_type": "markdown",
   "id": "confirmed-macro",
   "metadata": {},
   "source": [
    "<div class=\"alert alert-block alert-info\">\n",
    "    \n",
    "**Inverting quantum circuits as gates**\n",
    "\n",
    "&nbsp;\n",
    "\n",
    "A circuit converted into a `Gate` object can be inverted by adding the `.inverse()` method.\n",
    "\n",
    "</div>\n"
   ]
  },
  {
   "cell_type": "code",
   "execution_count": 165,
   "id": "approximate-depth",
   "metadata": {
    "scrolled": true
   },
   "outputs": [],
   "source": [
    "def qft_dagger(count):\n",
    "    return qft(count).to_gate().inverse()"
   ]
  },
  {
   "cell_type": "markdown",
   "id": "split-journalism",
   "metadata": {},
   "source": [
    "### Putting it Together \n",
    "\n",
    "&nbsp;\n",
    "\n",
    "<div class=\"alert alert-block alert-warning\">\n",
    "    \n",
    "**Exercise 1**\n",
    "\n",
    "&nbsp;\n",
    "\n",
    "<img src=\"https://qiskit.org/textbook/ch-algorithms/images/quantum_counting2.svg\" width=\"600 px\" align=\"center\">\n",
    "\n",
    "\n",
    "1. Apply the quantum counting algorithm represented above, for `t=4` counting qubits, and `n=4` *searching* bits. What are the results after simulation?\n",
    "\n",
    "</div>\n",
    "\n"
   ]
  },
  {
   "cell_type": "code",
   "execution_count": 166,
   "id": "shared-spyware",
   "metadata": {},
   "outputs": [
    {
     "data": {
      "text/plain": [
       "<qiskit.circuit.instructionset.InstructionSet at 0x11ae1052490>"
      ]
     },
     "execution_count": 166,
     "metadata": {},
     "output_type": "execute_result"
    }
   ],
   "source": []
  },
  {
   "cell_type": "code",
   "execution_count": null,
   "id": "appointed-therapy",
   "metadata": {},
   "outputs": [],
   "source": [
    "# Check circuit\n",
    "qc.draw(output='mpl')"
   ]
  },
  {
   "cell_type": "code",
   "execution_count": 169,
   "id": "conventional-employer",
   "metadata": {},
   "outputs": [
    {
     "data": {
      "image/png": "[encoded data removed]",
      "text/plain": [
       "<Figure size 504x360 with 1 Axes>"
      ]
     },
     "execution_count": 169,
     "metadata": {},
     "output_type": "execute_result"
    }
   ],
   "source": [
    "# Simulate circuit\n",
    "simulator = Aer.get_backend('qasm_simulator')\n",
    "job = execute(qc, simulator, shots=2048 )\n",
    "hist = job.result().get_counts()\n",
    "plot_histogram(hist)"
   ]
  },
  {
   "cell_type": "markdown",
   "id": "limited-scope",
   "metadata": {},
   "source": [
    "We can see two values stand out, having a much higher probability of measurement than the rest. These two values correspond to $e^{i\\theta}$ and $e^{-i\\theta}$, but we can’t see the number of solutions yet. We need to little more processing to get this information, so first let us get our output into something we can work with (an `int`).\n",
    "\n",
    "Get the string of the most probable result from our output data:"
   ]
  },
  {
   "cell_type": "code",
   "execution_count": 142,
   "id": "organizational-questionnaire",
   "metadata": {},
   "outputs": [],
   "source": [
    "measured_str = max(hist, key=hist.get)"
   ]
  },
  {
   "cell_type": "markdown",
   "id": "exposed-harvard",
   "metadata": {},
   "source": [
    "Store this as an integer:"
   ]
  },
  {
   "cell_type": "code",
   "execution_count": 143,
   "id": "artificial-breakdown",
   "metadata": {},
   "outputs": [
    {
     "name": "stdout",
     "output_type": "stream",
     "text": [
      "Register Output = 5\n"
     ]
    }
   ],
   "source": [
    "measured_int = int(measured_str,2)\n",
    "print(\"Register Output = %i\" % measured_int)"
   ]
  },
  {
   "cell_type": "markdown",
   "id": "introductory-diagram",
   "metadata": {},
   "source": [
    "### Finding the Number of Solutions (M)\n",
    "\n",
    "<div class=\"alert alert-block alert-warning\">\n",
    "    \n",
    "**Exercise 2**\n",
    "\n",
    "&nbsp;\n",
    "\n",
    "1. Create a function, `calculate_M(integ, t, n)` that takes as input the decimal integer output of our register, the number of counting qubits ($t$) and the number of searching qubits ($n$); and returns the numer of solutions `M`.\n",
    "\n",
    "</div>\n",
    "\n",
    "**Tips:**\n",
    "\n",
    "* First we want to get $\\theta$ from `measured_int`. Remember that QPE gives us a measured $\\text{value} = 2^n \\phi$ from the eigenvalue $e^{2\\pi i\\phi}$, so to get $\\theta$ we need to do:\n",
    "\n",
    "$$ \\theta = value \\times \\frac{2 \\pi}{2^t} $$\n",
    "\n",
    "\n",
    "* We can get the angle $\\theta/2$ can from the inner product of $|s\\rangle$ and $|s’\\rangle$:\n",
    "\n",
    "$$\n",
    "\\langle s'|s\\rangle = \\cos{\\tfrac{\\theta}{2}}\n",
    "$$\n",
    "\n",
    "And that the inner product of these vectors is:\n",
    "\n",
    "$$\n",
    "\\langle s'|s\\rangle = \\sqrt{\\frac{N-M}{N}}\n",
    "$$\n",
    "\n",
    "We can combine these equations, then use some trigonometry and algebra to show:\n",
    "\n",
    "$$\n",
    "N\\sin^2{\\frac{\\theta}{2}} = M\n",
    "$$"
   ]
  },
  {
   "cell_type": "code",
   "execution_count": 144,
   "id": "alive-quest",
   "metadata": {},
   "outputs": [],
   "source": []
  },
  {
   "cell_type": "code",
   "execution_count": 145,
   "id": "rapid-donna",
   "metadata": {},
   "outputs": [
    {
     "data": {
      "text/plain": [
       "5"
      ]
     },
     "execution_count": 145,
     "metadata": {},
     "output_type": "execute_result"
    }
   ],
   "source": [
    "t = 4\n",
    "n = 4\n",
    "N = 2**n\n",
    "\n",
    "N - int(calculate_M(measured_int, t, n))"
   ]
  },
  {
   "cell_type": "markdown",
   "id": "turned-madrid",
   "metadata": {},
   "source": [
    "\n",
    "<div class=\"alert alert-block alert-warning\">\n",
    "    \n",
    "**Exercise 3**\n",
    "\n",
    "1.\tCan you adapt the circuit to use more or less counting qubits to get a different precision in your result?\n",
    "\n",
    "</div>"
   ]
  },
  {
   "cell_type": "code",
   "execution_count": 172,
   "id": "historic-steal",
   "metadata": {},
   "outputs": [],
   "source": [
    "def qcount(count):\n"
   ]
  },
  {
   "cell_type": "code",
   "execution_count": null,
   "id": "amazing-alloy",
   "metadata": {},
   "outputs": [],
   "source": [
    "qcount(6).draw(output='mpl')"
   ]
  },
  {
   "cell_type": "code",
   "execution_count": null,
   "id": "correct-charity",
   "metadata": {},
   "outputs": [],
   "source": []
  }
 ],
 "metadata": {
  "kernelspec": {
   "display_name": "Python 3",
   "language": "python",
   "name": "python3"
  },
  "language_info": {
   "codemirror_mode": {
    "name": "ipython",
    "version": 3
   },
   "file_extension": ".py",
   "mimetype": "text/x-python",
   "name": "python",
   "nbconvert_exporter": "python",
   "pygments_lexer": "ipython3",
   "version": "3.9.2"
  }
 },
 "nbformat": 4,
 "nbformat_minor": 5
}
