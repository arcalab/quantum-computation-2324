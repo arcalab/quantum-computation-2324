{
 "cells": [
  {
   "cell_type": "markdown",
   "id": "wound-neutral",
   "metadata": {},
   "source": [
    "# Qiskit 9 - 2020/2021\n",
    "\n",
    "&nbsp;\n",
    "\n",
    "## Contents\n",
    "\n",
    "&nbsp;\n",
    "\n",
    "1. [Variational Quantum Eigensolver](#VQE)\n",
    "    \n",
    "    1.1 [Implementation with Qiskit Optimization](#imp)\n",
    "\n",
    "&nbsp;"
   ]
  },
  {
   "cell_type": "markdown",
   "id": "desirable-handbook",
   "metadata": {},
   "source": [
    "# 1. Variational Quantum Eigensolver <a id='VQE'></a>\n",
    "\n",
    "&nbsp;\n",
    "\n",
    "In many applications it is important to find the minimum eigenvalue of a matrix. For example, in chemistry, the minimum eigenvalue of a Hermitian matrix characterizing the molecule is the ground state energy of that system; VQE may also be used dor combinatorial optimization problems (such as the Traveling Salesman).\n",
    "\n",
    "In the future, the quantum phase estimation algorithm may be used to find the minimum eigenvalue. However, its implementation on useful problems requires circuit depths exceeding the limits of hardware available in the NISQ era. \n",
    "\n",
    "&nbsp;\n",
    "\n",
    "### Intuition\n",
    "\n",
    "&nbsp;\n",
    "\n",
    "Real world problems such as social network interactions and marketing strategies may be modeled with graphs composed of vertices and edges.\n",
    "\n",
    "Consider a simple graph coloring puzzle that involves filling in some of its vertices with one color, and the rest of its vertices with another color. Solving the puzzle successfully requires achieving the highest possible score, which is defined as the total of the numbers (weights) on the edges connecting vertices that have different colors.\n",
    "\n",
    "<img src=\"https://miro.medium.com/max/240/1*D5Vn4E6jXmbA1d68Hzr7IQ.png\" width=\"200 px\" align=\"center\">\n",
    "\n",
    "\n",
    "Coloring the vertices of a weighted graph with two colors is one way of expressing the $MaxCut$ problem, in which the score is calculated by adding up the weights on the edges that are cut by a line drawn between vertices of different colors.\n",
    "\n",
    "The general equation for calculating the energy of a given coloring is a simple difference (up to a normalization factor) of $ws$, the total weight between same color vertices, and $wd$, the total weight between different color vertices.\n",
    "\n",
    "$$ e = \\frac{1}{2}(w_s - w_d) $$\n",
    "\n",
    "If there is $2^3$ coloring combinations, then they can be represented with basis states using 3 qubits, with $| 0 \\rangle$ representing red coloring and $|1 \\rangle$ representing blue coloring.\n",
    "\n",
    "The energy states for each of these combinations are represented on the main diagonal of an Hermitian matrix.\n",
    "\n",
    "<img src=\"https://miro.medium.com/max/449/1*c81NqoWe263OcJK6yY1d8g.gif\" width=\"290 px\" align=\"center\">\n",
    "\n",
    "&nbsp;\n",
    "\n",
    "To obtain the energy value for the basis state $|011\\rangle$, representing the coloring of the first figure, we have to apply the Hermitian matrix to the vector describing the state:\n",
    "\n",
    "<img src=\"https://miro.medium.com/max/551/1*qD-tJtv3Npiji6GEsJjiew.gif\" width=\"350 px\" align=\"center\">\n",
    "\n",
    "&nbsp; \n",
    "\n",
    "Since applying the operator to $|011\\rangle$ yields the same state multiplied by a scalar, it means the state is an **eigenstate** of the operator, with a corresponding **eigenvalue** of -1. To obtain the energy value as a scalar, we apply the inner product of it with the row vector representing the state:\n",
    "\n",
    "<img src=\"https://miro.medium.com/max/446/1*XnYcjmh3uHaEydoenEl0zQ.gif\" width=\"290 px\" align=\"center\">\n",
    "\n",
    "&nbsp;\n",
    "\n",
    "which may also be represented in Dirac notation as $\\langle 011 | Q | 011 \\rangle = -1$. For a general state, $\\langle \\psi | Q | \\psi \\rangle$ is known as the **expectation value** of $Q$ the state $|\\psi \\rangle$.\n",
    "\n",
    "The solution to the $MaxCut$ problem is the basis state for which the operator Q has the lowest expectation value.\n",
    "\n",
    "&nbsp;\n",
    "\n",
    "\n",
    "### The problem\n",
    "\n",
    "&nbsp;\n",
    "\n",
    "The Variational Quantum Eigensolver is designed to solve the following problem:\n",
    "\n",
    "$$ \\min_{| \\psi \\rangle} \\; \\langle \\psi | Q | \\psi \\rangle $$\n",
    "\n",
    "where $| \\psi \\rangle \\in (\\mathbb{C}^2)^{\\otimes n}$, and $ Q \\in \\mathbb{C}^{2^n \\times 2^n}$ and Hermitian. The operator $Q$ is typically called the Hamiltonian and denoted by $H$.\n",
    "\n",
    "This problem is difficult to solve, since the vector representing $|\\psi\\rangle$ has dimension $2^n$ (indeed, it is NP-hard). A way to reduce the dimensionality of the problem leads to the VQE algorithm: rather than optimizing over all possible states, we only optimize over a set of states $ |\\psi (\\vec{\\theta})\\rangle = U (\\vec{\\theta}) | \\vec{0} \\rangle $.\n",
    "\n",
    "The problem solved by VQE then becomes:\n",
    "\n",
    "$$ \\min_{\\vec{\\theta}} \\langle \\psi (\\vec{\\theta})| Q | \\psi (\\vec{\\theta}) \\rangle$$\n",
    "\n",
    "The choice of $U (\\vec{\\theta})$ is fundamental, as it determines the quality of the approximation $ |\\psi \\rangle \\approx |\\psi (\\vec{\\theta}) \\rangle$ and the ease of optimizing over $\\vec{\\theta}$ (how many $\\theta_i$ do we optimize?). The circuit implementing $U(\\vec{\\theta})$ is usually called *ansatz*.\n",
    "\n",
    "&nbsp;"
   ]
  },
  {
   "cell_type": "markdown",
   "id": "accurate-specific",
   "metadata": {},
   "source": [
    "### The algorithm\n",
    "\n",
    "&nbsp;\n",
    "\n",
    "The VQE algorithm uses a quantum subroutine inside a classical minimization task. The quantum subroutine consists of two parts:\n",
    "\n",
    "* Prepare a quantum state $|\\psi (\\vec{\\theta})\\rangle$;\n",
    "* Measure the expectation value of $Q$ in the state  $|\\psi (\\theta)\\rangle$:\n",
    "\n",
    "$$ \\langle Q \\rangle  _{|\\psi (\\vec{\\theta})\\rangle} = \\langle \\psi (\\vec{\\theta}) | Q | \\psi (\\vec{\\theta}) \\rangle $$\n",
    "\n",
    "The [variational theorem](https://en.wikipedia.org/wiki/Variational_method_(quantum_mechanics)) implies that the expectation value of any wavefunction is always greater or equal to the lowest eigenvaluea associated with $Q$:\n",
    "\n",
    "$$ \\langle Q \\rangle  _{|\\psi (\\vec{\\theta})\\rangle} \\geq \\lambda_1 $$\n",
    "\n",
    "The classical optimizer algorithm provides the initial parameters $\\vec{\\theta}$ to the quantum subroutine, receives the measured expectation value, and tunes the parameters until the expectation value converges to some minimum.\n",
    "\n",
    "<img src=\"http://openqemist.1qbit.com/docs/_images/VQE_overview.png\" width=\"500 px\" align=\"center\">\n",
    "\n",
    "&nbsp;"
   ]
  },
  {
   "cell_type": "markdown",
   "id": "hearing-australia",
   "metadata": {},
   "source": [
    "<div class=\"alert alert-block alert-info\">\n",
    "    \n",
    "**Subroutine quantum circuit**\n",
    "\n",
    "&nbsp;\n",
    "\n",
    "When constructing a variational form we must balance two opposing goals. Ideally, our $n$ qubit variational form would be able to generate any possible state $|\\psi\\rangle$ where $|\\psi \\rangle \\in \\mathbb{C}^N$ and $N=2^n$. However, we would like the variational form to use as few parameters as possible. \n",
    "\n",
    "For $n=1$, the $U3$ gate takes three parameters and allows for the implementation of any possible state (up to a global phase).\n",
    "\n",
    "<img src=\"https://qiskit.org/textbook/ch-applications/images/U3_var_form.png\" width=\"300 px\" align=\"center\">\n",
    "\n",
    "In a 2 qubit case, interactions (entanglement) must be considered to to achieve universality. An example of a universal parametrized 2 qubit circuit:\n",
    "\n",
    "<img src=\"https://qiskit.org/textbook/ch-applications/images/two_qubit_var_form.png\" width=\"500 px\" align=\"center\">\n",
    "\n",
    "Note that variational forms do not *always* have to be universal - they just need to generate all possible states *given the constraints of the problem*, or at least reach a good enough approximation.\n",
    "\n",
    "One of the challenges in implementing the VQE algorithm is selecting an efficiently parametrized variational form, i.e. one in which the number of parameters does not grow exponentially with the number of qubits.\n",
    "\n",
    "\n",
    "</div>"
   ]
  },
  {
   "cell_type": "markdown",
   "id": "activated-incidence",
   "metadata": {},
   "source": [
    "## 1.1 Implementation <a id='impl'></a>"
   ]
  },
  {
   "cell_type": "markdown",
   "id": "under-logan",
   "metadata": {},
   "source": [
    "**Module Imports**"
   ]
  },
  {
   "cell_type": "code",
   "execution_count": 26,
   "id": "stretch-plaintiff",
   "metadata": {},
   "outputs": [],
   "source": [
    "# useful additional packages\n",
    "import matplotlib.pyplot as plt\n",
    "import matplotlib.axes as axes\n",
    "%matplotlib inline\n",
    "import numpy as np\n",
    "import networkx as nx\n",
    "\n",
    "from qiskit import Aer\n",
    "from qiskit.tools.visualization import plot_histogram\n",
    "from qiskit.circuit.library import TwoLocal\n",
    "from qiskit.optimization.applications.ising import max_cut, tsp\n",
    "from qiskit.aqua.algorithms import VQE, NumPyMinimumEigensolver\n",
    "from qiskit.aqua.components.optimizers import SPSA\n",
    "from qiskit.aqua import aqua_globals\n",
    "from qiskit.aqua import QuantumInstance\n",
    "from qiskit.optimization.applications.ising.common import sample_most_likely\n",
    "from qiskit.optimization.algorithms import MinimumEigenOptimizer\n",
    "from qiskit.optimization.problems import QuadraticProgram\n",
    "\n",
    "# setup aqua logging\n",
    "import logging\n",
    "from qiskit.aqua import set_qiskit_aqua_logging\n",
    "# set_qiskit_aqua_logging(logging.DEBUG)  # choose INFO, DEBUG to see the log"
   ]
  },
  {
   "cell_type": "code",
   "execution_count": 27,
   "id": "thick-joshua",
   "metadata": {},
   "outputs": [
    {
     "data": {
      "text/html": [
       "<h3>Version Information</h3><table><tr><th>Qiskit Software</th><th>Version</th></tr><tr><td>Qiskit</td><td>0.24.0</td></tr><tr><td>Terra</td><td>0.16.4</td></tr><tr><td>Aer</td><td>0.7.6</td></tr><tr><td>Ignis</td><td>0.5.2</td></tr><tr><td>Aqua</td><td>0.8.2</td></tr><tr><td>IBM Q Provider</td><td>0.12.1</td></tr><tr><th>System information</th></tr><tr><td>Python</td><td>3.9.2 (default, Mar  3 2021, 15:03:14) [MSC v.1916 64 bit (AMD64)]</td></tr><tr><td>OS</td><td>Windows</td></tr><tr><td>CPUs</td><td>4</td></tr><tr><td>Memory (Gb)</td><td>15.885398864746094</td></tr><tr><td colspan='2'>Mon May 24 10:02:13 2021 Hora de Verão de GMT</td></tr></table>"
      ],
      "text/plain": [
       "<IPython.core.display.HTML object>"
      ]
     },
     "metadata": {},
     "output_type": "display_data"
    }
   ],
   "source": [
    "import qiskit.tools.jupyter\n",
    "%qiskit_version_table"
   ]
  },
  {
   "cell_type": "markdown",
   "id": "three-daughter",
   "metadata": {},
   "source": [
    "**Generating the graph for the Max-Cut problem**"
   ]
  },
  {
   "cell_type": "code",
   "execution_count": 28,
   "id": "center-fight",
   "metadata": {},
   "outputs": [
    {
     "data": {
      "image/png": "[encoded data removed]",
      "text/plain": [
       "<Figure size 432x288 with 1 Axes>"
      ]
     },
     "metadata": {},
     "output_type": "display_data"
    }
   ],
   "source": [
    "# Generating a graph of 4 nodes\n",
    "\n",
    "n=4 # Number of nodes in graph\n",
    "G=nx.Graph()\n",
    "G.add_nodes_from(np.arange(0,n,1))\n",
    "elist=[(0,1,1.0),(0,2,1.0),(0,3,1.0),(1,2,1.0),(2,3,1.0)]\n",
    "# tuple is (i,j,weight) where (i,j) is the edge\n",
    "G.add_weighted_edges_from(elist)\n",
    "\n",
    "colors = ['r' for node in G.nodes()]\n",
    "pos = nx.spring_layout(G)\n",
    "\n",
    "def draw_graph(G, colors, pos):\n",
    "    default_axes = plt.axes(frameon=True)\n",
    "    nx.draw_networkx(G, node_color=colors, node_size=600, alpha=.8, ax=default_axes, pos=pos)\n",
    "    edge_labels = nx.get_edge_attributes(G, 'weight')\n",
    "    nx.draw_networkx_edge_labels(G, pos=pos, edge_labels=edge_labels)\n",
    "\n",
    "draw_graph(G, colors, pos)"
   ]
  },
  {
   "cell_type": "code",
   "execution_count": 29,
   "id": "forty-interest",
   "metadata": {},
   "outputs": [
    {
     "name": "stdout",
     "output_type": "stream",
     "text": [
      "[[0. 1. 1. 1.]\n",
      " [1. 0. 1. 0.]\n",
      " [1. 1. 0. 1.]\n",
      " [1. 0. 1. 0.]]\n"
     ]
    }
   ],
   "source": [
    "# Computing the weight matrix from the random graph\n",
    "w = np.zeros([n,n])\n",
    "for i in range(n):\n",
    "    for j in range(n):\n",
    "        temp = G.get_edge_data(i,j,default=0)\n",
    "        if temp != 0:\n",
    "            w[i,j] = temp['weight']\n",
    "print(w)"
   ]
  },
  {
   "cell_type": "markdown",
   "id": "hydraulic-emperor",
   "metadata": {},
   "source": [
    "<div class=\"alert alert-block alert-info\">\n",
    "    \n",
    "**Creating a Hamiltonian from the adjacency matrix**\n",
    "\n",
    "&nbsp;\n",
    "\n",
    "There are $2^n$ energy states in our Hamiltonian (more specifically an Ising Hamiltonian), where $n$ is the number of vertices in the graph. These energy states are computed from the weights on the graph’s edges, which are expressed in the adjacency matrix. To accomplish this, Qiskit Aqua leverages the Pauli Z matrix and the identity matrix.\n",
    "\n",
    "<img src=\"https://miro.medium.com/max/1050/1*bUUcT4ZgYfji1ftnlAGccA.png\" width=\"500 px\" align=\"center\">\n",
    "\n",
    "Each edge can be represented with a pair of Pauli Z matrices for the connected vertices; vertices not connected by a particular edge are modeled with the identity matrix. We then take the tensor product of all vertices, scale the matrix by $\\frac{1}{2}$ and the weight $w_{ij}$.\n",
    "\n",
    "&nbsp;\n",
    "\n",
    "**Example**: for the edge that connects vertices $A$ and $C$ in the figure above:\n",
    "\n",
    "<img src=\"https://miro.medium.com/max/455/1*5Gs3h2mr-jsvPQ7qGmu7HQ.gif\" width=\"300 px\" align=\"center\">\n",
    "\n",
    "After all edges are modelled, the corresponding matrices are added together. The general expression to compute the Ising Hamiltonian from an adjacency matrix is:\n",
    "\n",
    "&nbsp;\n",
    "\n",
    "$$ \\frac{1}{2} \\left ( \\sum_{i < j} w_{ij} Z_i Z_j \\right ) $$\n",
    "\n",
    "&nbsp;\n",
    "\n",
    "</div>\n",
    "\n"
   ]
  },
  {
   "cell_type": "markdown",
   "id": "extended-procurement",
   "metadata": {},
   "source": [
    "**Brute force approach**"
   ]
  },
  {
   "cell_type": "code",
   "execution_count": 30,
   "id": "confidential-groove",
   "metadata": {},
   "outputs": [
    {
     "name": "stdout",
     "output_type": "stream",
     "text": [
      "case = [0, 0, 0, 0] cost = 0.0\n",
      "case = [1, 0, 0, 0] cost = 3.0\n",
      "case = [0, 1, 0, 0] cost = 2.0\n",
      "case = [1, 1, 0, 0] cost = 3.0\n",
      "case = [0, 0, 1, 0] cost = 3.0\n",
      "case = [1, 0, 1, 0] cost = 4.0\n",
      "case = [0, 1, 1, 0] cost = 3.0\n",
      "case = [1, 1, 1, 0] cost = 2.0\n",
      "case = [0, 0, 0, 1] cost = 2.0\n",
      "case = [1, 0, 0, 1] cost = 3.0\n",
      "case = [0, 1, 0, 1] cost = 4.0\n",
      "case = [1, 1, 0, 1] cost = 3.0\n",
      "case = [0, 0, 1, 1] cost = 3.0\n",
      "case = [1, 0, 1, 1] cost = 2.0\n",
      "case = [0, 1, 1, 1] cost = 3.0\n",
      "case = [1, 1, 1, 1] cost = 0.0\n",
      "\n",
      "Best solution = [1, 0, 1, 0] cost = 4.0\n"
     ]
    },
    {
     "data": {
      "image/png": "[encoded data removed]",
      "text/plain": [
       "<Figure size 432x288 with 1 Axes>"
      ]
     },
     "metadata": {},
     "output_type": "display_data"
    }
   ],
   "source": [
    "best_cost_brute = 0\n",
    "for b in range(2**n):\n",
    "    x = [int(t) for t in reversed(list(bin(b)[2:].zfill(n)))]\n",
    "    cost = 0\n",
    "    for i in range(n):\n",
    "        for j in range(n):\n",
    "            cost = cost + w[i,j]*x[i]*(1-x[j])\n",
    "    if best_cost_brute < cost:\n",
    "        best_cost_brute = cost\n",
    "        xbest_brute = x\n",
    "    print('case = ' + str(x)+ ' cost = ' + str(cost))\n",
    "\n",
    "colors = ['r' if xbest_brute[i] == 0 else 'c' for i in range(n)]\n",
    "draw_graph(G, colors, pos)\n",
    "print('\\nBest solution = ' + str(xbest_brute) + ' cost = ' + str(best_cost_brute))"
   ]
  },
  {
   "cell_type": "code",
   "execution_count": 31,
   "id": "improved-gentleman",
   "metadata": {},
   "outputs": [
    {
     "name": "stdout",
     "output_type": "stream",
     "text": [
      "Offset: -2.5\n",
      "Ising Hamiltonian:\n",
      "IIZZ\t(0.5+0j)\n",
      "IZIZ\t(0.5+0j)\n",
      "IZZI\t(0.5+0j)\n",
      "ZIIZ\t(0.5+0j)\n",
      "ZZII\t(0.5+0j)\n",
      "\n"
     ]
    }
   ],
   "source": [
    "qubitOp, offset = max_cut.get_operator(w)\n",
    "print('Offset:', offset)\n",
    "print('Ising Hamiltonian:')\n",
    "print(qubitOp.print_details())"
   ]
  },
  {
   "cell_type": "code",
   "execution_count": 32,
   "id": "controlled-timothy",
   "metadata": {},
   "outputs": [
    {
     "name": "stdout",
     "output_type": "stream",
     "text": [
      "// This file has been generated by DOcplex\n",
      "// model name is: AnonymousModel\n",
      "// single vars section\n",
      "dvar bool x_0;\n",
      "dvar bool x_1;\n",
      "dvar bool x_2;\n",
      "dvar bool x_3;\n",
      "\n",
      "minimize\n",
      " [ - 3 x_0^2 + 2 x_0*x_1 + 2 x_0*x_2 + 2 x_0*x_3 - 2 x_1^2 + 2 x_1*x_2\n",
      " - 3 x_2^2 + 2 x_2*x_3 - 2 x_3^2 ];\n",
      " \n",
      "subject to {\n",
      "\n",
      "}\n"
     ]
    }
   ],
   "source": [
    "# mapping Ising Hamiltonian to Quadratic Program\n",
    "qp = QuadraticProgram()\n",
    "qp.from_ising(qubitOp, offset)\n",
    "qp.to_docplex().prettyprint()"
   ]
  },
  {
   "cell_type": "code",
   "execution_count": 33,
   "id": "personal-district",
   "metadata": {},
   "outputs": [
    {
     "name": "stdout",
     "output_type": "stream",
     "text": [
      "optimal function value: -4.0\n",
      "optimal value: [1. 0. 1. 0.]\n",
      "status: SUCCESS\n"
     ]
    }
   ],
   "source": [
    "# solving Quadratic Program using exact classical eigensolver\n",
    "exact = MinimumEigenOptimizer(NumPyMinimumEigensolver())\n",
    "result = exact.solve(qp)\n",
    "print(result)"
   ]
  },
  {
   "cell_type": "code",
   "execution_count": 34,
   "id": "worse-absence",
   "metadata": {},
   "outputs": [
    {
     "name": "stdout",
     "output_type": "stream",
     "text": [
      "energy: -1.5\n",
      "max-cut objective: -4.0\n",
      "solution: [0 1 0 1]\n",
      "solution objective: 4.0\n"
     ]
    },
    {
     "data": {
      "image/png": "[encoded data removed]",
      "text/plain": [
       "<Figure size 432x288 with 1 Axes>"
      ]
     },
     "metadata": {},
     "output_type": "display_data"
    }
   ],
   "source": [
    "#Making the Hamiltonian in its full form and getting the lowest eigenvalue and eigenvector\n",
    "ee = NumPyMinimumEigensolver(qubitOp)\n",
    "result = ee.run()\n",
    "\n",
    "x = sample_most_likely(result.eigenstate)\n",
    "print('energy:', result.eigenvalue.real)\n",
    "print('max-cut objective:', result.eigenvalue.real + offset)\n",
    "print('solution:', max_cut.get_graph_solution(x))\n",
    "print('solution objective:', max_cut.max_cut_value(x, w))\n",
    "\n",
    "colors = ['r' if max_cut.get_graph_solution(x)[i] == 0 else 'c' for i in range(n)]\n",
    "draw_graph(G, colors, pos)"
   ]
  },
  {
   "cell_type": "markdown",
   "id": "martial-browse",
   "metadata": {},
   "source": [
    "**Running it on a quantum computer**"
   ]
  },
  {
   "cell_type": "code",
   "execution_count": 35,
   "id": "sporting-success",
   "metadata": {},
   "outputs": [],
   "source": [
    "aqua_globals.random_seed = np.random.default_rng(123)\n",
    "seed = 10598\n",
    "backend = Aer.get_backend('statevector_simulator')\n",
    "quantum_instance = QuantumInstance(backend, seed_simulator=seed, seed_transpiler=seed)"
   ]
  },
  {
   "cell_type": "code",
   "execution_count": 36,
   "id": "moral-financing",
   "metadata": {},
   "outputs": [
    {
     "name": "stdout",
     "output_type": "stream",
     "text": [
      "energy: -1.4999796718929863\n",
      "time: 2.5037403106689453\n",
      "max-cut objective: -3.9999796718929863\n",
      "solution: [1. 0. 1. 0.]\n",
      "solution objective: 4.0\n"
     ]
    },
    {
     "data": {
      "image/png": "[encoded data removed]",
      "text/plain": [
       "<Figure size 432x288 with 1 Axes>"
      ]
     },
     "metadata": {},
     "output_type": "display_data"
    }
   ],
   "source": [
    "# construct VQE\n",
    "spsa = SPSA(maxiter=300)\n",
    "ry = TwoLocal(qubitOp.num_qubits, 'ry', 'cz', reps=5, entanglement='linear')\n",
    "vqe = VQE(qubitOp, ry, spsa, quantum_instance=quantum_instance)\n",
    "\n",
    "# run VQE\n",
    "result = vqe.run(quantum_instance)\n",
    "\n",
    "# print results\n",
    "x = sample_most_likely(result.eigenstate)\n",
    "print('energy:', result.eigenvalue.real)\n",
    "print('time:', result.optimizer_time)\n",
    "print('max-cut objective:', result.eigenvalue.real + offset)\n",
    "print('solution:', max_cut.get_graph_solution(x))\n",
    "print('solution objective:', max_cut.max_cut_value(x, w))\n",
    "\n",
    "# plot results\n",
    "colors = ['r' if max_cut.get_graph_solution(x)[i] == 0 else 'c' for i in range(n)]\n",
    "draw_graph(G, colors, pos)"
   ]
  },
  {
   "cell_type": "code",
   "execution_count": 37,
   "id": "consistent-dressing",
   "metadata": {},
   "outputs": [
    {
     "name": "stdout",
     "output_type": "stream",
     "text": [
      "optimal function value: -4.0\n",
      "optimal value: [1. 0. 1. 0.]\n",
      "status: SUCCESS\n"
     ]
    },
    {
     "data": {
      "image/png": "[encoded data removed]",
      "text/plain": [
       "<Figure size 432x288 with 1 Axes>"
      ]
     },
     "metadata": {},
     "output_type": "display_data"
    }
   ],
   "source": [
    "# create minimum eigen optimizer based on VQE\n",
    "vqe_optimizer = MinimumEigenOptimizer(vqe)\n",
    "\n",
    "# solve quadratic program\n",
    "result = vqe_optimizer.solve(qp)\n",
    "print(result)\n",
    "\n",
    "colors = ['r' if result.x[i] == 0 else 'c' for i in range(n)]\n",
    "draw_graph(G, colors, pos)"
   ]
  },
  {
   "cell_type": "markdown",
   "id": "hollywood-harris",
   "metadata": {},
   "source": [
    "&nbsp;\n",
    "\n",
    "<div class=\"alert alert-block alert-warning\">\n",
    "    \n",
    "**Exercise 1**\n",
    "\n",
    "&nbsp;\n",
    "\n",
    "1. Modify the implementation to apply the VQE algorithm to solve the $MaxCut$ problem to the graph below, providing a coloring solution.\n",
    "\n",
    "\n",
    "<img src=\"https://ucarecdn.com/a67cb888-aa0c-424b-8c7f-847e38dd5691/\" width=\"400 px\" align=\"center\">\n",
    "\n",
    "\n",
    "\n",
    "</div>\n",
    "\n"
   ]
  },
  {
   "cell_type": "markdown",
   "id": "first-preliminary",
   "metadata": {},
   "source": [
    "**Refs**\n",
    "\n",
    "* [The Variational Quantum Eigensolver](https://medium.com/qiskit/the-variational-quantum-eigensolver-43f7718c2747)\n",
    "* [Simulating Molecules using VQE](https://qiskit.org/textbook/ch-applications/vqe-molecules.html)\n",
    "* [Solving combinatorial optimization problems using QAOA](https://qiskit.org/textbook/ch-applications/qaoa.html)\n"
   ]
  },
  {
   "cell_type": "code",
   "execution_count": null,
   "id": "downtown-amount",
   "metadata": {},
   "outputs": [],
   "source": []
  }
 ],
 "metadata": {
  "kernelspec": {
   "display_name": "Python 3",
   "language": "python",
   "name": "python3"
  },
  "language_info": {
   "codemirror_mode": {
    "name": "ipython",
    "version": 3
   },
   "file_extension": ".py",
   "mimetype": "text/x-python",
   "name": "python",
   "nbconvert_exporter": "python",
   "pygments_lexer": "ipython3",
   "version": "3.9.2"
  }
 },
 "nbformat": 4,
 "nbformat_minor": 5
}
