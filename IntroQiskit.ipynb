{
 "cells": [
  {
   "cell_type": "code",
   "execution_count": 1,
   "id": "ee07e325-8531-441a-8387-a989ddb50eeb",
   "metadata": {},
   "outputs": [],
   "source": [
    "import numpy as np\n",
    "\n",
    "# Importing standard Qiskit libraries\n",
    "from qiskit import QuantumCircuit, transpile, Aer, IBMQ\n",
    "from qiskit.tools.jupyter import *\n",
    "from qiskit.visualization import *\n",
    "from ibm_quantum_widgets import *\n",
    "from qiskit.providers.aer import QasmSimulator\n",
    "\n",
    "# Loading your IBM Quantum account(s)\n",
    "provider = IBMQ.load_account()"
   ]
  },
  {
   "cell_type": "code",
   "execution_count": 3,
   "id": "ffc08a35-993d-456e-9d73-45a35f52a3a3",
   "metadata": {},
   "outputs": [
    {
     "data": {
      "image/png": "[encoded data removed]",
      "text/plain": [
       "<Figure size 133.526x84.28 with 1 Axes>"
      ]
     },
     "execution_count": 3,
     "metadata": {},
     "output_type": "execute_result"
    }
   ],
   "source": [
    "# Builds a very simple quantum circuit with one qubit\n",
    "circ = QuantumCircuit(1)\n",
    "circ.h(0)\n",
    "circ.draw()"
   ]
  },
  {
   "cell_type": "code",
   "execution_count": 4,
   "id": "61d44a63-f429-4593-9804-0e5eb030f6c1",
   "metadata": {},
   "outputs": [
    {
     "data": {
      "text/html": [
       "<pre style=\"word-wrap: normal;white-space: pre;background: #fff0;line-height: 1.1;font-family: &quot;Courier New&quot;,Courier,monospace\">     ┌───┐\n",
       "q_0: ┤ H ├\n",
       "     └───┘</pre>"
      ],
      "text/plain": [
       "     ┌───┐\n",
       "q_0: ┤ H ├\n",
       "     └───┘"
      ]
     },
     "execution_count": 4,
     "metadata": {},
     "output_type": "execute_result"
    }
   ],
   "source": [
    "circ.draw(output=\"text\")"
   ]
  },
  {
   "cell_type": "code",
   "execution_count": 6,
   "id": "7a091a82-8d98-4916-b704-0bd5971277fb",
   "metadata": {},
   "outputs": [
    {
     "name": "stdout",
     "output_type": "stream",
     "text": [
      "[0.707+0.j 0.707+0.j]\n"
     ]
    }
   ],
   "source": [
    "# Let us try to obtain the quantum state\n",
    "backend = Aer.get_backend('statevector_simulator')\n",
    "job = backend.run(circ)\n",
    "result = job.result()\n",
    "outputstate = result.get_statevector(circ, decimals=3)\n",
    "print(outputstate)"
   ]
  },
  {
   "cell_type": "code",
   "execution_count": 9,
   "id": "0f3c53d0-1009-4c1b-ae8f-c0d0f0d0dce5",
   "metadata": {},
   "outputs": [
    {
     "data": {
      "text/plain": [
       "{'0': 0.5, '1': 0.5}"
      ]
     },
     "execution_count": 9,
     "metadata": {},
     "output_type": "execute_result"
    }
   ],
   "source": [
    "# Print the measurement values\n",
    "job.result().get_counts()"
   ]
  },
  {
   "cell_type": "code",
   "execution_count": 15,
   "id": "b17c9bb7-144e-4807-9c6f-f675cd5e8c28",
   "metadata": {},
   "outputs": [
    {
     "data": {
      "text/html": [
       "<pre style=\"word-wrap: normal;white-space: pre;background: #fff0;line-height: 1.1;font-family: &quot;Courier New&quot;,Courier,monospace\">     ┌───┐     \n",
       "q_0: ┤ H ├──■──\n",
       "     └───┘┌─┴─┐\n",
       "q_1: ─────┤ X ├\n",
       "          └───┘</pre>"
      ],
      "text/plain": [
       "     ┌───┐     \n",
       "q_0: ┤ H ├──■──\n",
       "     └───┘┌─┴─┐\n",
       "q_1: ─────┤ X ├\n",
       "          └───┘"
      ]
     },
     "execution_count": 15,
     "metadata": {},
     "output_type": "execute_result"
    }
   ],
   "source": [
    "# Entanglement\n",
    "circ2 = QuantumCircuit(2)\n",
    "circ2.h(0)\n",
    "circ2.cx(0,1)\n",
    "circ2.draw(output=\"text\")"
   ]
  },
  {
   "cell_type": "code",
   "execution_count": 18,
   "id": "eddb8f44-e9f2-43da-9afe-c22d70d80fae",
   "metadata": {},
   "outputs": [
    {
     "name": "stdout",
     "output_type": "stream",
     "text": [
      "[0.707+0.j 0.   +0.j 0.   +0.j 0.707+0.j]\n"
     ]
    }
   ],
   "source": [
    "job = backend.run(circ2)\n",
    "result = job.result()\n",
    "outputstate = result.get_statevector(circ2, decimals=3)\n",
    "print(outputstate)"
   ]
  },
  {
   "cell_type": "code",
   "execution_count": 19,
   "id": "bd7d18e6-2395-40d3-87a1-89357ebeec59",
   "metadata": {},
   "outputs": [
    {
     "data": {
      "text/plain": [
       "{'00': 0.5, '11': 0.5}"
      ]
     },
     "execution_count": 19,
     "metadata": {},
     "output_type": "execute_result"
    }
   ],
   "source": [
    "result.get_counts()"
   ]
  },
  {
   "cell_type": "code",
   "execution_count": 26,
   "id": "c60825df-2909-4d68-bbc1-fdbe3ec86455",
   "metadata": {},
   "outputs": [
    {
     "data": {
      "image/png": "[encoded data removed]",
      "text/plain": [
       "<Figure size 206.852x144.48 with 1 Axes>"
      ]
     },
     "execution_count": 26,
     "metadata": {},
     "output_type": "execute_result"
    }
   ],
   "source": [
    "# Phase kickback experiment\n",
    "circ3 = QuantumCircuit(2)\n",
    "circ3.x(1)\n",
    "circ3.h(0)\n",
    "circ3.cz(0,1)\n",
    "circ3.draw()"
   ]
  },
  {
   "cell_type": "code",
   "execution_count": 27,
   "id": "6774c199-77b1-4645-b0a8-d4d0278939a0",
   "metadata": {},
   "outputs": [
    {
     "name": "stdout",
     "output_type": "stream",
     "text": [
      "[ 0.   +0.j  0.   +0.j  0.707+0.j -0.707+0.j]\n"
     ]
    }
   ],
   "source": [
    "job = backend.run(circ3)\n",
    "result = job.result()\n",
    "outputstate = result.get_statevector(circ3, decimals=3)\n",
    "print(outputstate)"
   ]
  },
  {
   "cell_type": "code",
   "execution_count": 28,
   "id": "be62c9e6-486f-4268-b76e-d9a7b0e703dd",
   "metadata": {},
   "outputs": [
    {
     "data": {
      "text/plain": [
       "{'10': 0.5, '11': 0.5}"
      ]
     },
     "execution_count": 28,
     "metadata": {},
     "output_type": "execute_result"
    }
   ],
   "source": [
    "result.get_counts()"
   ]
  },
  {
   "cell_type": "code",
   "execution_count": 86,
   "id": "07ecece7-b2e4-4c58-8940-f8e8962d9604",
   "metadata": {},
   "outputs": [
    {
     "data": {
      "image/png": "[encoded data removed]",
      "text/plain": [
       "<Figure size 387.452x204.68 with 1 Axes>"
      ]
     },
     "execution_count": 86,
     "metadata": {},
     "output_type": "execute_result"
    }
   ],
   "source": [
    "# Deutsch alg.\n",
    "circD_id = QuantumCircuit(2,1)\n",
    "circD_id.h(0)\n",
    "circD_id.x(1)\n",
    "circD_id.h(1)\n",
    "# uncomment one of the following\n",
    "circD_id.cx(0,1) # i.e. f = id\n",
    "#circD_id.x(0) # i.e. f = swap\n",
    "#circD_id.cx(0,1)\n",
    "#circD_id.x(0)\n",
    "#3. ...  # i.e. f is constant on 0\n",
    "#4. circD_id.x(1) # i.e. f is constant on 1\n",
    "circD_id.h(0)\n",
    "circD_id.measure(0,0)\n",
    "circD_id.draw()"
   ]
  },
  {
   "cell_type": "code",
   "execution_count": 87,
   "id": "778f69db-4cb8-4bb8-bc83-ef96023c4803",
   "metadata": {},
   "outputs": [
    {
     "name": "stdout",
     "output_type": "stream",
     "text": [
      "[ 0.   +0.j  0.707-0.j  0.   -0.j -0.707+0.j]\n"
     ]
    }
   ],
   "source": [
    "job = backend.run(circD_id)\n",
    "result = job.result()\n",
    "outputstate = result.get_statevector(circD_id, decimals=3)\n",
    "print(outputstate)"
   ]
  },
  {
   "cell_type": "code",
   "execution_count": 88,
   "id": "d33e8a9d-2cde-4d86-b0de-d3f8a7680134",
   "metadata": {},
   "outputs": [
    {
     "data": {
      "text/plain": [
       "{'1': 1}"
      ]
     },
     "execution_count": 88,
     "metadata": {},
     "output_type": "execute_result"
    }
   ],
   "source": [
    "result.get_counts()"
   ]
  },
  {
   "cell_type": "code",
   "execution_count": null,
   "id": "387830c6-010c-4aef-986a-f050fc429db9",
   "metadata": {},
   "outputs": [],
   "source": []
  },
  {
   "cell_type": "code",
   "execution_count": null,
   "id": "794d2d39-ff88-4619-836b-a5a6881de3e9",
   "metadata": {},
   "outputs": [],
   "source": []
  }
 ],
 "metadata": {
  "kernelspec": {
   "display_name": "Qiskit v0.31.0 (ipykernel)",
   "language": "python",
   "name": "python3"
  },
  "language_info": {
   "codemirror_mode": {
    "name": "ipython",
    "version": 3
   },
   "file_extension": ".py",
   "mimetype": "text/x-python",
   "name": "python",
   "nbconvert_exporter": "python",
   "pygments_lexer": "ipython3",
   "version": "3.8.10"
  },
  "widgets": {
   "application/vnd.jupyter.widget-state+json": {
    "state": {
     "01b17cd272c84ec798a208ce44055479": {
      "model_module": "@jupyter-widgets/controls",
      "model_module_version": "1.5.0",
      "model_name": "HTMLModel",
      "state": {
       "layout": "IPY_MODEL_2c7c8a05d87d4c06a691a67b3338a4fe",
       "style": "IPY_MODEL_cb30054396ea402b9d3a97059114870b",
       "value": "<h5>Queue</h5>"
      }
     },
     "07a236d1a2d444948cef99a497ac4d2b": {
      "model_module": "@jupyter-widgets/base",
      "model_module_version": "1.2.0",
      "model_name": "LayoutModel",
      "state": {}
     },
     "142bae51f6564283b5b8a959e4de17a9": {
      "model_module": "@jupyter-widgets/base",
      "model_module_version": "1.2.0",
      "model_name": "LayoutModel",
      "state": {
       "margin": "0px 0px 0px 37px",
       "width": "600px"
      }
     },
     "2c7c8a05d87d4c06a691a67b3338a4fe": {
      "model_module": "@jupyter-widgets/base",
      "model_module_version": "1.2.0",
      "model_name": "LayoutModel",
      "state": {
       "width": "70px"
      }
     },
     "3648d9f1da134d59bca8d1adc5fbfbaa": {
      "model_module": "@jupyter-widgets/controls",
      "model_module_version": "1.5.0",
      "model_name": "DescriptionStyleModel",
      "state": {
       "description_width": ""
      }
     },
     "4536660f489c411b9bbcf6355d5fd28b": {
      "model_module": "@jupyter-widgets/base",
      "model_module_version": "1.2.0",
      "model_name": "LayoutModel",
      "state": {
       "width": "190px"
      }
     },
     "47b15942757e4c9990eafce0ae39e4f2": {
      "model_module": "@jupyter-widgets/base",
      "model_module_version": "1.2.0",
      "model_name": "LayoutModel",
      "state": {
       "width": "145px"
      }
     },
     "48dcb41b68ad42289c0c6c57451d5eb9": {
      "model_module": "@jupyter-widgets/base",
      "model_module_version": "1.2.0",
      "model_name": "LayoutModel",
      "state": {
       "grid_template_areas": "\n                                       \". . . . right \"\n                                        ",
       "grid_template_columns": "20% 20% 20% 20% 20%",
       "width": "100%"
      }
     },
     "523e1263ac1943a9b287b635b8ca0b8b": {
      "model_module": "@jupyter-widgets/controls",
      "model_module_version": "1.5.0",
      "model_name": "ButtonModel",
      "state": {
       "button_style": "primary",
       "description": "Clear",
       "layout": "IPY_MODEL_ad32504699854716973f96a8ef57c995",
       "style": "IPY_MODEL_c1ad89c8afc04843aaaf728df2ca6474"
      }
     },
     "642176aae7a44ecdbd352d984188a97d": {
      "model_module": "@jupyter-widgets/controls",
      "model_module_version": "1.5.0",
      "model_name": "HBoxModel",
      "state": {
       "children": [
        "IPY_MODEL_8450ab2338824657961c1807702f690a",
        "IPY_MODEL_82d1ace7739e4c0cbe3d3af629ac9bbd",
        "IPY_MODEL_ddbeb9e5d88c4780889171be08691b0c",
        "IPY_MODEL_01b17cd272c84ec798a208ce44055479",
        "IPY_MODEL_9b1db67e76c84d4481dccc4e19a04a2a"
       ],
       "layout": "IPY_MODEL_142bae51f6564283b5b8a959e4de17a9"
      }
     },
     "81d221e634574390a70e5adeb1b95503": {
      "model_module": "@jupyter-widgets/controls",
      "model_module_version": "1.5.0",
      "model_name": "DescriptionStyleModel",
      "state": {
       "description_width": ""
      }
     },
     "82d1ace7739e4c0cbe3d3af629ac9bbd": {
      "model_module": "@jupyter-widgets/controls",
      "model_module_version": "1.5.0",
      "model_name": "HTMLModel",
      "state": {
       "layout": "IPY_MODEL_47b15942757e4c9990eafce0ae39e4f2",
       "style": "IPY_MODEL_fc0a25e57d1948c7988fb4aa9ba62691",
       "value": "<h5>Backend</h5>"
      }
     },
     "8450ab2338824657961c1807702f690a": {
      "model_module": "@jupyter-widgets/controls",
      "model_module_version": "1.5.0",
      "model_name": "HTMLModel",
      "state": {
       "layout": "IPY_MODEL_4536660f489c411b9bbcf6355d5fd28b",
       "style": "IPY_MODEL_81d221e634574390a70e5adeb1b95503",
       "value": "<h5>Job ID</h5>"
      }
     },
     "9737d8d20331473cbc7ab975be64435b": {
      "model_module": "@jupyter-widgets/base",
      "model_module_version": "1.2.0",
      "model_name": "LayoutModel",
      "state": {
       "margin": "0px 0px 10px 0px"
      }
     },
     "9b1db67e76c84d4481dccc4e19a04a2a": {
      "model_module": "@jupyter-widgets/controls",
      "model_module_version": "1.5.0",
      "model_name": "HTMLModel",
      "state": {
       "layout": "IPY_MODEL_07a236d1a2d444948cef99a497ac4d2b",
       "style": "IPY_MODEL_3648d9f1da134d59bca8d1adc5fbfbaa",
       "value": "<h5>Message</h5>"
      }
     },
     "a31a4769d5624fe4a39d296d5d184624": {
      "model_module": "@jupyter-widgets/controls",
      "model_module_version": "1.5.0",
      "model_name": "DescriptionStyleModel",
      "state": {
       "description_width": ""
      }
     },
     "ab9eee17f66a44959fa741d46de7b36a": {
      "model_module": "@jupyter-widgets/controls",
      "model_module_version": "1.5.0",
      "model_name": "DescriptionStyleModel",
      "state": {
       "description_width": ""
      }
     },
     "ad32504699854716973f96a8ef57c995": {
      "model_module": "@jupyter-widgets/base",
      "model_module_version": "1.2.0",
      "model_name": "LayoutModel",
      "state": {
       "grid_area": "right",
       "padding": "0px 0px 0px 0px",
       "width": "70px"
      }
     },
     "c1ad89c8afc04843aaaf728df2ca6474": {
      "model_module": "@jupyter-widgets/controls",
      "model_module_version": "1.5.0",
      "model_name": "ButtonStyleModel",
      "state": {}
     },
     "cb30054396ea402b9d3a97059114870b": {
      "model_module": "@jupyter-widgets/controls",
      "model_module_version": "1.5.0",
      "model_name": "DescriptionStyleModel",
      "state": {
       "description_width": ""
      }
     },
     "d32e7dd5fb6a4434bd2720c78ea61519": {
      "model_module": "@jupyter-widgets/controls",
      "model_module_version": "1.5.0",
      "model_name": "GridBoxModel",
      "state": {
       "children": [
        "IPY_MODEL_523e1263ac1943a9b287b635b8ca0b8b"
       ],
       "layout": "IPY_MODEL_48dcb41b68ad42289c0c6c57451d5eb9"
      }
     },
     "dd5617b12c3c41928019758046599d71": {
      "model_module": "@jupyter-widgets/base",
      "model_module_version": "1.2.0",
      "model_name": "LayoutModel",
      "state": {
       "width": "95px"
      }
     },
     "ddbeb9e5d88c4780889171be08691b0c": {
      "model_module": "@jupyter-widgets/controls",
      "model_module_version": "1.5.0",
      "model_name": "HTMLModel",
      "state": {
       "layout": "IPY_MODEL_dd5617b12c3c41928019758046599d71",
       "style": "IPY_MODEL_a31a4769d5624fe4a39d296d5d184624",
       "value": "<h5>Status</h5>"
      }
     },
     "f3b7ead6a48e41c49bc3754b12b02996": {
      "model_module": "@jupyter-widgets/controls",
      "model_module_version": "1.5.0",
      "model_name": "HTMLModel",
      "state": {
       "layout": "IPY_MODEL_9737d8d20331473cbc7ab975be64435b",
       "style": "IPY_MODEL_ab9eee17f66a44959fa741d46de7b36a",
       "value": "<p style='font-family: IBM Plex Sans, Arial, Helvetica, sans-serif; font-size: 20px; font-weight: medium;'>Circuit Properties</p>"
      }
     },
     "fc0a25e57d1948c7988fb4aa9ba62691": {
      "model_module": "@jupyter-widgets/controls",
      "model_module_version": "1.5.0",
      "model_name": "DescriptionStyleModel",
      "state": {
       "description_width": ""
      }
     }
    },
    "version_major": 2,
    "version_minor": 0
   }
  }
 },
 "nbformat": 4,
 "nbformat_minor": 5
}
