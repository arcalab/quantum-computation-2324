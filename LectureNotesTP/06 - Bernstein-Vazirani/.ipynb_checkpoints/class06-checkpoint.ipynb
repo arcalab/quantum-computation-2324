{
 "cells": [
  {
   "cell_type": "markdown",
   "id": "369b3530",
   "metadata": {},
   "source": [
    "# Bernstein-Vazirani Algorithm"
   ]
  },
  {
   "cell_type": "markdown",
   "id": "c37c2ce6",
   "metadata": {},
   "source": [
    "1. [Bernstein-Vazirani Algorithm](#bva)\n",
    "2. [Simon's Algorithm](#simon) \n",
    "3. [The Algorithms so far](#alg)\n",
    "4. [Noise Models](#em)"
   ]
  },
  {
   "cell_type": "markdown",
   "id": "d9eeab63",
   "metadata": {},
   "source": [
    "## 1. Bernstein-Vazirani Algorithm<a id='bva'></a>"
   ]
  },
  {
   "cell_type": "markdown",
   "id": "536e782a",
   "metadata": {},
   "source": [
    "### The problem"
   ]
  },
  {
   "cell_type": "markdown",
   "id": "a4680188",
   "metadata": {},
   "source": [
    "Let the function $f$ be an oracle, which takes a string of bits as inputs and returns either $0$ or $1$:\n",
    "\n",
    "$$ f: \\{0,1\\}^n \\rightarrow \\{ 0,1 \\}$$\n",
    "\n",
    "$f(x)$ is guaranteed to return a bitwise product of the input $x$ with a string $s$, i.e. given $x$, \n",
    "$$ f(x) = s \\cdot x (\\mod 2)$$\n",
    "\n",
    "The goal of this algorithm is to **find $s$.**"
   ]
  },
  {
   "cell_type": "markdown",
   "id": "72963a3d",
   "metadata": {},
   "source": [
    "### The classical solution"
   ]
  },
  {
   "cell_type": "markdown",
   "id": "78941557",
   "metadata": {},
   "source": [
    "Classically, the most efficient method to find the secret string is by evaluating the function $n$ times with the input values $x = 2^i$ for all $i \\in \\{ 0 , 1 , . . . , n − 1 \\}$\n",
    "\n",
    "$$\\begin{aligned}f(1000\\cdots 0_{n})&=s_{1}\\\\f(0100\\cdots 0_{n})&=s_{2}\\\\f(0010\\cdots 0_{n})&=s_{3}\\\\&\\,\\,\\,\\vdots \\\\f(0000\\cdots 1_{n})&=s_{n}\\\\\\end{aligned}$$\n",
    "\n",
    "In contrast to the classical solution, which needs at least $n$ queries of the function to find $s$, only one is required using quantum computing."
   ]
  },
  {
   "cell_type": "markdown",
   "id": "50f5a351",
   "metadata": {},
   "source": [
    "### The quantum solution\n",
    "\n",
    "![BV](https://qiskit.org/textbook/ch-algorithms/images/bv1.png)"
   ]
  },
  {
   "cell_type": "markdown",
   "id": "b8d5a585",
   "metadata": {},
   "source": [
    "The algorithm has four main parts.\n",
    "\n",
    "The initial state is:  $ |0\\rangle ^{\\otimes n+1}$\n",
    "\n",
    "1. **Initialize the first $n$ qubits in the state $|0 \\rangle$ and the last qubit in the state $|1\\rangle$.** In Qiskit, all qubits are initialized in the state $|0\\rangle$, so the first qubits remain unchanged. For the last qubit, we initialize it to state $|1\\rangle$ by applying an $X$ gate.\n",
    "\n",
    "$$ |0\\rangle^{\\otimes n} \\otimes |1 \\rangle$$\n",
    "\n",
    "2. **Apply Hadamard gates to all qubits.**\n",
    "\n",
    "Consider the first $n$ qubits: \n",
    "\n",
    "$$ \\frac{1}{\\sqrt{2^n}} \\sum_{x=0}^{2^n-1}{|x\\rangle} $$\n",
    "\n",
    "3. **Build the box containing the secret number (also known as an \"oracle\").** We will build it as a function that computes $s \\cdot x \\mod 2$  by applying $CX$ gates from the first $n$ qubits onto the last qubit whenever there is a $1$ in the secret number. We will do this in reverse order, meaning that there will be a $CX$ gate from the $n$th qubit to the last qubit if the first bit of the secret number is $1$.\n",
    "\n",
    "The oracle applies the transformation:\n",
    "$$ |x \\rangle \\rightarrow (-1)^{f(x)} |x\\rangle$$\n",
    "\n",
    "Therefore, the superposition transforms into:\n",
    "$$ \\frac{1}{\\sqrt{2^n}} \\sum_{x=0}^{2^n-1}{(-1)^{f(x)}|x\\rangle} $$\n",
    "\n",
    "4. **Measure the first $n$ qubits in the Bell basis.** This means applying Hadamard gates to the first $n$ qubits again before applying measurements.\n",
    "\n",
    "With the Hadamard: \n",
    "* For qubits where $s_i = 1$, the qubit state $| -\\rangle$ converts to $|1\\rangle$;\n",
    "* For qubits where $s_i = 0$, the qubit state $| +\\rangle$ converts to $|0\\rangle$;"
   ]
  },
  {
   "cell_type": "markdown",
   "id": "2efca72b",
   "metadata": {},
   "source": [
    "The algorithm may be represented by:\n",
    "\n",
    "$ |0\\rangle ^{\\otimes n} \\xrightarrow{H^{\\otimes n}} \\frac{1}{\\sqrt{2^n}} \\sum_{x\\in \\{0,1\\}^n}{|x\\rangle} \\xrightarrow{U_f} \\frac{1}{\\sqrt{2^n}} \\sum_{x\\in \\{0,1\\}^n}{(-1)^{f(x)}|x\\rangle} \\xrightarrow{H^{\\otimes n}} \\frac{1}{\\sqrt{2^n}} \\sum_{x\\in \\{0,1\\}^n}{(-1)^{f(x) + x \\cdot y}|y\\rangle} = |s\\rangle  $"
   ]
  },
  {
   "cell_type": "markdown",
   "id": "cb3a71b2",
   "metadata": {},
   "source": [
    "For a particular $y$:\n",
    "\n",
    "$\\frac{1}{2^n} \\sum_{x\\in \\{0,1\\}^n}{(-1)^{f(x) + x \\cdot y}} = \n",
    "\\frac{1}{2^n} \\sum_{x\\in \\{0,1\\}^n}{(-1)^{x \\cdot s + x \\cdot y}} = \n",
    "\\frac{1}{2^n} \\sum_{x\\in \\{0,1\\}^n}{(-1)^{x \\cdot ( s \\otimes y)}} = 1 \n",
    "\\mbox{ if } s \\otimes y = \\overrightarrow{0}, 0 \\mbox{ otherwise}$"
   ]
  },
  {
   "cell_type": "code",
   "execution_count": null,
   "id": "c0038542",
   "metadata": {},
   "outputs": [],
   "source": [
    "# initialization\n",
    "import matplotlib.pyplot as plt\n",
    "import numpy as np\n",
    "%matplotlib inline\n",
    "import math\n",
    "from math import pi\n",
    "\n",
    "# importing Qiskit\n",
    "from qiskit import Aer\n",
    "from qiskit_ibm_provider import IBMProvider\n",
    "from qiskit import QuantumCircuit, ClassicalRegister, QuantumRegister, transpile, assemble, execute\n",
    "\n",
    "# import basic plot tools\n",
    "from qiskit.visualization import plot_histogram"
   ]
  },
  {
   "cell_type": "markdown",
   "id": "27ddd8d7",
   "metadata": {},
   "source": [
    "Let the hidden binary string $s$ be '011':"
   ]
  },
  {
   "cell_type": "code",
   "execution_count": null,
   "id": "8c6eb9b2",
   "metadata": {},
   "outputs": [],
   "source": [
    "s = '011'  "
   ]
  },
  {
   "cell_type": "code",
   "execution_count": null,
   "id": "64c49ba1",
   "metadata": {},
   "outputs": [],
   "source": [
    "n = 3 # number of qubits used to represent s\n",
    "\n",
    "# We need a circuit with n qubits, plus one auxiliary qubit\n",
    "# Also need n classical bits to write the output to\n",
    "qr = QuantumRegister(n+1)\n",
    "cr = ClassicalRegister(n)\n",
    "bv_circuit = QuantumCircuit(qr, cr)\n",
    "\n",
    "# put auxiliary in state |1>\n",
    "bv_circuit.x(qr[n])\n",
    "\n",
    "# Apply Hadamard gates to all qubits\n",
    "bv_circuit.h(qr)\n",
    "    \n",
    "# Apply barrier \n",
    "bv_circuit.barrier()\n",
    "\n",
    "# Apply the inner-product oracle\n",
    "# reverse s to fit qiskit's qubit ordering or explain your results\n",
    "bv_circuit.cx(qr[0], qr[n])\n",
    "bv_circuit.cx(qr[1], qr[n])\n",
    "        \n",
    "# Apply barrier \n",
    "bv_circuit.barrier()\n",
    "\n",
    "#Apply Hadamard gates after querying the oracle\n",
    "for i in range(n):\n",
    "    bv_circuit.h(qr[i])\n",
    "\n",
    "# Measurement\n",
    "for i in range(n):\n",
    "    bv_circuit.measure(qr[i], cr[i])\n",
    "\n",
    "bv_circuit.draw(output='mpl')\n"
   ]
  },
  {
   "cell_type": "code",
   "execution_count": null,
   "id": "d1d814b4",
   "metadata": {},
   "outputs": [],
   "source": [
    "# use local simulator\n",
    "aer_sim = Aer.get_backend('aer_simulator')\n",
    "shots = 1024\n",
    "results = aer_sim.run(bv_circuit).result()\n",
    "answer = results.get_counts()\n",
    "\n",
    "plot_histogram(answer)"
   ]
  },
  {
   "cell_type": "markdown",
   "id": "fb4d585f",
   "metadata": {},
   "source": [
    "<div class=\"alert alert-block alert-warning\">\n",
    "    \n",
    "**Exercise**   Modify the implementation for **any string $s$**. Are the results what you expect? Explain. \n",
    "    \n",
    "</div>"
   ]
  },
  {
   "cell_type": "code",
   "execution_count": null,
   "id": "4ae26641",
   "metadata": {},
   "outputs": [],
   "source": [
    "# number of qubits used to represent s\n",
    "\n",
    "# We need a circuit with n qubits, plus one auxiliary qubit\n",
    "# Also need n classical bits to write the output to\n",
    "\n",
    "\n",
    "# put auxiliary in state |1>\n",
    "\n",
    "# Apply Hadamard gates to all qubits\n",
    "    \n",
    "# Apply barrier \n",
    "\n",
    "# Apply the inner-product oracle\n",
    "# reverse s to fit qiskit's qubit ordering or explain your results\n",
    "# inverter s\n",
    "\n",
    "        \n",
    "# Apply barrier \n",
    "\n",
    "#Apply Hadamard gates after querying the oracle\n",
    "\n",
    "# Measurement\n"
   ]
  },
  {
   "cell_type": "code",
   "execution_count": null,
   "id": "f90d0736",
   "metadata": {},
   "outputs": [],
   "source": [
    "# use local simulator\n",
    "aer_sim = Aer.get_backend('aer_simulator')\n",
    "shots = 1024\n",
    "qobj = assemble(bv_circuit)\n",
    "results = aer_sim.run(qobj).result()\n",
    "answer = results.get_counts()\n",
    "\n",
    "plot_histogram(answer)"
   ]
  },
  {
   "cell_type": "markdown",
   "id": "bff0ccfe",
   "metadata": {},
   "source": [
    "### References:\n",
    "* [Qiskit Bernstein-Vazirani Algorithm](https://learn.qiskit.org/course/ch-algorithms/bernstein-vazirani-algorithm)\n",
    "* [original Paper](https://epubs.siam.org/doi/10.1137/S0097539796300921)"
   ]
  },
  {
   "cell_type": "markdown",
   "id": "93419a89",
   "metadata": {},
   "source": [
    "## 2. Simon's Algorithm <a id='simon'></a>"
   ]
  },
  {
   "cell_type": "markdown",
   "id": "c82f4e07",
   "metadata": {},
   "source": [
    "### The problem"
   ]
  },
  {
   "cell_type": "markdown",
   "id": "10624cd9",
   "metadata": {},
   "source": [
    "Let $f$ be an oracle $f:x \\in \\{0,1\\}^n \\rightarrow \\{0,1\\}^n$, that guaranteis $f$ to be either one-to-one($1:1$) or two-to-one (2:1), where:\n",
    "* a one-to-one function:maps one unique input to every unique output, e.g. $f(1) \\rightarrow 1, \\quad f(2) \\rightarrow 2, \\quad f(3) \\rightarrow 3, \\quad f(4) \\rightarrow 4$\n",
    "* and a two-to-one function maps two inputs to every unique output, e.g. $f(1) \\rightarrow 1, \\quad f(2)\\rightarrow 2, \\quad f(3)\\rightarrow 1, \\quad f(4)\\rightarrow 2 \\quad$\n",
    "\n",
    "To find if the function is one-to-one or two-to-one, one needs to express this guarantee in terms of a secret bit string $s$. For some $s \\in \\{0,1\\}^n$, for all $x_1, x_2 \\in \\{0,1\\}^n$,\n",
    "\n",
    "$ f(x_1)=f(x_2)$ if and only if $x_1 \\otimes x_2\\in \\{0^n,s\\}$\n",
    "\n",
    "where $\\otimes$ denotes a bitwise XOR. \n",
    "\n",
    "Note that $a\\otimes b =0^n$ if and only if $a=b$, \n",
    "and for $x_1$ and $s$ in $x_1 \\otimes x_2 =s$ , $x_2$ is unique (not equal to $x_1$) if and only if $s \\neq 0^n$. \n",
    "Therefore, $f$ is two-to-one when $s\\neq 0^n$, and one-to-one when $s=0^n$. \n",
    "\n",
    "Morever, $x_1 \\otimes x_2=s$ implies $x_2= s \\otimes x_1$, so $f$ is periodic: $f(x_1)=f(x_2) = f(x_1\\otimes s)$ "
   ]
  },
  {
   "cell_type": "markdown",
   "id": "251fd853",
   "metadata": {},
   "source": [
    "### The classical solution"
   ]
  },
  {
   "cell_type": "markdown",
   "id": "437273d7",
   "metadata": {},
   "source": [
    "In the classical solution all we can do is to check the values of $x$ until we find a repeated output, i.e. $f(x_i) =f(x_j)$, which allows to calculate $s$. \n",
    "\n",
    "After we called the function $m$ times, we compared $m(m-1)/2$ pairs. \n",
    "\n",
    "One needs $\\frac{1}{2} m(m-1) \\sim 2^n$ to ensure a reasonable chance of success. Therefore the complexity is exponential in the number of bits $n$, i.e. $m=O(2^{\\frac{n}{2}})$."
   ]
  },
  {
   "cell_type": "markdown",
   "id": "cae64aef",
   "metadata": {},
   "source": [
    "### The quantum solution\n",
    "\n",
    "![Simon](https://qiskit.org/textbook/ch-algorithms/images/simon_steps.png)"
   ]
  },
  {
   "cell_type": "markdown",
   "id": "20818f7c",
   "metadata": {},
   "source": [
    "1. Two n-qubit input registers are initialized to the zero state: \n",
    "\n",
    "$$|\\psi_1\\rangle=|0\\rangle\\otimes n|0\\rangle\\otimes n$$\n",
    "\n",
    "2. Apply a Hadamard transform to the first register: \n",
    "\n",
    "$$|\\psi_2⟩=\\frac{1}{\\sqrt{2^n}}\\sum_{x\\in\\{0,1\\}^n}|x\\rangle|0\\rangle^{\\otimes n}$$\n",
    "\n",
    "3. Apply the query function $Q_f$:\n",
    "$$|\\psi_3\\rangle=\\frac{1}{\\sqrt{2^n}}\\sum_{x\\in\\{0,1\\}^n}{|x\\rangle|f(x)\\rangle}$$\n",
    "\n",
    "4. Measure the second register. A specific value of $f(x)$ will be observed. Because of the setting of the problem, the observed value $f(x)$ could correspond to two possible inputs: $x$ and $y=x\\otimes b$. Therefore the first register becomes: \n",
    "$$|\\psi_4⟩=\\frac{1}{\\sqrt{2}}(|x\\rangle+|y\\rangle)$$\n",
    "where we omitted the second register since it has been measured.\n",
    "\n",
    "5. Apply Hadamard on the first register: \n",
    "$$|\\psi_5⟩=\\frac{1}{\\sqrt{2^{n+1}}}\\sum_{z\\in\\{0,1\\}^n}{[(−1)^{x\\cdot z}+(−1)^{y\\cdot z}]|z\\rangle}$$\n",
    "\n",
    "6. Measuring the first register will give an output only if: \n",
    "$$(−1)x\\cdot z=(−1)y\\cdot z$$\n",
    "which means: \n",
    "$$x\\cdot z=y\\cdot z $$\n",
    "$$x\\cdot z=(x\\otimes b)\\cdot z$$\n",
    "$$x\\cdot z=x\\cdot z\\otimes b\\cdot z$$\n",
    "$$b\\cdot z=0 (\\mod 2)$$ \n",
    "\n",
    "A string $z$ will be measured, whose inner product with $b=0$. Thus, repeating the algorithm $ \\approx n$ times, we will be able to obtain $n$ different values of $z$ and the following system of equation can be written: \n",
    "$$b\\cdot z_1=0$$\n",
    "$$b\\cdot z_2=0$$\n",
    "$$...$$\n",
    "$$b\\cdot z_n=0$$ \n",
    "From which $b$ can be determined, for example, by Gaussian elimination. "
   ]
  },
  {
   "cell_type": "markdown",
   "id": "44ef3cdc",
   "metadata": {},
   "source": [
    "<div class=\"alert alert-block alert-warning\">\n",
    "    \n",
    "**Exercise** Implement Simon's algorithm for $n = 2$ and $b = 11$\n",
    "    \n",
    "</div>"
   ]
  },
  {
   "cell_type": "markdown",
   "id": "discrete-carnival",
   "metadata": {},
   "source": [
    "Two n-qubit input registers are initialized to the zero state: \n",
    "$$ |\\psi_1 \\rangle = |0\\rangle ^{\\otimes n}|0\\rangle ^{\\otimes n} = |00\\rangle_1 |00\\rangle_2 $$"
   ]
  },
  {
   "cell_type": "code",
   "execution_count": null,
   "id": "8bc47dd7",
   "metadata": {},
   "outputs": [],
   "source": []
  },
  {
   "cell_type": "markdown",
   "id": "pleased-instruction",
   "metadata": {},
   "source": [
    " Apply a Hadamard transform to the first register: \n",
    " $$ |\\psi_2 \\rangle = \\frac{1}{\\sqrt{2^n}} \\sum _{x \\in \\{0,1\\}^n } |x\\rangle|0\\rangle ^{\\otimes n}$$\n",
    " \n",
    " $$\\frac{1}{\\sqrt{2}} ( |00\\rangle_1 + | 01\\rangle_1 + |10\\rangle_1 + |11\\rangle_1 )|00\\rangle_2$$"
   ]
  },
  {
   "cell_type": "code",
   "execution_count": null,
   "id": "9a680f29",
   "metadata": {},
   "outputs": [],
   "source": []
  },
  {
   "cell_type": "markdown",
   "id": "metropolitan-generator",
   "metadata": {},
   "source": [
    "Appy oracle:\n",
    " $$ |\\psi_3 \\rangle = \\frac{1}{\\sqrt{2^n}} \\sum _{x \\in \\{0,1\\}^n } |x\\rangle|f(x)\\rangle $$\n",
    " \n",
    " \n",
    " $$\\frac{1}{2} ( |00\\rangle_1| 00\\rangle_2 + | 10\\rangle_1 |11\\rangle_2 + |10\\rangle_1|11\\rangle_2 +| 11\\rangle |00\\rangle_2)$$"
   ]
  },
  {
   "cell_type": "code",
   "execution_count": null,
   "id": "bbc23560",
   "metadata": {},
   "outputs": [],
   "source": []
  },
  {
   "cell_type": "markdown",
   "id": "native-stamp",
   "metadata": {},
   "source": [
    "Measure the second register. \n",
    "\n",
    "$$ |\\psi_4 \\rangle = \\frac{1}{\\sqrt{2}}(|x\\rangle + |y\\rangle )$$\n",
    "\n",
    "For instance, if the measument is $11$ then:\n",
    " $$\\frac{1}{\\sqrt{2}} ( |01 \\rangle_1 + |10 \\rangle_1)$$"
   ]
  },
  {
   "cell_type": "code",
   "execution_count": null,
   "id": "0840bb13",
   "metadata": {},
   "outputs": [],
   "source": []
  },
  {
   "cell_type": "markdown",
   "id": "brazilian-blake",
   "metadata": {},
   "source": [
    "Measuring the first register\n",
    "\n",
    "$$(-1)^{x \\cdot z} = (-1)^{y \\cdot z}$$"
   ]
  },
  {
   "cell_type": "code",
   "execution_count": null,
   "id": "b7fd312e",
   "metadata": {},
   "outputs": [],
   "source": []
  },
  {
   "cell_type": "code",
   "execution_count": null,
   "id": "06a50243",
   "metadata": {},
   "outputs": [],
   "source": []
  },
  {
   "cell_type": "markdown",
   "id": "8fdd820d",
   "metadata": {},
   "source": [
    "**References**\n",
    "* [Qiskit Simon's Algorithm](https://learn.qiskit.org/course/ch-algorithms/simons-algorithm)\n",
    "* [Lecture by Peter Young](https://young.physics.ucsc.edu/150/simon.pdf)\n",
    "* [Simon's Paper](https://epubs.siam.org/doi/10.1137/S0097539796298637)"
   ]
  },
  {
   "cell_type": "markdown",
   "id": "a014dbb5",
   "metadata": {},
   "source": [
    "## 3. The Algorithms so far <a id='alg'></a>"
   ]
  },
  {
   "cell_type": "markdown",
   "id": "a63ddc0f",
   "metadata": {},
   "source": [
    "### Deutsch-Jozsa Algorithm\n",
    "* Classical computers \n",
    "    * For some inputs, it may take **exponential time** to solve with certainty.\n",
    "        * Exact classical query complexity: $2^{n-1}+1$\n",
    "    * However, BPP algorithms can solve de DJ problem in **polinomial time (P)**, with a **small probability of errors**.\n",
    "        * Bounded error classical query complexity:$O(1)$\n",
    "    \n",
    "* Quantum computers\n",
    "    * Solves the problem with certainty in **quantum polynomial time (QP)**.\n",
    "        * Exact quantum query complexity: $1$\n",
    "    \n",
    "![DJ](https://qiskit.org/textbook/ch-algorithms/images/deutsch_steps.png)"
   ]
  },
  {
   "cell_type": "markdown",
   "id": "eee0b786",
   "metadata": {},
   "source": [
    "### Bernstein-Vazirani Algorithm\n",
    "* The goal of this algorithm was to prove **oracle separation between complexity classes BPP (bounded-error probabilistic polynomial time) and BQP (bounded-error quantum polynomial time).**\n",
    "    * Exact classical query complexity: $n$\n",
    "    * Bounded error classical query complexity: $\\Omega(n)$\n",
    "    * Exact quantum query complexity: $1$\n",
    "\n",
    "![BV](https://qiskit.org/textbook/ch-algorithms/images/bv1.png)"
   ]
  },
  {
   "cell_type": "markdown",
   "id": "c9b9a609",
   "metadata": {},
   "source": [
    "### Simon's Algorithm\n",
    "* The oracle separation between classes BPP and BQP, but in this case, the separation is **exponential**.\n",
    "    * Bounded error classical query complexity: $\\Omega(2^{n/2})$\n",
    "    * Bounded error quantum query complexity: $O(n)$\n",
    "\n",
    "![Simon](https://qiskit.org/textbook/ch-algorithms/images/simon_steps.png)"
   ]
  },
  {
   "cell_type": "markdown",
   "id": "d2dc94e0",
   "metadata": {},
   "source": [
    "**Refs**\n",
    "* [Quantum computing slides](https://www.slideserve.com/huela/csep-590tv-quantum-computing)"
   ]
  },
  {
   "cell_type": "markdown",
   "id": "c32346e9",
   "metadata": {},
   "source": [
    "## 4. Noise model <a id='em'></a>"
   ]
  },
  {
   "cell_type": "markdown",
   "id": "1d243d94",
   "metadata": {},
   "source": [
    "First create a **nose model**."
   ]
  },
  {
   "cell_type": "code",
   "execution_count": null,
   "id": "79ebcd0d",
   "metadata": {},
   "outputs": [],
   "source": [
    "import qiskit_ibm_provider.jupyter  \n",
    "\n",
    "from qiskit.providers.aer.noise import NoiseModel\n",
    "from qiskit.providers.aer.noise.errors import pauli_error, depolarizing_error"
   ]
  },
  {
   "cell_type": "code",
   "execution_count": null,
   "id": "61ce4a9b",
   "metadata": {},
   "outputs": [],
   "source": [
    "provider = IBMProvider()"
   ]
  },
  {
   "cell_type": "code",
   "execution_count": null,
   "id": "d8f7089d",
   "metadata": {},
   "outputs": [],
   "source": [
    "%ibm_quantum_dashboard"
   ]
  },
  {
   "cell_type": "code",
   "execution_count": null,
   "id": "8f50758f",
   "metadata": {},
   "outputs": [],
   "source": [
    "backend = provider.get_backend('ibm_brisbane')\n",
    "noise_model = NoiseModel.from_backend(backend)\n",
    "print(noise_model)"
   ]
  },
  {
   "cell_type": "code",
   "execution_count": null,
   "id": "3b4b1634",
   "metadata": {},
   "outputs": [],
   "source": [
    "aer_sim = Aer.get_backend('aer_simulator')\n",
    "for state in ['00','01','10','11']:\n",
    "    qc = QuantumCircuit(2,2)\n",
    "    if state[0]=='1':\n",
    "        qc.x(1)\n",
    "    if state[1]=='1':\n",
    "        qc.x(0)  \n",
    "    qc.measure([0, 1], [0, 1])\n",
    "    t_qc = transpile(qc, aer_sim)\n",
    "    qobj = assemble(t_qc)\n",
    "    counts = aer_sim.run(qc, noise_model=noise_model, shots=10000).result().get_counts()\n",
    "    print(state+' becomes', counts)"
   ]
  },
  {
   "cell_type": "markdown",
   "id": "1e0cd637",
   "metadata": {},
   "source": [
    "**Refs:**\n",
    "* [Device noise simulation](https://qiskit.org/documentation/stable/0.19/tutorials/simulators/2_device_noise_simulation.html)\n",
    "\n",
    "**Further study:**\n",
    "* [Building Noise Models](https://qiskit.org/documentation/stable/0.38/tutorials/simulators/3_building_noise_models.html)"
   ]
  },
  {
   "cell_type": "code",
   "execution_count": null,
   "id": "532bf6d8",
   "metadata": {},
   "outputs": [],
   "source": []
  }
 ],
 "metadata": {
  "kernelspec": {
   "display_name": "Python 3 (ipykernel)",
   "language": "python",
   "name": "python3"
  },
  "language_info": {
   "codemirror_mode": {
    "name": "ipython",
    "version": 3
   },
   "file_extension": ".py",
   "mimetype": "text/x-python",
   "name": "python",
   "nbconvert_exporter": "python",
   "pygments_lexer": "ipython3",
   "version": "3.11.5"
  }
 },
 "nbformat": 4,
 "nbformat_minor": 5
}
