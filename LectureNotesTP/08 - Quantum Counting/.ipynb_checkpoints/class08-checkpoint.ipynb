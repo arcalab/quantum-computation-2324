{
 "cells": [
  {
   "cell_type": "markdown",
   "id": "6465214a",
   "metadata": {},
   "source": [
    "# Quantum Counting\n",
    "\n",
    "&nbsp;\n",
    "\n",
    "### Content\n",
    "\n",
    "1. [Turning the Problems into Circuits](#sg)\n",
    "2. [Quantum Fourier Tranform](#qft)\n",
    "3. [Quantum Counting](#qc)\n"
   ]
  },
  {
   "cell_type": "code",
   "execution_count": null,
   "id": "691ab326",
   "metadata": {},
   "outputs": [],
   "source": [
    "#initialization\n",
    "import matplotlib.pyplot as plt\n",
    "import numpy as np\n",
    "\n",
    "# importing Qiskit\n",
    "from qiskit import IBMQ, Aer, assemble, transpile\n",
    "from qiskit import QuantumCircuit, ClassicalRegister, QuantumRegister\n",
    "from qiskit import execute\n",
    "# import basic plot tools\n",
    "from qiskit.visualization import plot_histogram\n",
    "\n",
    "# Import math Library\n",
    "from math import * "
   ]
  },
  {
   "cell_type": "code",
   "execution_count": null,
   "id": "yellow-master",
   "metadata": {},
   "outputs": [],
   "source": [
    "# Plot results\n",
    "def show_results(D):\n",
    "    # D is a dictionary with classical bits as keys and count as value\n",
    "    # example: D = {'000': 497, '001': 527}\n",
    "    plt.bar(range(len(D)), list(D.values()), align='center')\n",
    "    plt.xticks(range(len(D)), list(D.keys()))\n",
    "    plt.show()\n",
    "\n",
    "# Execute circuit, display a histogram of the results\n",
    "def execute_locally(qc, draw_circuit=False):\n",
    "    # Compile and run the Quantum circuit on a simulator backend\n",
    "    backend_sim = Aer.get_backend('qasm_simulator')\n",
    "    job_sim = execute(qc, backend_sim)\n",
    "    result_sim = job_sim.result()\n",
    "    result_counts = result_sim.get_counts(qc)\n",
    "    \n",
    "    # Print the results\n",
    "    print(\"simulation: \\n\\n\", result_counts)\n",
    "    show_results(result_counts)\n",
    "    \n",
    "    return result_counts"
   ]
  },
  {
   "cell_type": "markdown",
   "id": "be14b1ab",
   "metadata": {},
   "source": [
    "## 1. Turning Problems into Circuits <a id='sg'></a>"
   ]
  },
  {
   "cell_type": "markdown",
   "id": "f3cddc47",
   "metadata": {},
   "source": [
    "In the previous class, we defined problems knowing the exact state we were looking for. However, there may be cases where the solution is not necessarily known beforehand.  \n",
    "\n",
    "Consider the binary sudoku in a 2x2 matrix. \n",
    "In this problem, neither the columns nor the rows can contain the same value twice.  \n",
    "\n",
    "With this problem, we can see how to convert a decision problem into an oracle of Grover's Algorithm. \n",
    "\n",
    "First, we assign each square of the sudoku to a variable: \n",
    "\n",
    "![sudoku](https://learn.qiskit.org/content/v2/ch-algorithms/images/binary_sudoku.png)\n",
    "\n",
    "Our oracle circuit identifies the correct solution. \n",
    "\n",
    "Now, we need a classical function to check whether the state of our variable is a valid solution. Specifically, we have the four conditions.\n",
    "* $v_0 \\neq v_1$ \n",
    "* $v_2 \\neq v_3$\n",
    "* $v_0 \\neq v_2$\n",
    "* $v_1 \\neq v_3$\n"
   ]
  },
  {
   "cell_type": "code",
   "execution_count": null,
   "id": "0cadcd85",
   "metadata": {},
   "outputs": [],
   "source": [
    "clause_list = [[0,1],\n",
    "               [0,2],\n",
    "               [1,3],\n",
    "               [2,3]]"
   ]
  },
  {
   "cell_type": "markdown",
   "id": "d52cb70f",
   "metadata": {},
   "source": [
    "To check each condition, we can use an XOR gate. \n",
    "\n",
    "|a|b|output|\n",
    "|-|-|-|\n",
    "|0|0|0|\n",
    "|0|1|1|\n",
    "|1|0|1|\n",
    "|1|1|0|\n",
    "\n",
    "<div class=\"alert alert-block alert-warning\">\n",
    "    \n",
    "**Exercise** Define the quantum circuit for the XOR.\n",
    "\n",
    "</div>"
   ]
  },
  {
   "cell_type": "code",
   "execution_count": null,
   "id": "8549923b",
   "metadata": {},
   "outputs": [],
   "source": [
    "def XOR(qc, a, b, output):\n"
   ]
  },
  {
   "cell_type": "markdown",
   "id": "13f517ef",
   "metadata": {},
   "source": [
    "The final state of the bits `c0, c1, c2, c3` will only all be 1 in  case  the assignments of `v0, v1, v2, v3` are a solution to the sudoku. To complete our checking circuit, we want a single bit to be 1 if (and only if) all the clauses are satisfied, this way, we can look at just one bit to see if our assignment is a solution. **We can do this using a multi-controlled-Toffoli-gate `mct`**:"
   ]
  },
  {
   "cell_type": "markdown",
   "id": "feabe65f",
   "metadata": {},
   "source": [
    "<div class=\"alert alert-block alert-warning\">\n",
    "    \n",
    "**Exercise** \n",
    "Implement Sudoku oracle. \n",
    "\n",
    "Start with:\n",
    "* One register which stores our sudoku variables (x=v3,v2,v1,v0)\n",
    "* One register that stores our clauses (this starts in the state $|0000\\rangle$ which we'll abbreviate to $|0\\rangle$)\n",
    "* And one qubit ($|out_0\\rangle$) that we've been using to store the output of our checking circuit. \n",
    "\n",
    "Then for the oracle, we need the transformation:\n",
    "$$U_\\omega |x\\rangle |0\\rangle |out_0 \\rangle =|x\\rangle |0\\rangle |out_0 \\oplus f(x) \\rangle $$\n",
    "\n",
    "The multi-controlled-Toffoli gate can be implemented by mct gate or the following the decomposition:\n",
    "\n",
    "</div>\n",
    "<img src=\"https://www.researchgate.net/profile/Peter-Russer/publication/225931473/figure/fig2/AS:383053693243397@1468338525711/Decomposition-of-the-multiply-controlled-NOT-gate-C-k-X-into-2-k-1-TOFFOLI-gates_W640.jpg\" width=\"500 px\" align=\"center\">\n",
    "\n",
    "<div class=\"alert alert-block alert-warning\">\n",
    "\n",
    "Note: in the Oracle, you should 'uncompute' clauses to reset clause-checking bits to $|0000\\rangle$.\n",
    "    \n",
    "    \n",
    "</div>\n"
   ]
  },
  {
   "cell_type": "code",
   "execution_count": null,
   "id": "3beade0d",
   "metadata": {},
   "outputs": [],
   "source": [
    "var_qubits = QuantumRegister(4, name='v')\n",
    "clause_qubits = QuantumRegister(4, name='c')\n",
    "output_qubit = QuantumRegister(1, name='out')\n",
    "cbits = ClassicalRegister(4, name='cbits')\n",
    "qc = QuantumCircuit(var_qubits, clause_qubits, output_qubit, cbits)\n",
    "\n",
    "def sudoku_oracle(qc, clause_list, clause_qubits):\n",
    "    # Compute clauses\n",
    "    \n",
    "\n",
    "    # Flip 'output' bit if all clauses are satisfied\n",
    "\n",
    "    # Uncompute clauses to reset clause-checking bits to 0\n",
    "    \n",
    "\n",
    "sudoku_oracle(qc, clause_list, clause_qubits)\n",
    "qc.draw('mpl')"
   ]
  },
  {
   "cell_type": "markdown",
   "id": "47d96558",
   "metadata": {},
   "source": [
    "In summary, the circuit above performs:\n",
    "\n",
    "$$ U_\\omega |x\\rangle|0\\rangle |out_0\\rangle = \n",
    "\\left\\{\n",
    "    \\begin{array}{l}\n",
    "      |x\\rangle|0\\rangle |out_0\\rangle  & \\mbox{for } x \\neq \\omega \\\\\n",
    "      |x\\rangle|0\\rangle \\otimes X|out_0\\rangle  & \\mbox{for } x = \\omega\n",
    "    \\end{array}\n",
    "  \\right.$$\n",
    "  \n",
    "and if the initial state of $|out_0\\rangle=|-\\rangle$:\n",
    "$$ U_\\omega |x\\rangle|0\\rangle |-\\rangle = \n",
    "\\left\\{\n",
    "    \\begin{array}{l}\n",
    "      |x\\rangle|0\\rangle |-\\rangle  & \\mbox{for } x \\neq \\omega \\\\\n",
    "      -|x\\rangle|0\\rangle|-\\rangle  & \\mbox{for } x = \\omega\n",
    "    \\end{array}\n",
    "  \\right.$$"
   ]
  },
  {
   "cell_type": "markdown",
   "id": "0c36d188",
   "metadata": {},
   "source": [
    "<div class='alert alert-block alert-warning'>\n",
    "Now put this oracle into Grover's algorithm. Find the optimal number of iterations. \n",
    "    \n",
    "Tip: the out qubit should be initialized with state $|-\\rangle$. You can use the function [`initialize`](https://qiskit.org/documentation/stubs/qiskit.circuit.QuantumCircuit.initialize.html) for it.\n",
    "    \n",
    "</div>"
   ]
  },
  {
   "cell_type": "code",
   "execution_count": null,
   "id": "3e60b140",
   "metadata": {},
   "outputs": [],
   "source": [
    "def it(n,m):\n",
    "    t = ((pi/2)*1/acos(sqrt((n-m)/n))-1)/2\n",
    "    return t"
   ]
  },
  {
   "cell_type": "code",
   "execution_count": null,
   "id": "ef6129b8",
   "metadata": {},
   "outputs": [],
   "source": [
    "var_qubits = QuantumRegister(4, name='v')\n",
    "clause_qubits = QuantumRegister(4, name='c')\n",
    "output_qubit = QuantumRegister(1, name='out')\n",
    "cbits = ClassicalRegister(4, name='cbits')\n",
    "qc = QuantumCircuit(var_qubits, clause_qubits, output_qubit, cbits)\n",
    "\n",
    "# Initialize 'out0' in state |->\n",
    "\n",
    "# Initialize qubits in state |s>\n",
    "\n",
    "\n",
    "qc.barrier()  # for visual separation\n",
    "\n",
    "# Iterations \n",
    "for i in range(round(it(16,2))):\n",
    "    # Apply oracle\n",
    "    \n",
    "    qc.barrier()  # for visual separation\n",
    "    # Apply diffuser\n",
    "    \n",
    "# Measure the variable qubits\n",
    "\n",
    "qc.draw('mpl',fold=-1)"
   ]
  },
  {
   "cell_type": "code",
   "execution_count": null,
   "id": "75217875",
   "metadata": {},
   "outputs": [],
   "source": [
    "# Simulate and plot results\n",
    "aer_sim = Aer.get_backend('aer_simulator')\n",
    "transpiled_grover_circuit = transpile(qc, aer_sim)\n",
    "results = aer_sim.run(transpiled_grover_circuit).result()\n",
    "counts = results.get_counts()\n",
    "plot_histogram(counts)"
   ]
  },
  {
   "cell_type": "markdown",
   "id": "0f451c24",
   "metadata": {},
   "source": [
    "**Refs:**\n",
    "* [Grover's Algorithm Qiskit](https://learn.qiskit.org/course/ch-algorithms/grovers-algorithm)"
   ]
  },
  {
   "cell_type": "markdown",
   "id": "a4e5d492",
   "metadata": {},
   "source": [
    "## 2.  Quantum Fourier Tranform <a id='qft'></a>"
   ]
  },
  {
   "cell_type": "markdown",
   "id": "capable-hospital",
   "metadata": {},
   "source": [
    "\n",
    "The quantum Fourier transform is analogue to the Discrete Fourier Transform (DFT). Similarly to the classical case, it is a very useful mathematical tool, and a building block in many quantum algorithms, such as quantum phase estimation, computing the discrete logarithm, and Shor's algorithm for factoring.\n",
    "\n",
    "&nbsp;\n",
    "\n",
    "### (Classical) Fourier Transform\n",
    "\n",
    "In modern science and engineering, the Fourier transform is essential for signal processing and communications.\n",
    "\n",
    "The FT allows us to extract the underlying periodic behaviour of a function, by decomposing it into its constituent frequencies.\n",
    "\n",
    "&nbsp;\n",
    "\n",
    "<div class=\"alert alert-block alert-info\">\n",
    "\n",
    "**Example: Fourier transform for signal processing**\n",
    "\n",
    "&nbsp;\n",
    "\n",
    "<img src=\"https://terpconnect.umd.edu/~toh/spectrum/iFilterAnimation.gif\" alt=\"Note: In order for images to show up in this jupyter notebook you need to select File => Trusted Notebook\" width=\"800 px\" align=\"center\">\n",
    "\n",
    "<sup>**a)** Take a sinusoidal signal with high frequency noise; **b)** Apply the Fourier transform, getting a frequency spectrum; **c)** Apply the inverse Fourier transform to give a clean set of data.</sup>\n",
    "\n",
    "</div>\n",
    "\n",
    "&nbsp;\n",
    "\n",
    "### Discrete Fourier Transform\n",
    "\n",
    "The DFT is a version of the Fourier transform that works on discrete data sets.\n",
    "\n",
    "The discrete Fourier transform, $\\tilde{f}$ of a discrete function, $f = f_1 , \\cdots, f_N$ is given by\n",
    "\n",
    "$$ \\tilde{f}_k \\equiv \\frac{1}{\\sqrt{N}} \\sum^{N-1}_{j=0} e^{2\\pi ijk/N} f_j$$\n",
    "\n",
    "The inverse Fourier transform is expressed as\n",
    "\n",
    "$$ f_j \\equiv \\frac{1}{\\sqrt{N}} \\sum^{N-1}_{j=0} e^{-2\\pi ijk/N} \\tilde{f}_k$$\n",
    "\n",
    "With $f_j$ and $\\tilde{f}_k$ being complex numbers, and indices $j, k \\in \\{0, 1, \\cdots, N-1\\}$\n",
    "\n",
    "&nbsp;\n",
    "    "
   ]
  },
  {
   "cell_type": "markdown",
   "id": "exotic-trinidad",
   "metadata": {},
   "source": [
    "### Quantum Fourier tranform\n",
    "\n",
    "Qubit states are represented by vectors of complex numbers, so it makes sense that the DFT can be applied to them.\n",
    "\n",
    "Given a state vector:\n",
    "\n",
    "$$ | \\psi \\rangle = \\sum^{N-1}_{j=0} a_j |j\\rangle = \\begin{pmatrix}\n",
    "a_0\\\\ \n",
    "\\vdots\\\\ \n",
    "a_{N-1}\n",
    "\\end{pmatrix}$$\n",
    "\n",
    "The DFT (which we will now call the quantum Fourier transform, or QFT) can be computed over the _amplitudes_ of the quantum state\n",
    "\n",
    "$$ \\sum_j \\alpha_j |j\\rangle \\rightarrow \\sum_k \\tilde{\\alpha}_k |k \\rangle$$ where:\n",
    "\n",
    "$$\\tilde{\\alpha}_k \\equiv \\frac{1}{\\sqrt{N}} \\sum^{N-1}_{j=0} e^{2\\pi ijk/N} \\alpha_k$$\n",
    "\n",
    "&nbsp;\n",
    "\n",
    "We observe that the amplitudes $\\tilde{\\alpha}_k$ are linear in the original $\\alpha_j$. So there is a linear operator $\\hat{F}$ which implements the transform.\n",
    "\n",
    "We can write the matrix $\\hat{F}$ in outer product notation:\n",
    "\n",
    "&nbsp;\n",
    "\n",
    "$$\\hat{F} = \\sum_{j,k=0}^{N-1} \\frac{e^{2\\pi ijk/N}}{\\sqrt{N}} |k \\rangle \\langle j |$$\n",
    "\n",
    "&nbsp;\n",
    "\n",
    "The Fourier transform lets us define a new basis $|\\hat{x}\\rangle = \\hat{F}|x\\rangle$, where $\\{ |x\\rangle\\}$ is the usual computational basis - every vector $|\\hat{x}\\rangle$ is an equally weighted superposition of all the computational basis states.\n",
    "\n",
    "&nbsp;\n",
    "\n",
    "<div class=\"alert alert-block alert-info\">\n",
    "    \n",
    "**Position and Momentum**: \n",
    "\n",
    "&nbsp;\n",
    "\n",
    "* From earlier classes, recall the change of basis for a single-qubit state. What operation may be performed to change it between the computational and superposition basis?\n",
    "\n",
    "&nbsp;\n",
    "\n",
    "* The Hadamard transform also turns computational basis states into equally weighted superpositions of all states. But it leaves all amplitudes real, while the amplitudes of $| \\tilde{x}\\rangle$ are complex. And it is its own inverse, while $\\hat{F} \\neq \\hat{F}^\\dagger$\n",
    "\n",
    "&nbsp;\n",
    "\n",
    "* In physics, the relationship of this basis to the computational basis is analogous to that between the _momentum_ and _position_ bases of a particle.\n",
    "\n",
    "    \n",
    "</div>"
   ]
  },
  {
   "cell_type": "markdown",
   "id": "normal-italic",
   "metadata": {},
   "source": [
    "### QFT in the quantum circuit model of computation\n",
    "\n",
    "&nbsp;\n",
    "\n",
    "For the case of $n$ qubits, the vector describing a quantum state has dimension $N=2^n$. Since the QFT is an unitary operator, it can be implemented in a quantum circuit. Although there is no guarantee that such a circuit would be efficient (i.e. would not scale exponentially with the number of qubits), an efficient circuit _does_ exist.\n",
    "\n",
    "&nbsp;\n",
    "\n",
    "The key is to notice that the states $| \\hat{j} \\rangle$ can be written in a product form:\n",
    "\n",
    "* Let the binary expression for $j$ be $j_1 j_2 \\cdots j_n$, where:\n",
    "\n",
    "$$ j = j_1 2^{n-1} \\, +\\, j_2 2^{n-2} \\,+\\, \\cdots \\,+\\, j_n$$\n",
    "\n",
    "* Admit the following notation for binary fractions:\n",
    "\n",
    "$$ 0.j_1 j_2 \\cdots j_n = j_1 /2 + j_2 /4 + \\cdots + j_n /2^n$$\n",
    "\n",
    "* Then the state $|\\hat{j} \\rangle$ can be written as:\n",
    "\n",
    "$$ |\\hat{j} \\rangle  = \\frac{1}{2^n/2} (|0\\rangle + e^{2\\pi i 0.j_n }| 1\\rangle) \\, \\otimes \\, (|0\\rangle + e^{2\\pi i 0.j_{n-1}j_n }| 1\\rangle) \\, \\otimes \\, \\cdots \\, \\otimes \\, (|0\\rangle + e^{2\\pi i 0.j_1j_2\\cdots j_n }| 1\\rangle)$$\n",
    "\n",
    "&nbsp;\n",
    "\n",
    "A unitary that performs the transformation\n",
    "\n",
    "$$ |0\\rangle \\rightarrow \\frac {1}{\\sqrt{2}}(|0\\rangle + e^{i\\theta}|1\\rangle) \\; ;\\; |1\\rangle \\rightarrow \\frac {1}{\\sqrt{2}}(|0\\rangle - e^{i\\theta}|1\\rangle)$$\n",
    "\n",
    "may be decomposed into an Hadamard gate followed by a $Z$-rotation by $\\theta$.\n",
    "\n",
    "**However**, in the expression above, the rotation depends on the values of other bits. We can expect to build the QFT out of Hadamards and controlled-phase rotation gates.\n",
    "\n",
    "&nbsp;\n",
    "\n",
    "<img src=\"https://upload.wikimedia.org/wikipedia/commons/thumb/6/61/Q_fourier_nqubits.png/1920px-Q_fourier_nqubits.png\" alt=\"Note: In order for images to show up in this jupyter notebook you need to select File => Trusted Notebook\" width=\"700 px\" align=\"center\">\n",
    "\n",
    "&nbsp;\n",
    "\n"
   ]
  },
  {
   "cell_type": "raw",
   "id": "nasty-tongue",
   "metadata": {},
   "source": [
    "qr.__len__() # = 4\n",
    "\n",
    "# THEORIC INPUT STATE (FIGURE ABOVE)\n",
    "|q1 q2 q3 q4>\n",
    "\n",
    "# QISKIT INPUT STATE\n",
    "|q3 q2 q1 q0>"
   ]
  },
  {
   "cell_type": "markdown",
   "id": "structural-absorption",
   "metadata": {},
   "source": [
    "<div class=\"alert alert-block alert-danger\">\n",
    "\n",
    "**Attention**\n",
    "\n",
    "* In the figure above, notice the order of the input qubits (in comparison with Qiskit's circuit drawer);\n",
    "\n",
    "* Notice how after the QFT, the qubits of the transformed state are in reverse order. What can be done to correct this?\n",
    "\n",
    "</div>\n",
    "\n",
    "&nbsp;\n",
    "\n",
    "<div class=\"alert alert-block alert-info\">\n",
    "    \n",
    "**Controlled phase rotation in Qiskit**\n",
    "\n",
    "In Qiskit, the phase rotation gate, $u1(\\lambda)$, is defined as:\n",
    "\n",
    "$$u1(\\lambda) = \\begin{pmatrix} 1 & 0\\\\ 0 & e^{i\\lambda} \\end{pmatrix}$$\n",
    "\n",
    "Admit $\\lambda = 2\\pi/2^k$ so that we can define a rotation operator:\n",
    "\n",
    "$$R_k = \\begin{pmatrix} 1 & 0\\\\ 0 & e^{2\\pi i /2^k} \\end{pmatrix}$$\n",
    "\n",
    "The controlled-$R_k$ gate performs this rotation only if a control qubit is $|1\\rangle$ rather than $|0\\rangle$:\n",
    "\n",
    "$$CR_k = \\begin{pmatrix} 1 & 0 & 0 & 0\\\\ 0 & 1 & 0 & 0\\\\ 0 & 0 & 1 & 0\\\\ 0 & 0 & 0 & e^{2\\pi i /2^k} \\end{pmatrix}$$\n",
    "\n",
    "\n",
    "&nbsp;\n",
    "\n",
    "A controlled-$u1$ gate may be implemented in Qiskit with the instruction `cp(theta, ctrl, trg)`.\n",
    "</div>"
   ]
  },
  {
   "cell_type": "markdown",
   "id": "arctic-catering",
   "metadata": {},
   "source": [
    "<div class=\"alert alert-block alert-warning\">\n",
    "\n",
    "**Exercise - implementing the QFT**\n",
    "\n",
    "&nbsp;\n",
    "\n",
    "1. Implement a function `qftransform (circuit, qr, swap=True)` to perform the QFT over a register `qr`. The function should be able to ignore the swapping operations at the end when called with `swap=False`.\n",
    "\n",
    "&nbsp;\n",
    "\n",
    "2. How many controlled-$R_k$ gates are performed as a function of qubit number $n$? Does the circuit scale efficiently?\n",
    "\n",
    "</div>"
   ]
  },
  {
   "cell_type": "code",
   "execution_count": null,
   "id": "99faf6e4",
   "metadata": {},
   "outputs": [],
   "source": [
    "def qftransform(circuit, qr, swap=True):\n",
    "\n",
    "\n",
    "            \n",
    "qr=QuantumRegister(4)\n",
    "qc=QuantumCircuit(qr)\n",
    "\n",
    "qftransform(qc, qr)\n",
    "\n",
    "qc.draw(output='mpl', scale=1)"
   ]
  },
  {
   "cell_type": "markdown",
   "id": "9832f896",
   "metadata": {},
   "source": [
    "**Refs:**\n",
    "\n",
    "* [QFT - Qiskit](https://learn.qiskit.org/course/ch-algorithms/quantum-fourier-transform)"
   ]
  },
  {
   "cell_type": "markdown",
   "id": "9b04c59b",
   "metadata": {},
   "source": [
    "## 3. Quantum Counting <a id='qc'></a>"
   ]
  },
  {
   "cell_type": "markdown",
   "id": "2de140f3",
   "metadata": {},
   "source": [
    "In quantum counting, we simply use the quantum phase estimation algorithm to find an eigenvalue of a Grover search iteration. You will remember that an iteration of Grover’s algorithm, $G$, rotates the state vector by $\\theta$ in the $|\\omega \\rangle$,$|s'\\rangle$ basis:\n",
    "\n",
    "![phase](https://learn.qiskit.org/content/v2/ch-algorithms/images/quantum_counting1.svg)\n",
    "\n",
    "The percentage number of solutions in our search space affects the difference between $|s\\rangle$ and $|s'\\rangle$.\n",
    "For example, if there are not many solutions, $|s'\\rangle$ will be very close to $|s' \\rangle$ and $\\theta$ will be very small. \n",
    "It turns out that the eigenvalues of the Grover iterator are $e^{\\pm i \\theta}$, and we can extract this using quantum phase estimation (QPE) to estimate the number of solutions ($M$).\n",
    " \n",
    " **In detail:**\n",
    " \n",
    " In the $|\\omega \\rangle$,$|s'\\rangle$\n",
    " basis we can write the Grover iterator as the matrix:\n",
    "\n",
    " $$G = \\begin{bmatrix} cos \\theta & -sin \\theta \\\\ sin \\theta & cos \\theta \\end{bmatrix}$$\n",
    " \n",
    "\n",
    "The matrix $G$ has eigenvectors:\n",
    "\n",
    "  \n",
    " $$\\begin{bmatrix}-i \\\\ 1\\end{bmatrix},\\begin{bmatrix}i \\\\ 1\\end{bmatrix}$$\n",
    " \n",
    "\n",
    "With the aforementioned eigenvalues $e^{\\pm i \\theta}$. \n",
    "Fortunately, we do not need to prepare our register in either of these states, the state $|s\\rangle$ is in the space spanned by $|\\omega \\rangle$,$|s'\\rangle$ and thus is a superposition of the two vectors.\n",
    "\n",
    " $$|s\\rangle = \\alpha | \\omega \\rangle + \\beta |s'\\rangle$$\n",
    "\n",
    "As a result, the output of the QPE algorithm will be a superposition of the two phases, and when we measure the register we will obtain one of these two values! We can then use some simple maths to get our estimate of $M$.\n",
    "\n",
    "![count](https://learn.qiskit.org/content/v2/ch-algorithms/images/quantum_counting2.svg)\n"
   ]
  },
  {
   "cell_type": "markdown",
   "id": "0d9cb118",
   "metadata": {},
   "source": [
    "<div class=\"alert alert-block alert-warning\">\n",
    "\n",
    "**Exercise** Find the amount of solutions in:\n",
    "       \n",
    "</div>\n",
    "\n",
    "![grover](https://learn.qiskit.org/content/v2/ch-algorithms/images/grover_circuit_3qubits.png)\n"
   ]
  },
  {
   "cell_type": "code",
   "execution_count": null,
   "id": "99a7bc6f",
   "metadata": {},
   "outputs": [],
   "source": [
    "def grover_operator(n_iterations):\n",
    "    #Tip use the following:\n",
    "    from qiskit.circuit.library import Diagonal, GroverOperator\n",
    "    \n",
    "    \n",
    "    \n",
    "    return grover_it"
   ]
  },
  {
   "cell_type": "code",
   "execution_count": null,
   "id": "ba8cd3d7",
   "metadata": {},
   "outputs": [],
   "source": [
    "#Tip use the following:\n",
    "from qiskit.circuit.library import QFT\n"
   ]
  },
  {
   "cell_type": "code",
   "execution_count": null,
   "id": "b447f7d6",
   "metadata": {},
   "outputs": [],
   "source": [
    "# Create QuantumCircuit\n",
    "t =    # no. of counting qubits\n",
    "n =    # no. of searching qubits\n",
    "qc = QuantumCircuit(n+t, t) # Circuit with n+t qubits and t classical bits\n",
    "\n",
    "# Initialize all qubits to |+>\n",
    "\n",
    "# Begin controlled Grover iterations\n",
    "\n",
    "    \n",
    "# Do inverse QFT on counting qubits\n",
    "\n",
    "# Measure counting qubits\n",
    "\n",
    "# Display the circuit\n",
    "qc.draw(fold=-1)"
   ]
  },
  {
   "cell_type": "code",
   "execution_count": null,
   "id": "1ca0d255",
   "metadata": {},
   "outputs": [],
   "source": [
    "# Execute and see results\n",
    "sim = Aer.get_backend('aer_simulator')\n",
    "transpiled_qc = transpile(qc, sim)\n",
    "job = sim.run(transpiled_qc)\n",
    "hist = job.result().get_counts()\n",
    "plot_histogram(hist)"
   ]
  },
  {
   "cell_type": "markdown",
   "id": "341ba693",
   "metadata": {},
   "source": [
    "**Refs:**\n",
    "* [Quantum counting Qiskit](https://learn.qiskit.org/course/ch-algorithms/quantum-counting)"
   ]
  },
  {
   "cell_type": "code",
   "execution_count": null,
   "id": "8aedfc77",
   "metadata": {},
   "outputs": [],
   "source": []
  }
 ],
 "metadata": {
  "kernelspec": {
   "display_name": "Python 3 (ipykernel)",
   "language": "python",
   "name": "python3"
  },
  "language_info": {
   "codemirror_mode": {
    "name": "ipython",
    "version": 3
   },
   "file_extension": ".py",
   "mimetype": "text/x-python",
   "name": "python",
   "nbconvert_exporter": "python",
   "pygments_lexer": "ipython3",
   "version": "3.11.5"
  }
 },
 "nbformat": 4,
 "nbformat_minor": 5
}
