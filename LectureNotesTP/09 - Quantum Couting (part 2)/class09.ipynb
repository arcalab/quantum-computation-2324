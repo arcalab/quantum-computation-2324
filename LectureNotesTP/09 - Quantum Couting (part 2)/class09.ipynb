{
 "cells": [
  {
   "cell_type": "markdown",
   "metadata": {},
   "source": [
    "# Quantum Counting (part 2)\n",
    "\n",
    "&nbsp;\n",
    "\n",
    "### Content:\n",
    "1. [Quantum Counting](#qc)\n",
    "2. [Quantum Phase Estimation](#qpe) "
   ]
  },
  {
   "cell_type": "code",
   "execution_count": null,
   "metadata": {},
   "outputs": [],
   "source": [
    "#initialization\n",
    "import matplotlib.pyplot as plt\n",
    "import numpy as np\n",
    "\n",
    "# importing Qiskit\n",
    "from qiskit import IBMQ, Aer, assemble, transpile\n",
    "from qiskit import QuantumCircuit, ClassicalRegister, QuantumRegister\n",
    "from qiskit import execute\n",
    "# import basic plot tools\n",
    "from qiskit.visualization import plot_histogram\n",
    "\n",
    "# Import math Library\n",
    "from math import * "
   ]
  },
  {
   "cell_type": "code",
   "execution_count": null,
   "metadata": {},
   "outputs": [],
   "source": [
    "# Plot results\n",
    "def show_results(D):\n",
    "    # D is a dictionary with classical bits as keys and count as value\n",
    "    # example: D = {'000': 497, '001': 527}\n",
    "    plt.bar(range(len(D)), list(D.values()), align='center')\n",
    "    plt.xticks(range(len(D)), list(D.keys()))\n",
    "    plt.show()\n",
    "\n",
    "# Execute circuit, display a histogram of the results\n",
    "def execute_locally(qc, draw_circuit=False):\n",
    "    # Compile and run the Quantum circuit on a simulator backend\n",
    "    backend_sim = Aer.get_backend('qasm_simulator')\n",
    "    job_sim = execute(qc, backend_sim)\n",
    "    result_sim = job_sim.result()\n",
    "    result_counts = result_sim.get_counts(qc)\n",
    "    \n",
    "    # Print the results\n",
    "    print(\"simulation: \\n\\n\", result_counts)\n",
    "    show_results(result_counts)\n",
    "    \n",
    "    return result_counts"
   ]
  },
  {
   "cell_type": "markdown",
   "metadata": {},
   "source": [
    "## 1. Quantum Counting <a id='qc'></a>"
   ]
  },
  {
   "cell_type": "markdown",
   "metadata": {},
   "source": [
    "In quantum counting, we simply use the quantum phase estimation algorithm to find an eigenvalue of a Grover search iteration. You will remember that an iteration of Grover’s algorithm, $G$, rotates the state vector by $\\theta$ in the $|\\omega \\rangle$,$|s'\\rangle$ basis:\n",
    "\n",
    "![phase](https://learn.qiskit.org/content/v2/ch-algorithms/images/quantum_counting1.svg)\n",
    "\n",
    "The percentage number of solutions in our search space affects the difference between $|s\\rangle$ and $|s'\\rangle$.\n",
    "For example, if there are not many solutions, $|s'\\rangle$ will be very close to $|s' \\rangle$ and $\\theta$ will be very small. \n",
    "It turns out that the eigenvalues of the Grover iterator are $e^{\\pm i \\theta}$, and we can extract this using quantum phase estimation (QPE) to estimate the number of solutions ($M$).\n",
    " \n",
    " **In detail:**\n",
    " \n",
    " In the $|\\omega \\rangle$,$|s'\\rangle$\n",
    " basis we can write the Grover iterator as the matrix:\n",
    "\n",
    " $$G = \\begin{bmatrix} cos \\theta & -sin \\theta \\\\ sin \\theta & cos \\theta \\end{bmatrix}$$\n",
    " \n",
    "\n",
    "The matrix $G$ has eigenvectors:\n",
    "\n",
    "  \n",
    " $$\\begin{bmatrix}-i \\\\ 1\\end{bmatrix},\\begin{bmatrix}i \\\\ 1\\end{bmatrix}$$\n",
    " \n",
    "\n",
    "With the aforementioned eigenvalues $e^{\\pm i \\theta}$. \n",
    "Fortunately, we do not need to prepare our register in either of these states, the state $|s\\rangle$ is in the space spanned by $|\\omega \\rangle$,$|s'\\rangle$ and thus is a superposition of the two vectors.\n",
    "\n",
    " $$|s\\rangle = \\alpha | \\omega \\rangle + \\beta |s'\\rangle$$\n",
    "\n",
    "As a result, the output of the QPE algorithm will be a superposition of the two phases, and when we measure the register we will obtain one of these two values! We can then use some simple maths to get our estimate of $M$.\n",
    "\n",
    "![count](https://learn.qiskit.org/content/v2/ch-algorithms/images/quantum_counting2.svg)\n"
   ]
  },
  {
   "cell_type": "markdown",
   "id": "0d9cb118",
   "metadata": {},
   "source": [
    "<div class=\"alert alert-block alert-warning\">\n",
    "\n",
    "**Exercise** Find the amount of solutions in:\n",
    "       \n",
    "</div>\n",
    "\n",
    "![grover](https://learn.qiskit.org/content/v2/ch-algorithms/images/grover_circuit_3qubits.png)\n"
   ]
  },
  {
   "cell_type": "code",
   "execution_count": null,
   "id": "99a7bc6f",
   "metadata": {},
   "outputs": [],
   "source": [
    "def grover_operator(n_iterations):\n",
    "    #Tip use the following:\n",
    "    from qiskit.circuit.library import Diagonal, GroverOperator\n",
    "    \n",
    "    return grover_it"
   ]
  },
  {
   "cell_type": "code",
   "execution_count": null,
   "id": "ba8cd3d7",
   "metadata": {},
   "outputs": [],
   "source": [
    "#Tip use the following\n",
    "from qiskit.circuit.library import QFT\n"
   ]
  },
  {
   "cell_type": "code",
   "execution_count": null,
   "id": "b447f7d6",
   "metadata": {},
   "outputs": [],
   "source": [
    "# Create QuantumCircuit\n",
    "t =   # no. of counting qubits\n",
    "n =   # no. of searching qubits\n",
    "qc = QuantumCircuit(n+t, t) # Circuit with n+t qubits and t classical bits\n",
    "\n",
    "# Initialize all qubits to |+>\n",
    "\n",
    "\n",
    "# Begin controlled Grover iterations\n",
    "\n",
    "    \n",
    "# Do inverse QFT on counting qubits\n",
    "\n",
    "\n",
    "# Measure counting qubits\n",
    "\n",
    "# Display the circuit\n",
    "qc.draw(fold=-1)"
   ]
  },
  {
   "cell_type": "code",
   "execution_count": null,
   "id": "1ca0d255",
   "metadata": {},
   "outputs": [],
   "source": [
    "# Execute and see results\n",
    "sim = Aer.get_backend('aer_simulator')\n",
    "transpiled_qc = transpile(qc, sim)\n",
    "job = sim.run(transpiled_qc)\n",
    "hist = job.result().get_counts()\n",
    "plot_histogram(hist)"
   ]
  },
  {
   "cell_type": "markdown",
   "id": "341ba693",
   "metadata": {},
   "source": [
    "**Refs:**\n",
    "* [Quantum counting Qiskit](https://learn.qiskit.org/course/ch-algorithms/quantum-counting)"
   ]
  },
  {
   "cell_type": "markdown",
   "id": "polyphonic-nelson",
   "metadata": {},
   "source": [
    "## 2. Quantum Phase Estimation<a id='qpe'></a>\n",
    "\n",
    "&nbsp;\n",
    "\n",
    "The phase estimation algorithm is a solution to a rather specific problem. However, similarly to the QFT and Grover's search algorithm, it turns out to be useful as a building block to several other algorithms to solve more general and important problems.\n",
    "\n",
    "Suppose we have a unitary operator $\\hat{U}$ operating on $n$-qubits, with a known eigenstate$^1$ $| \\psi \\rangle$ and an associated unknown eigenvalue $e^{i \\theta{\\psi}}$. We want to find the eigenvalue / phase, which means finding phase $\\theta{\\psi}$ with $m$-bits of precision.\n",
    "\n",
    "\n",
    " $$U |u \\rangle = e^{i \\theta_{\\psi}}|u \\rangle$$\n",
    "\n",
    "\n",
    "We might try to prepare $n$ qubits in the state $|\\theta{\\psi} \\rangle$ and carry out the unitary transformation $\\hat{U}$ on them:\n",
    "\n",
    "\n",
    "<img src=\"https://i.stack.imgur.com/9AFj7.png\" alt=\"Note: In order for images to show up in this jupyter notebook you need to select File => Trusted Notebook\" width=\"100 px\" align=\"center\"> \n",
    "\n",
    "\n",
    "$^1$: An eigenstate is a quantum mechanical state whose wave function is an eigenvector that corresponds to a physical quantity."
   ]
  },
  {
   "cell_type": "markdown",
   "id": "advanced-leader",
   "metadata": {},
   "source": [
    "<div class=\"alert alert-block alert-info\">\n",
    "    \n",
    "**Question**: is there a measurement on the bits which will give us information about the phase $\\phi$?\n",
    "\n",
    "The answer is **no**: $\\hat{U}$ just produces an overall phase on the state, with no observable consequences.\n",
    "\n",
    "</div>\n",
    "\n",
    "&nbsp;\n",
    "\n",
    "Before we look into a more sophisticated approach to the problem, it's important to understand **phase kickback**."
   ]
  },
  {
   "cell_type": "markdown",
   "id": "initial-egypt",
   "metadata": {},
   "source": [
    "### Phase kickback\n",
    "\n",
    "&nbsp;\n",
    "\n",
    "A key part of understanding the phase kickback is that $|\\psi\\rangle$ is an eigenvector of the operator $U$ with an eigenvalue of $e^{2\\pi i \\phi}$. In other words, $U|\\psi\\rangle = e^{2\\pi i \\phi}|\\psi\\rangle$, where $\\phi$ is the phase that we are interested in 'kicking back'. A small example:\n",
    "\n",
    "<img src=\"https://miro.medium.com/max/3600/1*DudEik8tsL5rl1aq-DUh-A.jpeg\" alt=\"Note: In order for images to show up in this jupyter notebook you need to select File => Trusted Notebook\" width=\"500 px\" align=\"center\"> \n",
    "\n",
    "&nbsp;\n",
    "\n",
    "The system's state starts simply $|0\\rangle|\\psi\\rangle$. \n",
    "\n",
    "&nbsp;\n",
    "\n",
    "**After the first Hadamard**, the Hadamard operator has converted $|0\\rangle$ into $H|0\\rangle = |+\\rangle = \\frac{|0\\rangle+|1\\rangle}{\\sqrt{2}} $. Thus, at point B, the whole system is in the state\n",
    "\n",
    "$$\\frac{|0\\rangle+|1\\rangle}{\\sqrt{2}}|\\psi\\rangle = \\frac{|0\\rangle|\\psi\\rangle+|1\\rangle|\\psi\\rangle}{\\sqrt{2}}$$\n",
    "\n",
    "&nbsp;\n",
    "\n",
    "**After the CU** , the system is in the state \n",
    "\n",
    "&nbsp;\n",
    "\n",
    "$$\\frac{|0\\rangle|\\psi\\rangle+|1\\rangle U|\\psi\\rangle}{\\sqrt{2}} = \\frac{|0\\rangle+e^{i \\theta_{\\psi}}|1\\rangle}{\\sqrt{2}}|\\psi\\rangle$$\n",
    "\n",
    "&nbsp;\n",
    "\n",
    "Note how the state $|\\psi\\rangle$ remains unchanged. This happens because applying $\\hat{U}$ to $|\\psi \\rangle$ results in a \"multiple\" $e^{ i \\theta{\\psi}}$ of $|\\psi \\rangle$, which can be factored out. **This is only possible since we admit that $|\\psi\\rangle$ is an eigenstate of $\\hat{U}$**.\n",
    "\n",
    "&nbsp;\n",
    "\n",
    "Now, let's consider higher powers of $U$, e.g. $U^2$. \n",
    "\n",
    "In this case, $|\\psi\\rangle$ is still an eigenvector of $U^2$.\n",
    "\n",
    "More generally, $U^x |\\psi\\rangle = e^{x i \\theta{\\psi}}|\\psi\\rangle$ . \n",
    "\n",
    "In other words, **an eigenvector of $U$ is also an eigenvector of $U^x$; just with an eigenvalue that is raised to the power $x$**.\n",
    "\n",
    "Thus, for a general $U^{2^k}$, after the CU, the system would be in the state\n",
    "\n",
    "$$\\frac{|0\\rangle|\\psi\\rangle+|1\\rangle U^{2^k}|\\psi\\rangle}{\\sqrt{2}} = \\frac{|0\\rangle+e^{i 2^k \\theta{\\psi}}|1\\rangle}{\\sqrt{2}}|\\psi\\rangle$$"
   ]
  },
  {
   "cell_type": "markdown",
   "id": "proprietary-actor",
   "metadata": {},
   "source": [
    "### Phase estimation algorithm\n",
    "\n",
    "&nbsp;\n",
    "\n",
    "The first part of the phase estimation algorithm consists in a paralell application of the phase kickback technique detailed above, to successive powers of $U$:\n",
    "\n",
    "&nbsp;\n",
    "\n",
    "<img src=\"https://qiskit.org/textbook/ch-algorithms/images/qpe_tex_qz.png\" alt=\"Note: In order for images to show up in this jupyter notebook you need to select File => Trusted Notebook\" width=\"600 px\" align=\"center\"> \n",
    "\n",
    "&nbsp;\n",
    "\n",
    "The complete phase estimation procedure is as follows:\n",
    "\n",
    "1. Prepare the $t$-bit control register in state $|0 \\rangle$, and the target register in state $|u\\rangle$ (eigenstate of $U$);\n",
    "\n",
    "2. Perform Hadamards on the control bits.\n",
    "\n",
    "3. Apply a controlled-$\\hat{U}^{2^j}$, from the $j$th control bit onto the n target bits for each of the control q-bits in succession.\n",
    "\n",
    "4. Perform an **inverse** Fourier transform on the $t$ control bits and measure them in the computational basis. The measured bit values $\\phi_1, \\cdots, \\phi_n$ give an estimate of the phase $\\phi \\approx 0.\\phi_1 \\cdots \\phi_n$, or $\\phi \\approx \\frac{\\phi_1}{2}+ \\cdots + \\frac{\\phi_n}{2^n}$."
   ]
  },
  {
   "cell_type": "markdown",
   "id": "pregnant-construction",
   "metadata": {},
   "source": [
    "<div class=\"alert alert-block alert-warning\">\n",
    "\n",
    "**Exercise - Estimate the Phase of T $|1\\rangle$**\n",
    "\n",
    "&nbsp;\n",
    "\n",
    "1. Implement the phase estimation algorithm to estimate, **to 3 bits of precision**, the phase of $T |1\\rangle = e^{\\frac{i \\pi}{4}}|1\\rangle$\n",
    "\n",
    "Since we are looking for $\\theta$ in $T |1\\rangle = e^{2 i \\pi \\theta} |1\\rangle$ we expect to find $\\theta = \\frac{1}{8}$\n",
    "\n",
    "2. What is the result for eigenstate $|0 \\rangle$?\n",
    "\n",
    "&nbsp;\n",
    "    \n",
    "**Tip:** You can use `qc.inverse()` [qiskit.circuit.QuantumCircuit.inverse](https://qiskit.org/documentation/stubs/qiskit.circuit.QuantumCircuit.inverse.html) for the qft_dagger\n",
    "\n",
    "</div>"
   ]
  },
  {
   "cell_type": "code",
   "execution_count": null,
   "metadata": {},
   "outputs": [],
   "source": [
    "def qft_dagger(qc, n):\n",
    "    \"\"\"n-qubit QFTdagger the first n qubits in circ\"\"\"\n",
    "    # Don't forget the Swaps!\n",
    "    "
   ]
  },
  {
   "cell_type": "code",
   "execution_count": null,
   "metadata": {},
   "outputs": [],
   "source": [
    "n=3\n",
    "qctrl = QuantumRegister(n)\n",
    "qtrg= QuantumRegister(1)\n",
    "cr = ClassicalRegister(n)\n",
    "\n",
    "\n",
    "qc = QuantumCircuit(qctrl, qtrg, cr)\n",
    "\n",
    "\n",
    "\n",
    "\n",
    "qc.barrier()\n",
    "# Apply inverse QFT\n",
    "\n",
    "# Measure\n",
    "\n",
    "\n",
    "\n",
    "qc.draw(output='mpl')"
   ]
  },
  {
   "cell_type": "code",
   "execution_count": null,
   "metadata": {},
   "outputs": [],
   "source": [
    "a = execute_locally(qc)"
   ]
  },
  {
   "cell_type": "code",
   "execution_count": null,
   "metadata": {},
   "outputs": [],
   "source": [
    "def binaryToDecimal(binary):\n",
    "    binary1 = binary\n",
    "    decimal, i, n = 0, 0, 0\n",
    "    while(binary != 0):\n",
    "        dec = binary % 10\n",
    "        decimal = decimal + dec * pow(2, i)\n",
    "        binary = binary//10\n",
    "        i += 1\n",
    "    return(decimal)   "
   ]
  },
  {
   "cell_type": "code",
   "execution_count": null,
   "metadata": {},
   "outputs": [],
   "source": [
    "key = list(a.keys())[0]\n",
    "r = binaryToDecimal(int(key))\n",
    "theta= r/(2**n)\n",
    "\n",
    "print(theta)"
   ]
  },
  {
   "cell_type": "markdown",
   "id": "union-multiple",
   "metadata": {},
   "source": [
    "<div class=\"alert alert-block alert-warning\">\n",
    "\n",
    "**Exercise 2 - Implementing the phase estimation algorithm**\n",
    "\n",
    "&nbsp;\n",
    "\n",
    "Implement a function `phase_est(qc, qr_ctrl, qr_trg, theta, phi, lambda, n)` to create a phase estimation circuit in `qc` with `n` bits of precision, for a general single-qubit operation\n",
    "\n",
    "&nbsp;\n",
    "\n",
    "$$\n",
    "u_3(\\theta, \\phi, \\lambda) = \n",
    "\t    \\begin{pmatrix}\n",
    "        \\cos{(\\theta/2)} & -e^{i\\lambda}\\sin{(\\theta/2)}\\\\ \n",
    "        e^{i\\phi}\\sin{(\\theta/2)} & e^{i(\\lambda + \\phi)}\\cos{(\\theta/2)}\n",
    "        \\end{pmatrix}\n",
    "$$\n",
    "\n",
    "&nbsp;\n",
    "\n",
    "**Note**: The algorithm can be tested by defining an eigenstate `psi` of $u_3$ as a vector of complex coefficients. The state can be created using `qc.initialize(psi, qubit)`.\n",
    "\n",
    "&nbsp;\n",
    "\n",
    "</div>"
   ]
  },
  {
   "cell_type": "code",
   "execution_count": null,
   "metadata": {},
   "outputs": [],
   "source": [
    "#qc.cu(theta, phi, lambda, 0, ctrl, trg)\n",
    "def phase_est(qc, qr_ctrl, qr_trg, theta, phi, lamda):\n"
   ]
  },
  {
   "cell_type": "code",
   "execution_count": null,
   "metadata": {},
   "outputs": [],
   "source": [
    "n=3\n",
    "q_ctrl=QuantumRegister(n)\n",
    "q_trg=QuantumRegister(1)\n",
    "cr=ClassicalRegister(n)\n",
    "qc=QuantumCircuit(q_ctrl, q_trg, cr)\n",
    "\n",
    "phase_est(qc, q_ctrl, q_trg, pi/2, pi/2, pi/2)\n",
    "\n",
    "qc.measure(q_ctrl, cr)\n",
    "qc.draw(output='mpl')"
   ]
  },
  {
   "cell_type": "markdown",
   "metadata": {},
   "source": [
    "**Refs:**\n",
    "* [Qiskit Phase kickback](https://learn.qiskit.org/course/ch-gates/phase-kickback)\n",
    "* [Qiskit QPE](https://learn.qiskit.org/course/ch-algorithms/quantum-phase-estimation)\n"
   ]
  },
  {
   "cell_type": "code",
   "execution_count": null,
   "metadata": {},
   "outputs": [],
   "source": []
  }
 ],
 "metadata": {
  "kernelspec": {
   "display_name": "Python 3 (ipykernel)",
   "language": "python",
   "name": "python3"
  },
  "language_info": {
   "codemirror_mode": {
    "name": "ipython",
    "version": 3
   },
   "file_extension": ".py",
   "mimetype": "text/x-python",
   "name": "python",
   "nbconvert_exporter": "python",
   "pygments_lexer": "ipython3",
   "version": "3.11.5"
  }
 },
 "nbformat": 4,
 "nbformat_minor": 2
}
