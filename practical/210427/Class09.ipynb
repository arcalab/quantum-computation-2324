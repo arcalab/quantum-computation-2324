{
 "cells": [
  {
   "cell_type": "markdown",
   "id": "conservative-liability",
   "metadata": {},
   "source": [
    "# Qiskit 5 -2020/2021\n",
    "\n",
    "1. [C<sup>n</sup>NOT decomposition](#decomp)\n",
    "2. [Quantum state Tomography](#tomo)\n",
    "3. [Measurement Error Mitigation](#mit)\n",
    "4. [Bernstein-Vazirani Algorithm](#bva)\n",
    "\n",
    "&nbsp;"
   ]
  },
  {
   "cell_type": "markdown",
   "id": "broadband-cooperative",
   "metadata": {},
   "source": [
    "#### Module imports"
   ]
  },
  {
   "cell_type": "code",
   "execution_count": 1,
   "id": "floppy-structure",
   "metadata": {},
   "outputs": [],
   "source": [
    "import numpy as np\n",
    "import matplotlib.pyplot as plt\n",
    "%matplotlib inline\n",
    "\n",
    "# importing Qiskit\n",
    "from qiskit import Aer, IBMQ\n",
    "from qiskit import QuantumCircuit, ClassicalRegister, QuantumRegister\n",
    "from qiskit import execute, transpile\n",
    "\n",
    "from qiskit.tools.visualization import plot_histogram"
   ]
  },
  {
   "cell_type": "markdown",
   "id": "ceramic-hollywood",
   "metadata": {},
   "source": [
    "&nbsp;\n",
    "\n",
    "# 1.  C<sup>n</sup>NOT decomposition<a id='decomp'></a>\n",
    "\n",
    "&nbsp;\n",
    "\n",
    "What happens if we try to run the function for a larger number of variables (i.e. input qubits), or a larger number of clauses (i.e. f_out qubits)?\n",
    "\n",
    "You will find that the algorithm will have to apply multiple C<sup>n</sup>NOTs, with n being the number of controls necessary to perform a NOT operation on the target qubit. This means not only larger f_in and f_out, but also more auxiliary qubits (for decomposition).\n",
    "\n",
    "Admit the following decomposition scheme for a C<sup>n</sup>NOT gate (reference [1]):\n",
    "\n",
    "<img src=\"https://www.researchgate.net/profile/Peter-Russer/publication/225931473/figure/fig2/AS:383053693243397@1468338525711/Decomposition-of-the-multiply-controlled-NOT-gate-C-k-X-into-2-k-1-TOFFOLI-gates_W640.jpg\" width=\"500 px\" align=\"center\">\n"
   ]
  },
  {
   "cell_type": "markdown",
   "id": "suburban-forge",
   "metadata": {},
   "source": [
    "<div class=\"alert alert-block alert-warning\">\n",
    "\n",
    "**Exercise 4.2 - C<sup>n</sup>NOT decomposition**\n",
    "\n",
    "&nbsp;\n",
    "\n",
    "From the scheme above, build a function `cn_not` to decompose a C<sup>n</sup>NOT with an arbitrary number of controls into Toffoli and CNOT gates. \n",
    "\n",
    "The function should take as arguments the quantum circuit, **a list of control qubits** (this is different from a qubit register), a target qubit, and a register of auxiliary qubits.\n",
    "\n",
    "</div>"
   ]
  },
  {
   "cell_type": "code",
   "execution_count": 2,
   "id": "accessory-death",
   "metadata": {},
   "outputs": [],
   "source": [
    "# def cn_not(circuit, ctrls, trg, aux):"
   ]
  },
  {
   "cell_type": "markdown",
   "id": "exposed-gothic",
   "metadata": {},
   "source": [
    "<div class=\"alert alert-block alert-warning\">\n",
    "\n",
    "We can test the function - let's admit that controls are contained in a single quantum register:\n",
    "    \n",
    "</div>"
   ]
  },
  {
   "cell_type": "raw",
   "id": "sized-dream",
   "metadata": {
    "scrolled": false
   },
   "source": [
    "# Number of controls\n",
    "n=8\n",
    "\n",
    "controls=QuantumRegister(n, 'controls')\n",
    "aux=QuantumRegister(n-1, 'aux')\n",
    "trg=QuantumRegister(1, 'target')\n",
    "qc=QuantumCircuit(controls, aux, trg)\n",
    "\n",
    "control_list = []\n",
    "for i in range(n):\n",
    "    control_list.append(controls[i])\n",
    "    \n",
    "cn_not(qc, control_list, trg, aux)\n",
    "\n",
    "qc.draw(output='mpl')"
   ]
  },
  {
   "cell_type": "markdown",
   "id": "prerequisite-antarctica",
   "metadata": {},
   "source": [
    "**Refs**\n",
    "\n",
    "1. \"[Quantum computing algorithm for electromagnetic field simulation](https://www.researchgate.net/publication/225931473_Quantum_computing_algorithm_for_electromagnetic_field_simulation)\""
   ]
  },
  {
   "cell_type": "markdown",
   "id": "elementary-funeral",
   "metadata": {},
   "source": [
    "# 2. Quantum State Tomography<a id='tomo'></a>\n",
    "\n",
    "&nbsp;\n",
    "\n",
    "**Tomography** is a method of imaging a three-dimensional object, and its internal structure, through observation of different cross-sections of the object.\n",
    "\n",
    "<img src=\"https://upload.wikimedia.org/wikipedia/commons/2/25/TomographyPrinciple_Illustration.png\" width=\"400 px\" align=\"center\">\n",
    "\n",
    "&nbsp;\n",
    "\n",
    "Similarly, **quantum state tomography** is the process of reconstructing the density matrix describing a quantum system, through different quantum state measurements of the system.\n",
    "\n",
    "<img src=\"https://d3i71xaburhd42.cloudfront.net/4279329f29c293c2bd1e0092e5c6b329c907ea29/5-Figure2-1.png\" width=\"500 px\" align=\"center\">\n",
    "\n",
    "&nbsp;\n",
    "\n",
    "The density matrix allows for the representation of any mixed states, i.e. statistical mixtures of pure states:\n",
    "\n",
    "$$ \\rho = \\sum_j p_j |\\psi_j \\rangle \\langle \\psi_j| $$\n",
    "\n",
    "For pure states, $j=1$"
   ]
  },
  {
   "cell_type": "markdown",
   "id": "resistant-excerpt",
   "metadata": {},
   "source": [
    "**Module imports**"
   ]
  },
  {
   "cell_type": "code",
   "execution_count": 3,
   "id": "hired-seminar",
   "metadata": {},
   "outputs": [],
   "source": [
    "# Noise simulation\n",
    "from qiskit.providers.aer import noise\n",
    "\n",
    "# Tomography functions\n",
    "from qiskit.ignis.verification.tomography import state_tomography_circuits, StateTomographyFitter\n",
    "from qiskit.quantum_info import state_fidelity\n",
    "\n",
    "# Interactive tools\n",
    "import qiskit.tools.jupyter\n",
    "\n",
    "# Plotting function\n",
    "from matplotlib import pyplot as plt\n",
    "\n",
    "from IPython.core.interactiveshell import InteractiveShell\n",
    "InteractiveShell.ast_node_interactivity = \"all\""
   ]
  },
  {
   "cell_type": "markdown",
   "id": "realistic-pointer",
   "metadata": {},
   "source": [
    "<div class=\"alert alert-block alert-info\">\n",
    "    \n",
    "**Example** \n",
    "\n",
    "How to perform 2-qubit state tomography:\n",
    "\n",
    "</div>"
   ]
  },
  {
   "cell_type": "code",
   "execution_count": 4,
   "id": "pleased-prague",
   "metadata": {},
   "outputs": [
    {
     "data": {
      "text/plain": [
       "<qiskit.circuit.instructionset.InstructionSet at 0x2a6e193bdc0>"
      ]
     },
     "execution_count": 4,
     "metadata": {},
     "output_type": "execute_result"
    },
    {
     "data": {
      "text/plain": [
       "<qiskit.circuit.instructionset.InstructionSet at 0x2a6e193b280>"
      ]
     },
     "execution_count": 4,
     "metadata": {},
     "output_type": "execute_result"
    },
    {
     "data": {
      "image/png": "[encoded data removed]",
      "text/plain": [
       "<Figure size 219.833x144.48 with 1 Axes>"
      ]
     },
     "execution_count": 4,
     "metadata": {},
     "output_type": "execute_result"
    }
   ],
   "source": [
    "# Create the expected density matrix\n",
    "\n",
    "qr = QuantumRegister(2)\n",
    "bell = QuantumCircuit(qr)\n",
    "bell.h(qr[0])\n",
    "bell.cx(qr[0], qr[1])\n",
    "\n",
    "bell.draw(output='mpl')"
   ]
  },
  {
   "cell_type": "code",
   "execution_count": 5,
   "id": "abstract-airfare",
   "metadata": {},
   "outputs": [
    {
     "name": "stdout",
     "output_type": "stream",
     "text": [
      "[0.70710678+0.j 0.        +0.j 0.        +0.j 0.70710678+0.j]\n"
     ]
    }
   ],
   "source": [
    "# Get statevector representation\n",
    "\n",
    "job = execute(bell, Aer.get_backend('statevector_simulator'))\n",
    "psi_bell = job.result().get_statevector(bell)\n",
    "print(psi_bell)"
   ]
  },
  {
   "cell_type": "code",
   "execution_count": 6,
   "id": "short-fetish",
   "metadata": {},
   "outputs": [
    {
     "data": {
      "text/plain": [
       "array([[0.5+0.j, 0. +0.j, 0. +0.j, 0.5+0.j],\n",
       "       [0. +0.j, 0. +0.j, 0. +0.j, 0. +0.j],\n",
       "       [0. +0.j, 0. +0.j, 0. +0.j, 0. +0.j],\n",
       "       [0.5+0.j, 0. +0.j, 0. +0.j, 0.5+0.j]])"
      ]
     },
     "execution_count": 6,
     "metadata": {},
     "output_type": "execute_result"
    }
   ],
   "source": [
    "rho_bell = np.outer(psi_bell, np.conj(psi_bell))\n",
    "rho_bell"
   ]
  },
  {
   "cell_type": "code",
   "execution_count": 7,
   "id": "elegant-fifth",
   "metadata": {},
   "outputs": [
    {
     "data": {
      "image/png": "[encoded data removed]",
      "text/plain": [
       "<Figure size 460.633x204.68 with 1 Axes>"
      ]
     },
     "execution_count": 7,
     "metadata": {},
     "output_type": "execute_result"
    },
    {
     "data": {
      "image/png": "[encoded data removed]",
      "text/plain": [
       "<Figure size 520.833x204.68 with 1 Axes>"
      ]
     },
     "execution_count": 7,
     "metadata": {},
     "output_type": "execute_result"
    },
    {
     "data": {
      "image/png": "[encoded data removed]",
      "text/plain": [
       "<Figure size 400.433x204.68 with 1 Axes>"
      ]
     },
     "execution_count": 7,
     "metadata": {},
     "output_type": "execute_result"
    },
    {
     "data": {
      "image/png": "[encoded data removed]",
      "text/plain": [
       "<Figure size 460.633x204.68 with 1 Axes>"
      ]
     },
     "execution_count": 7,
     "metadata": {},
     "output_type": "execute_result"
    },
    {
     "data": {
      "image/png": "[encoded data removed]",
      "text/plain": [
       "<Figure size 520.833x204.68 with 1 Axes>"
      ]
     },
     "execution_count": 7,
     "metadata": {},
     "output_type": "execute_result"
    },
    {
     "data": {
      "image/png": "[encoded data removed]",
      "text/plain": [
       "<Figure size 460.633x204.68 with 1 Axes>"
      ]
     },
     "execution_count": 7,
     "metadata": {},
     "output_type": "execute_result"
    },
    {
     "data": {
      "image/png": "[encoded data removed]",
      "text/plain": [
       "<Figure size 460.633x204.68 with 1 Axes>"
      ]
     },
     "execution_count": 7,
     "metadata": {},
     "output_type": "execute_result"
    },
    {
     "data": {
      "image/png": "[encoded data removed]",
      "text/plain": [
       "<Figure size 520.833x204.68 with 1 Axes>"
      ]
     },
     "execution_count": 7,
     "metadata": {},
     "output_type": "execute_result"
    },
    {
     "data": {
      "image/png": "[encoded data removed]",
      "text/plain": [
       "<Figure size 400.433x204.68 with 1 Axes>"
      ]
     },
     "execution_count": 7,
     "metadata": {},
     "output_type": "execute_result"
    }
   ],
   "source": [
    "# Creating the tomography circuits\n",
    "\n",
    "qst_bell = state_tomography_circuits(bell, [qr[0],qr[1]])\n",
    "\n",
    "for circuit in qst_bell:\n",
    "    circuit.draw(output='mpl')"
   ]
  },
  {
   "cell_type": "code",
   "execution_count": 8,
   "id": "prompt-journey",
   "metadata": {},
   "outputs": [
    {
     "data": {
      "text/plain": [
       "array([[ 0.517+0.j   , -0.   -0.007j, -0.011+0.001j,  0.494-0.001j],\n",
       "       [-0.   +0.007j,  0.002+0.j   , -0.002+0.j   , -0.001+0.004j],\n",
       "       [-0.011-0.001j, -0.002-0.j   ,  0.002+0.j   , -0.011+0.002j],\n",
       "       [ 0.494+0.001j, -0.001-0.004j, -0.011-0.002j,  0.479+0.j   ]])"
      ]
     },
     "execution_count": 8,
     "metadata": {},
     "output_type": "execute_result"
    }
   ],
   "source": [
    "# Executing and fitting the circuits\n",
    "\n",
    "job = execute(qst_bell, Aer.get_backend('qasm_simulator'), shots=1000)\n",
    "\n",
    "tomo_fitter_bell = StateTomographyFitter(job.result(), qst_bell)\n",
    "\n",
    "# Perform the tomography fit\n",
    "# which outputs a density matrix\n",
    "experimental_bell = tomo_fitter_bell.fit()\n",
    "\n",
    "np.around(experimental_bell, decimals=3)"
   ]
  },
  {
   "cell_type": "markdown",
   "id": "cardiac-nicaragua",
   "metadata": {},
   "source": [
    "<div class=\"alert alert-block alert-info\">\n",
    "    \n",
    "\n",
    "**Fidelity of quantum states**\n",
    "\n",
    "&nbsp;\n",
    "\n",
    "Given two density operators $\\rho$ and $\\sigma$, the fidelity is generally defined as the quantity \n",
    "\n",
    "&nbsp;\n",
    "\n",
    "$$F(\\rho, \\sigma) = \\left[\\operatorname{tr} \\sqrt{\\sqrt\\rho \\sigma\\sqrt\\rho}\\right]^2$$\n",
    "\n",
    "&nbsp;\n",
    "\n",
    "Or, when comparing the fidelity between two pure states\n",
    "\n",
    "\n",
    "$$F(\\rho, \\sigma)=|\\langle\\psi_\\rho|\\psi_\\sigma\\rangle|^2$$\n",
    "\n",
    "</div>"
   ]
  },
  {
   "cell_type": "code",
   "execution_count": 9,
   "id": "developmental-saskatchewan",
   "metadata": {},
   "outputs": [
    {
     "name": "stdout",
     "output_type": "stream",
     "text": [
      "Fit Fidelity = 0.9926180318184924\n"
     ]
    }
   ],
   "source": [
    "# Obtaining reconstructed state fidelity\n",
    "\n",
    "F_bell = state_fidelity(psi_bell, experimental_bell)\n",
    "print('Fit Fidelity =', F_bell)"
   ]
  },
  {
   "cell_type": "markdown",
   "id": "federal-sleeping",
   "metadata": {},
   "source": [
    "## 2.1 Quantum state tomography with measurement noise\n",
    "\n",
    "&nbsp;\n",
    "\n",
    "State reconstruction methods are experimentally useful in the determination of quantum states of physical devices, since we may want to test a device's reliability or suceptibility to noise. \n",
    "\n",
    "But how does tomography when the measurement process itself is noisy? "
   ]
  },
  {
   "cell_type": "code",
   "execution_count": 10,
   "id": "threaded-newman",
   "metadata": {},
   "outputs": [
    {
     "data": {
      "text/plain": [
       "<AccountProvider for IBMQ(hub='ibm-q', group='open', project='main')>"
      ]
     },
     "execution_count": 10,
     "metadata": {},
     "output_type": "execute_result"
    }
   ],
   "source": [
    "IBMQ.load_account()"
   ]
  },
  {
   "cell_type": "code",
   "execution_count": 11,
   "id": "banned-idaho",
   "metadata": {},
   "outputs": [
    {
     "data": {
      "text/plain": [
       "[<IBMQSimulator('ibmq_qasm_simulator') from IBMQ(hub='ibm-q', group='open', project='main')>,\n",
       " <IBMQBackend('ibmqx2') from IBMQ(hub='ibm-q', group='open', project='main')>,\n",
       " <IBMQBackend('ibmq_16_melbourne') from IBMQ(hub='ibm-q', group='open', project='main')>,\n",
       " <IBMQBackend('ibmq_armonk') from IBMQ(hub='ibm-q', group='open', project='main')>,\n",
       " <IBMQBackend('ibmq_athens') from IBMQ(hub='ibm-q', group='open', project='main')>,\n",
       " <IBMQBackend('ibmq_santiago') from IBMQ(hub='ibm-q', group='open', project='main')>,\n",
       " <IBMQBackend('ibmq_lima') from IBMQ(hub='ibm-q', group='open', project='main')>,\n",
       " <IBMQBackend('ibmq_belem') from IBMQ(hub='ibm-q', group='open', project='main')>,\n",
       " <IBMQBackend('ibmq_quito') from IBMQ(hub='ibm-q', group='open', project='main')>,\n",
       " <IBMQSimulator('simulator_statevector') from IBMQ(hub='ibm-q', group='open', project='main')>,\n",
       " <IBMQSimulator('simulator_mps') from IBMQ(hub='ibm-q', group='open', project='main')>,\n",
       " <IBMQSimulator('simulator_extended_stabilizer') from IBMQ(hub='ibm-q', group='open', project='main')>,\n",
       " <IBMQSimulator('simulator_stabilizer') from IBMQ(hub='ibm-q', group='open', project='main')>]"
      ]
     },
     "execution_count": 11,
     "metadata": {},
     "output_type": "execute_result"
    }
   ],
   "source": [
    "provider = IBMQ.get_provider(hub='ibm-q')\n",
    "provider.backends()"
   ]
  },
  {
   "cell_type": "code",
   "execution_count": 12,
   "id": "municipal-privilege",
   "metadata": {},
   "outputs": [
    {
     "data": {
      "application/vnd.jupyter.widget-view+json": {
       "model_id": "9da2fbfd00f94202804c54a3147169c2",
       "version_major": 2,
       "version_minor": 0
      },
      "text/plain": [
       "VBox(children=(HTML(value=\"<h1 style='color:#ffffff;background-color:#000000;padding-top: 1%;padding-bottom: 1…"
      ]
     },
     "metadata": {},
     "output_type": "display_data"
    },
    {
     "data": {
      "text/plain": [
       "<IBMQBackend('ibmq_athens') from IBMQ(hub='ibm-q', group='open', project='main')>"
      ]
     },
     "execution_count": 12,
     "metadata": {},
     "output_type": "execute_result"
    }
   ],
   "source": [
    "provider = IBMQ.get_provider(hub='ibm-q')\n",
    "\n",
    "backend = provider.get_backend('ibmq_athens')\n",
    "\n",
    "backend"
   ]
  },
  {
   "cell_type": "markdown",
   "id": "partial-model",
   "metadata": {},
   "source": [
    "<div class=\"alert alert-block alert-info\">\n",
    "\n",
    "**Noise models**\n",
    "\n",
    "&nbsp;\n",
    "\n",
    "**Aer** simulators allow for the specification of custom noise models.\n",
    "\n",
    "</div>"
   ]
  },
  {
   "cell_type": "raw",
   "id": "sharp-inclusion",
   "metadata": {},
   "source": [
    "# Building a noise model\n",
    "\n",
    "noise_model = noise.NoiseModel()\n",
    "\n",
    "for qi in range(qr.__len__()):\n",
    "    read_err = noise.errors.readout_error.ReadoutError([[0.75, 0.25],[0.1,0.9]])\n",
    "    noise_model.add_readout_error(read_err,[qi])"
   ]
  },
  {
   "cell_type": "code",
   "execution_count": 13,
   "id": "alive-modeling",
   "metadata": {},
   "outputs": [],
   "source": [
    "# Or, for simetric noise\n",
    "\n",
    "noise_rate = 0.1\n",
    "noise_model = noise.NoiseModel()\n",
    "\n",
    "for qi in range(qr.__len__()):\n",
    "    read_err = noise.errors.readout_error.ReadoutError([[1-noise_rate, noise_rate],[noise_rate,1-noise_rate]])\n",
    "    noise_model.add_readout_error(read_err,[qi])"
   ]
  },
  {
   "cell_type": "code",
   "execution_count": 14,
   "id": "hawaiian-baseline",
   "metadata": {},
   "outputs": [
    {
     "name": "stdout",
     "output_type": "stream",
     "text": [
      "Fit Fidelity w/ measuremt noise= 0.7290636193488149\n"
     ]
    }
   ],
   "source": [
    "# We can now re-run the simulation by adding the noise model to the execution inistruction:\n",
    "\n",
    "backend = Aer.get_backend('qasm_simulator')\n",
    "job_tomo_exemp = execute(qst_bell, backend=backend, shots=1000, noise_model=noise_model)\n",
    "\n",
    "tomo_bell  = StateTomographyFitter(job_tomo_exemp.result(), qst_bell)\n",
    "\n",
    "experimental_bell = tomo_bell.fit()\n",
    "\n",
    "F_bell_mn = state_fidelity(psi_bell, experimental_bell)\n",
    "print('Fit Fidelity w/ measuremt noise=', F_bell_mn)"
   ]
  },
  {
   "cell_type": "markdown",
   "id": "moving-reserve",
   "metadata": {},
   "source": [
    "<div class=\"alert alert-block alert-warning\">\n",
    "\n",
    "**Exercise 1**\n",
    "\n",
    "&nbsp;\n",
    "\n",
    "Implement a routine to estimate the fit fidelity of the quantum tomography procedure associated with the `bell` circuit, for measurement noise rates `[0.00, 0.05, 0.10, 0.15, 0.20, 0.25, 0.30, 0.35, 0.40, 0.45, 0.50]`.\n",
    "\n",
    "Use the matplotlib `plt` function to plot the fidelity as function of noise rate.\n",
    "\n",
    "</div>"
   ]
  },
  {
   "cell_type": "raw",
   "id": "acute-familiar",
   "metadata": {},
   "source": [
    "noise_rates =[0.00, 0.05, 0.10, 0.15, 0.20, 0.25, 0.30, 0.35, 0.40, 0.45, 0.50]\n",
    "F_bell=[]\n",
    "    \n",
    "plt.plot(noise_rates, F_bell)"
   ]
  },
  {
   "cell_type": "markdown",
   "id": "owned-going",
   "metadata": {},
   "source": [
    "# 3. Measurement Error Mitigation<a id='mit'></a>\n",
    "\n",
    "The measurement calibration is used to mitigate measurement errors."
   ]
  },
  {
   "cell_type": "code",
   "execution_count": 15,
   "id": "portable-tattoo",
   "metadata": {},
   "outputs": [],
   "source": [
    "# Import measurement calibration functions\n",
    "from qiskit.ignis.mitigation.measurement import (complete_meas_cal, tensored_meas_cal,\n",
    "                                                 CompleteMeasFitter, TensoredMeasFitter)"
   ]
  },
  {
   "cell_type": "markdown",
   "id": "rising-assessment",
   "metadata": {},
   "source": [
    "### Calibration Matrices"
   ]
  },
  {
   "cell_type": "markdown",
   "id": "interested-building",
   "metadata": {},
   "source": [
    "**1** Generate a list of measurement calibration circuits.\n",
    "\n",
    "Each circuit creates a basis state.\n",
    "\n",
    "Since there we measure 5 qubits, we need $2^5 = 32$ calibration circuits."
   ]
  },
  {
   "cell_type": "code",
   "execution_count": 16,
   "id": "miniature-burning",
   "metadata": {},
   "outputs": [],
   "source": [
    "# Generate the calibration circuits\n",
    "qr = QuantumRegister(2)\n",
    "meas_calibs, state_labels = complete_meas_cal(qubit_list=[0,1], qr=qr, circlabel='mcal')"
   ]
  },
  {
   "cell_type": "code",
   "execution_count": 17,
   "id": "impressed-nickel",
   "metadata": {},
   "outputs": [
    {
     "data": {
      "text/plain": [
       "['00', '01', '10', '11']"
      ]
     },
     "execution_count": 17,
     "metadata": {},
     "output_type": "execute_result"
    }
   ],
   "source": [
    "state_labels"
   ]
  },
  {
   "cell_type": "markdown",
   "id": "elementary-dollar",
   "metadata": {},
   "source": [
    "#### Computing the calibration matrix"
   ]
  },
  {
   "cell_type": "markdown",
   "id": "alternate-disorder",
   "metadata": {},
   "source": [
    "If there was no noise in the device the calibration matrix would be a identity matrix $32 \\times 32$. Since we compute this matrix with a real quantum device there is going to be some noise. \n",
    "\n",
    "We could do this step with simulated noise from Qiskit Aer. "
   ]
  },
  {
   "cell_type": "raw",
   "id": "threatened-ordering",
   "metadata": {},
   "source": [
    "%qiskit_job_watcher"
   ]
  },
  {
   "cell_type": "code",
   "execution_count": 18,
   "id": "technological-baltimore",
   "metadata": {},
   "outputs": [],
   "source": [
    "backend = provider.get_backend('ibmq_athens')"
   ]
  },
  {
   "cell_type": "raw",
   "id": "charged-suicide",
   "metadata": {},
   "source": [
    "job_ignis = execute(meas_calibs, backend=backend)\n",
    "\n",
    "jobID_run_ignis = job_ignis.job_id()\n",
    "\n",
    "print('JOB ID: {}'.format(jobID_run_ignis))"
   ]
  },
  {
   "cell_type": "code",
   "execution_count": 19,
   "id": "adapted-horizon",
   "metadata": {},
   "outputs": [],
   "source": [
    "job_get=backend.retrieve_job(\"608678d1262a536ab2a08a3c\")\n",
    "\n",
    "cal_results = job_get.result()"
   ]
  },
  {
   "cell_type": "code",
   "execution_count": 20,
   "id": "reported-journal",
   "metadata": {},
   "outputs": [
    {
     "data": {
      "image/png": "[encoded data removed]",
      "text/plain": [
       "<Figure size 432x288 with 2 Axes>"
      ]
     },
     "metadata": {
      "needs_background": "light"
     },
     "output_type": "display_data"
    }
   ],
   "source": [
    "meas_fitter = CompleteMeasFitter(cal_results, state_labels, circlabel='mcal')\n",
    "\n",
    "# Plot the calibration matrix\n",
    "meas_fitter.plot_calibration()"
   ]
  },
  {
   "cell_type": "markdown",
   "id": "professional-orange",
   "metadata": {},
   "source": [
    "#### Analysing results"
   ]
  },
  {
   "cell_type": "markdown",
   "id": "described-modem",
   "metadata": {},
   "source": [
    "The average assignment fidelity is the trace of the previous matrix."
   ]
  },
  {
   "cell_type": "code",
   "execution_count": 21,
   "id": "short-sunday",
   "metadata": {},
   "outputs": [
    {
     "name": "stdout",
     "output_type": "stream",
     "text": [
      "Average Measurement Fidelity: 0.971924\n"
     ]
    }
   ],
   "source": [
    "# What is the measurement fidelity?\n",
    "print(\"Average Measurement Fidelity: %f\" % meas_fitter.readout_fidelity())"
   ]
  },
  {
   "cell_type": "markdown",
   "id": "global-rates",
   "metadata": {},
   "source": [
    "### Applying Calibration"
   ]
  },
  {
   "cell_type": "code",
   "execution_count": 22,
   "id": "complete-subscriber",
   "metadata": {},
   "outputs": [
    {
     "data": {
      "text/html": [
       "<pre style=\"word-wrap: normal;white-space: pre;background: #fff0;line-height: 1.1;font-family: &quot;Courier New&quot;,Courier,monospace\">        ┌───┐      ░ ┌─┐   \n",
       "  q0_0: ┤ H ├──■───░─┤M├───\n",
       "        └───┘┌─┴─┐ ░ └╥┘┌─┐\n",
       "  q0_1: ─────┤ X ├─░──╫─┤M├\n",
       "             └───┘ ░  ║ └╥┘\n",
       "meas: 2/══════════════╩══╩═\n",
       "                      0  1 </pre>"
      ],
      "text/plain": [
       "        ┌───┐      ░ ┌─┐   \n",
       "  q0_0: ┤ H ├──■───░─┤M├───\n",
       "        └───┘┌─┴─┐ ░ └╥┘┌─┐\n",
       "  q0_1: ─────┤ X ├─░──╫─┤M├\n",
       "             └───┘ ░  ║ └╥┘\n",
       "meas: 2/══════════════╩══╩═\n",
       "                      0  1 "
      ]
     },
     "execution_count": 22,
     "metadata": {},
     "output_type": "execute_result"
    }
   ],
   "source": [
    "bell.measure_all()\n",
    "bell.draw()"
   ]
  },
  {
   "cell_type": "raw",
   "id": "featured-newport",
   "metadata": {},
   "source": [
    "job_r = execute(bell, backend)\n",
    "\n",
    "jobID_r = job_r.job_id()\n",
    "\n",
    "print('JOB ID: {}'.format(jobID_r))"
   ]
  },
  {
   "cell_type": "code",
   "execution_count": 23,
   "id": "athletic-jordan",
   "metadata": {},
   "outputs": [],
   "source": [
    "job_get=backend.retrieve_job(\"60869fef262a5395dca08b99\")\n",
    "\n",
    "result_r = job_get.result()\n",
    "counts_run = result_r.get_counts(bell)"
   ]
  },
  {
   "cell_type": "code",
   "execution_count": 24,
   "id": "posted-feeding",
   "metadata": {},
   "outputs": [],
   "source": [
    "backend = Aer.get_backend(\"qasm_simulator\")"
   ]
  },
  {
   "cell_type": "code",
   "execution_count": 25,
   "id": "bizarre-regression",
   "metadata": {},
   "outputs": [],
   "source": [
    "result = execute(bell, backend).result()\n",
    "counts_sim = result.get_counts(bell)"
   ]
  },
  {
   "cell_type": "markdown",
   "id": "christian-socket",
   "metadata": {},
   "source": [
    "Our raw data can be the `result_r`. We can apply a filter based on the calibration matrix to get mitigated counts."
   ]
  },
  {
   "cell_type": "code",
   "execution_count": 26,
   "id": "miniature-venezuela",
   "metadata": {},
   "outputs": [],
   "source": [
    "# Get the filter object\n",
    "meas_filter = meas_fitter.filter\n",
    "\n",
    "# Results with mitigation\n",
    "mitigated_results = meas_filter.apply(result_r)\n",
    "mitigated_counts = mitigated_results.get_counts()"
   ]
  },
  {
   "cell_type": "code",
   "execution_count": 27,
   "id": "juvenile-fighter",
   "metadata": {
    "scrolled": true
   },
   "outputs": [
    {
     "data": {
      "image/png": "[encoded data removed]",
      "text/plain": [
       "<Figure size 504x360 with 1 Axes>"
      ]
     },
     "execution_count": 27,
     "metadata": {},
     "output_type": "execute_result"
    }
   ],
   "source": [
    "plot_histogram([counts_run, mitigated_counts, counts_sim], legend=['raw', 'mitigated', 'ideal'])"
   ]
  },
  {
   "cell_type": "markdown",
   "id": "lined-suspect",
   "metadata": {},
   "source": [
    "### Mitigating error in Example with Measurement Noise "
   ]
  },
  {
   "cell_type": "code",
   "execution_count": 28,
   "id": "found-jumping",
   "metadata": {},
   "outputs": [
    {
     "name": "stdout",
     "output_type": "stream",
     "text": [
      "State fidelity (no correction): F = 0.72906\n",
      "State fidelity (w/ correction): F = 0.75998\n"
     ]
    }
   ],
   "source": [
    "#no correction\n",
    "print('State fidelity (no correction): F = {:.5f}'.format(F_bell_mn))\n",
    "\n",
    "#correct data\n",
    "correct_tomo_results = meas_fitter.filter.apply(job_tomo_exemp.result())\n",
    "tomo_bell_mit = StateTomographyFitter(correct_tomo_results, qst_bell)\n",
    "rho_fit_bell_mit = tomo_bell_mit.fit(method='lstsq')\n",
    "F_bell_mit = state_fidelity(rho_fit_bell_mit, psi_bell)\n",
    "print('State fidelity (w/ correction): F = {:.5f}'.format(F_bell_mit))"
   ]
  },
  {
   "cell_type": "markdown",
   "id": "welsh-track",
   "metadata": {},
   "source": [
    "# 4. [Bernstein-Vazirani Algorithm](https://qiskit.org/textbook/ch-algorithms/bernstein-vazirani.html) <a id='bva'></a>\n",
    "\n",
    "In the [Bernstein-Vazirani algorithm](https://epubs.siam.org/doi/10.1137/S0097539796300921), $f$ is a function with input $x$, which returns $x$ bitwise product with the string $s$, i.e. $$f(x)=s\\cdot x ( \\mod 2)$$ \n",
    "\n",
    "The goal is to find the $s$. \n",
    "\n",
    "<img src=\"https://qiskit.org/textbook/ch-algorithms/images/bv2.svg\" width=\"500 px\" align=\"center\">\n"
   ]
  },
  {
   "cell_type": "markdown",
   "id": "specialized-assistant",
   "metadata": {},
   "source": [
    "Initialise the inputs qubits to the $|0\\rangle ^{\\otimes n}$ state, and output qubit to $|−\\rangle$."
   ]
  },
  {
   "cell_type": "code",
   "execution_count": null,
   "id": "formal-james",
   "metadata": {},
   "outputs": [],
   "source": []
  },
  {
   "cell_type": "markdown",
   "id": "adverse-insertion",
   "metadata": {},
   "source": [
    "Apply Hadamard gates to the input register."
   ]
  },
  {
   "cell_type": "code",
   "execution_count": null,
   "id": "later-height",
   "metadata": {},
   "outputs": [],
   "source": []
  },
  {
   "cell_type": "markdown",
   "id": "adapted-wrestling",
   "metadata": {},
   "source": [
    "Oracle for $s = 1011$."
   ]
  },
  {
   "cell_type": "code",
   "execution_count": null,
   "id": "constant-jurisdiction",
   "metadata": {},
   "outputs": [],
   "source": []
  },
  {
   "cell_type": "markdown",
   "id": "formal-diagnosis",
   "metadata": {},
   "source": [
    "Apply Hadamard gates to the input register."
   ]
  },
  {
   "cell_type": "code",
   "execution_count": null,
   "id": "usual-walter",
   "metadata": {},
   "outputs": [],
   "source": []
  },
  {
   "cell_type": "markdown",
   "id": "supreme-slope",
   "metadata": {},
   "source": [
    "Measure."
   ]
  },
  {
   "cell_type": "code",
   "execution_count": null,
   "id": "passing-shield",
   "metadata": {},
   "outputs": [],
   "source": []
  }
 ],
 "metadata": {
  "kernelspec": {
   "display_name": "Python 3",
   "language": "python",
   "name": "python3"
  },
  "language_info": {
   "codemirror_mode": {
    "name": "ipython",
    "version": 3
   },
   "file_extension": ".py",
   "mimetype": "text/x-python",
   "name": "python",
   "nbconvert_exporter": "python",
   "pygments_lexer": "ipython3",
   "version": "3.9.2"
  }
 },
 "nbformat": 4,
 "nbformat_minor": 5
}
